{
 "cells": [
  {
   "attachments": {},
   "cell_type": "markdown",
   "id": "0c1e2a90",
   "metadata": {
    "_cell_guid": "b1076dfc-b9ad-4769-8c92-a6c4dae69d19",
    "_uuid": "8f2839f25d086af736a60e9eeb907d3b93b6e0e5",
    "papermill": {
     "duration": 0.015232,
     "end_time": "2023-05-01T16:22:31.757962",
     "exception": false,
     "start_time": "2023-05-01T16:22:31.742730",
     "status": "completed"
    },
    "tags": []
   },
   "source": [
    "# Introduction.\n",
    "\n",
    "1. Loading dataset (CIFAR10) - Transforming images\n",
    "2. VGG-16 with modification to network head\n",
    "3. Using pre-trained models\n",
    "4. Storing intermediate models\n",
    "5. Resnet\n",
    "6. Inception v3 <cr>\n",
    "\n",
    "Most of the concepts explained in this Notebook are learnt from course [Deep Learning](https://padhai.onefourthlabs.in/courses/dl-feb-2019)"
   ]
  },
  {
   "cell_type": "code",
   "execution_count": 1,
   "id": "c12ac535",
   "metadata": {
    "_kg_hide-output": true,
    "execution": {
     "iopub.execute_input": "2023-05-01T16:22:31.786656Z",
     "iopub.status.busy": "2023-05-01T16:22:31.785942Z",
     "iopub.status.idle": "2023-05-01T16:22:42.252871Z",
     "shell.execute_reply": "2023-05-01T16:22:42.251728Z"
    },
    "papermill": {
     "duration": 10.484452,
     "end_time": "2023-05-01T16:22:42.255494",
     "exception": false,
     "start_time": "2023-05-01T16:22:31.771042",
     "status": "completed"
    },
    "tags": []
   },
   "outputs": [
    {
     "name": "stdout",
     "output_type": "stream",
     "text": [
      "Requirement already satisfied: torch in d:\\condapyenvs\\d2l\\lib\\site-packages (2.0.1+cu117)\n",
      "Requirement already satisfied: torchvision in d:\\condapyenvs\\d2l\\lib\\site-packages (0.15.2+cu117)\n",
      "Requirement already satisfied: filelock in d:\\condapyenvs\\d2l\\lib\\site-packages (from torch) (3.9.0)\n",
      "Requirement already satisfied: typing-extensions in d:\\condapyenvs\\d2l\\lib\\site-packages (from torch) (4.5.0)\n",
      "Requirement already satisfied: sympy in d:\\condapyenvs\\d2l\\lib\\site-packages (from torch) (1.11.1)\n",
      "Requirement already satisfied: networkx in d:\\condapyenvs\\d2l\\lib\\site-packages (from torch) (3.0)\n",
      "Requirement already satisfied: jinja2 in d:\\condapyenvs\\d2l\\lib\\site-packages (from torch) (3.1.2)\n",
      "Requirement already satisfied: numpy in d:\\condapyenvs\\d2l\\lib\\site-packages (from torchvision) (1.21.5)\n",
      "Requirement already satisfied: requests in d:\\condapyenvs\\d2l\\lib\\site-packages (from torchvision) (2.25.1)\n",
      "Requirement already satisfied: pillow!=8.3.*,>=5.3.0 in d:\\condapyenvs\\d2l\\lib\\site-packages (from torchvision) (9.5.0)\n",
      "Requirement already satisfied: MarkupSafe>=2.0 in d:\\condapyenvs\\d2l\\lib\\site-packages (from jinja2->torch) (2.1.2)\n",
      "Requirement already satisfied: chardet<5,>=3.0.2 in d:\\condapyenvs\\d2l\\lib\\site-packages (from requests->torchvision) (4.0.0)\n",
      "Requirement already satisfied: idna<3,>=2.5 in d:\\condapyenvs\\d2l\\lib\\site-packages (from requests->torchvision) (2.10)\n",
      "Requirement already satisfied: urllib3<1.27,>=1.21.1 in d:\\condapyenvs\\d2l\\lib\\site-packages (from requests->torchvision) (1.26.15)\n",
      "Requirement already satisfied: certifi>=2017.4.17 in d:\\condapyenvs\\d2l\\lib\\site-packages (from requests->torchvision) (2023.5.7)\n",
      "Requirement already satisfied: mpmath>=0.19 in d:\\condapyenvs\\d2l\\lib\\site-packages (from sympy->torch) (1.2.1)\n"
     ]
    }
   ],
   "source": [
    "! pip3 install torch torchvision"
   ]
  },
  {
   "cell_type": "code",
   "execution_count": 2,
   "id": "e9566fcb",
   "metadata": {
    "execution": {
     "iopub.execute_input": "2023-05-01T16:22:42.281668Z",
     "iopub.status.busy": "2023-05-01T16:22:42.280978Z",
     "iopub.status.idle": "2023-05-01T16:22:44.906051Z",
     "shell.execute_reply": "2023-05-01T16:22:44.904976Z"
    },
    "papermill": {
     "duration": 2.640475,
     "end_time": "2023-05-01T16:22:44.908939",
     "exception": false,
     "start_time": "2023-05-01T16:22:42.268464",
     "status": "completed"
    },
    "tags": []
   },
   "outputs": [],
   "source": [
    "import matplotlib.pyplot as plt\n",
    "import numpy as np\n",
    "\n",
    "import torch\n",
    "import torchvision\n",
    "import torchvision.transforms as transforms\n",
    "import torch.nn as nn\n",
    "import torch.optim as optim"
   ]
  },
  {
   "cell_type": "code",
   "execution_count": 3,
   "id": "d673b47e",
   "metadata": {
    "execution": {
     "iopub.execute_input": "2023-05-01T16:22:44.933457Z",
     "iopub.status.busy": "2023-05-01T16:22:44.932697Z",
     "iopub.status.idle": "2023-05-01T16:22:44.996312Z",
     "shell.execute_reply": "2023-05-01T16:22:44.995234Z"
    },
    "papermill": {
     "duration": 0.078618,
     "end_time": "2023-05-01T16:22:44.998841",
     "exception": false,
     "start_time": "2023-05-01T16:22:44.920223",
     "status": "completed"
    },
    "tags": []
   },
   "outputs": [
    {
     "name": "stdout",
     "output_type": "stream",
     "text": [
      "cuda:0\n"
     ]
    }
   ],
   "source": [
    "device = torch.device(\"cuda:0\" if torch.cuda.is_available() else \"cpu\")\n",
    "print(device)"
   ]
  },
  {
   "attachments": {},
   "cell_type": "markdown",
   "id": "717ee305",
   "metadata": {
    "papermill": {
     "duration": 0.010764,
     "end_time": "2023-05-01T16:22:45.021026",
     "exception": false,
     "start_time": "2023-05-01T16:22:45.010262",
     "status": "completed"
    },
    "tags": []
   },
   "source": [
    "# Dataset, transforms, and visualisation"
   ]
  },
  {
   "cell_type": "code",
   "execution_count": 4,
   "id": "969794e9",
   "metadata": {
    "execution": {
     "iopub.execute_input": "2023-05-01T16:22:45.044690Z",
     "iopub.status.busy": "2023-05-01T16:22:45.044350Z",
     "iopub.status.idle": "2023-05-01T16:22:45.050791Z",
     "shell.execute_reply": "2023-05-01T16:22:45.049697Z"
    },
    "papermill": {
     "duration": 0.020591,
     "end_time": "2023-05-01T16:22:45.052913",
     "exception": false,
     "start_time": "2023-05-01T16:22:45.032322",
     "status": "completed"
    },
    "tags": []
   },
   "outputs": [],
   "source": [
    "# Data Augumentation. \n",
    "\n",
    "transform_train = transforms.Compose([\n",
    "    transforms.RandomResizedCrop(224),  # crop image at random and resizes it to 224.\n",
    "    transforms.ToTensor(),\n",
    "    transforms.Normalize((0.5, 0.5, 0.5), (0.5, 0.5, 0.5)),\n",
    "    ])\n",
    "\n",
    "transform_test = transforms.Compose([\n",
    "    transforms.RandomResizedCrop(224), \n",
    "    transforms.ToTensor(),\n",
    "    transforms.Normalize((0.5, 0.5, 0.5), (0.5, 0.5, 0.5)),\n",
    "    ])"
   ]
  },
  {
   "cell_type": "code",
   "execution_count": 5,
   "id": "445ea58b",
   "metadata": {
    "_kg_hide-output": true,
    "execution": {
     "iopub.execute_input": "2023-05-01T16:22:45.076589Z",
     "iopub.status.busy": "2023-05-01T16:22:45.075770Z",
     "iopub.status.idle": "2023-05-01T16:22:52.153914Z",
     "shell.execute_reply": "2023-05-01T16:22:52.152888Z"
    },
    "papermill": {
     "duration": 7.092735,
     "end_time": "2023-05-01T16:22:52.156409",
     "exception": false,
     "start_time": "2023-05-01T16:22:45.063674",
     "status": "completed"
    },
    "tags": []
   },
   "outputs": [
    {
     "name": "stdout",
     "output_type": "stream",
     "text": [
      "Files already downloaded and verified\n",
      "Files already downloaded and verified\n"
     ]
    }
   ],
   "source": [
    "trainset = torchvision.datasets.CIFAR10(root='./data', train=True, \n",
    "                                        download=True, \n",
    "                                        transform=transform_train)\n",
    "testset = torchvision.datasets.CIFAR10(root='./data', train=False, \n",
    "                                        download=True, \n",
    "                                        transform=transform_test)"
   ]
  },
  {
   "cell_type": "code",
   "execution_count": 6,
   "id": "6c316c1c",
   "metadata": {
    "execution": {
     "iopub.execute_input": "2023-05-01T16:22:52.182298Z",
     "iopub.status.busy": "2023-05-01T16:22:52.180499Z",
     "iopub.status.idle": "2023-05-01T16:22:52.186496Z",
     "shell.execute_reply": "2023-05-01T16:22:52.185512Z"
    },
    "papermill": {
     "duration": 0.020724,
     "end_time": "2023-05-01T16:22:52.188750",
     "exception": false,
     "start_time": "2023-05-01T16:22:52.168026",
     "status": "completed"
    },
    "tags": []
   },
   "outputs": [],
   "source": [
    "num_classes = 10\n",
    "batch_size = 4\n",
    "trainloader = torch.utils.data.DataLoader(trainset, batch_size=batch_size, shuffle=True)"
   ]
  },
  {
   "cell_type": "code",
   "execution_count": 7,
   "id": "93488db8",
   "metadata": {
    "execution": {
     "iopub.execute_input": "2023-05-01T16:22:52.212579Z",
     "iopub.status.busy": "2023-05-01T16:22:52.212290Z",
     "iopub.status.idle": "2023-05-01T16:22:52.344105Z",
     "shell.execute_reply": "2023-05-01T16:22:52.342932Z"
    },
    "papermill": {
     "duration": 0.146366,
     "end_time": "2023-05-01T16:22:52.346511",
     "exception": false,
     "start_time": "2023-05-01T16:22:52.200145",
     "status": "completed"
    },
    "tags": []
   },
   "outputs": [
    {
     "name": "stdout",
     "output_type": "stream",
     "text": [
      "torch.Size([4, 3, 224, 224])\n",
      "torch.Size([3, 224, 224])\n",
      "8\n"
     ]
    }
   ],
   "source": [
    "dataiter = iter(trainloader)\n",
    "images, labels = next(dataiter)\n",
    "\n",
    "print(images.shape)\n",
    "\n",
    "print(images[1].shape)\n",
    "print(labels[1].item())"
   ]
  },
  {
   "cell_type": "code",
   "execution_count": 8,
   "id": "0d26f235",
   "metadata": {
    "execution": {
     "iopub.execute_input": "2023-05-01T16:22:52.373610Z",
     "iopub.status.busy": "2023-05-01T16:22:52.373293Z",
     "iopub.status.idle": "2023-05-01T16:22:52.380038Z",
     "shell.execute_reply": "2023-05-01T16:22:52.378932Z"
    },
    "papermill": {
     "duration": 0.02414,
     "end_time": "2023-05-01T16:22:52.382270",
     "exception": false,
     "start_time": "2023-05-01T16:22:52.358130",
     "status": "completed"
    },
    "tags": []
   },
   "outputs": [],
   "source": [
    "def imshow(img, title):\n",
    "    npimg = img.numpy() / 2 + 0.5 # converting the image to to numpy and un-normalise it.\n",
    "    plt.figure(figsize=(batch_size, 1))\n",
    "    plt.axis('off')\n",
    "    plt.imshow(np.transpose(npimg, (1, 2, 0)))\n",
    "    plt.title(title)\n",
    "    plt.show()"
   ]
  },
  {
   "cell_type": "code",
   "execution_count": 9,
   "id": "93ec1cc2",
   "metadata": {
    "execution": {
     "iopub.execute_input": "2023-05-01T16:22:52.408357Z",
     "iopub.status.busy": "2023-05-01T16:22:52.407388Z",
     "iopub.status.idle": "2023-05-01T16:22:52.414363Z",
     "shell.execute_reply": "2023-05-01T16:22:52.413225Z"
    },
    "papermill": {
     "duration": 0.021628,
     "end_time": "2023-05-01T16:22:52.416623",
     "exception": false,
     "start_time": "2023-05-01T16:22:52.394995",
     "status": "completed"
    },
    "tags": []
   },
   "outputs": [],
   "source": [
    "def show_batch_images(dataloader):\n",
    "    images, labels = next(iter(dataloader))\n",
    "    img = torchvision.utils.make_grid(images)\n",
    "    imshow(img, title=[str(x.item()) for x in labels])"
   ]
  },
  {
   "cell_type": "code",
   "execution_count": 10,
   "id": "6bb1dc17",
   "metadata": {
    "execution": {
     "iopub.execute_input": "2023-05-01T16:22:52.441187Z",
     "iopub.status.busy": "2023-05-01T16:22:52.440346Z",
     "iopub.status.idle": "2023-05-01T16:22:53.022987Z",
     "shell.execute_reply": "2023-05-01T16:22:53.021974Z"
    },
    "papermill": {
     "duration": 0.598488,
     "end_time": "2023-05-01T16:22:53.026506",
     "exception": false,
     "start_time": "2023-05-01T16:22:52.428018",
     "status": "completed"
    },
    "tags": []
   },
   "outputs": [
    {
     "data": {
      "image/png": "[encoded data removed]",
      "text/plain": [
       "<Figure size 400x100 with 1 Axes>"
      ]
     },
     "metadata": {},
     "output_type": "display_data"
    },
    {
     "data": {
      "image/png": "[encoded data removed]",
      "text/plain": [
       "<Figure size 400x100 with 1 Axes>"
      ]
     },
     "metadata": {},
     "output_type": "display_data"
    },
    {
     "data": {
      "image/png": "[encoded data removed]",
      "text/plain": [
       "<Figure size 400x100 with 1 Axes>"
      ]
     },
     "metadata": {},
     "output_type": "display_data"
    },
    {
     "data": {
      "image/png": "[encoded data removed]",
      "text/plain": [
       "<Figure size 400x100 with 1 Axes>"
      ]
     },
     "metadata": {},
     "output_type": "display_data"
    }
   ],
   "source": [
    "for i in range(4):\n",
    "    show_batch_images(trainloader)"
   ]
  },
  {
   "attachments": {},
   "cell_type": "markdown",
   "id": "b5156dc7",
   "metadata": {
    "papermill": {
     "duration": 0.029786,
     "end_time": "2023-05-01T16:22:53.092836",
     "exception": false,
     "start_time": "2023-05-01T16:22:53.063050",
     "status": "completed"
    },
    "tags": []
   },
   "source": [
    "#  VGG-16\n",
    "https://pytorch.org/vision/main/models/vgg.html"
   ]
  },
  {
   "cell_type": "code",
   "execution_count": 11,
   "id": "444a5b41",
   "metadata": {
    "execution": {
     "iopub.execute_input": "2023-05-01T16:22:53.121640Z",
     "iopub.status.busy": "2023-05-01T16:22:53.121299Z",
     "iopub.status.idle": "2023-05-01T16:22:53.126275Z",
     "shell.execute_reply": "2023-05-01T16:22:53.125122Z"
    },
    "papermill": {
     "duration": 0.02221,
     "end_time": "2023-05-01T16:22:53.128622",
     "exception": false,
     "start_time": "2023-05-01T16:22:53.106412",
     "status": "completed"
    },
    "tags": []
   },
   "outputs": [],
   "source": [
    "from torchvision import models"
   ]
  },
  {
   "cell_type": "code",
   "execution_count": 12,
   "id": "80a88b64",
   "metadata": {
    "execution": {
     "iopub.execute_input": "2023-05-01T16:22:53.157135Z",
     "iopub.status.busy": "2023-05-01T16:22:53.156770Z",
     "iopub.status.idle": "2023-05-01T16:22:55.323475Z",
     "shell.execute_reply": "2023-05-01T16:22:55.322333Z"
    },
    "papermill": {
     "duration": 2.184395,
     "end_time": "2023-05-01T16:22:55.326387",
     "exception": false,
     "start_time": "2023-05-01T16:22:53.141992",
     "status": "completed"
    },
    "tags": []
   },
   "outputs": [],
   "source": [
    "vgg = models.vgg16_bn() #bn stands for batch normalization."
   ]
  },
  {
   "cell_type": "code",
   "execution_count": 13,
   "id": "597a9fde",
   "metadata": {
    "_kg_hide-output": true,
    "execution": {
     "iopub.execute_input": "2023-05-01T16:22:55.397969Z",
     "iopub.status.busy": "2023-05-01T16:22:55.397392Z",
     "iopub.status.idle": "2023-05-01T16:22:55.410518Z",
     "shell.execute_reply": "2023-05-01T16:22:55.409377Z"
    },
    "papermill": {
     "duration": 0.05509,
     "end_time": "2023-05-01T16:22:55.414299",
     "exception": false,
     "start_time": "2023-05-01T16:22:55.359209",
     "status": "completed"
    },
    "tags": []
   },
   "outputs": [
    {
     "name": "stdout",
     "output_type": "stream",
     "text": [
      "VGG(\n",
      "  (features): Sequential(\n",
      "    (0): Conv2d(3, 64, kernel_size=(3, 3), stride=(1, 1), padding=(1, 1))\n",
      "    (1): BatchNorm2d(64, eps=1e-05, momentum=0.1, affine=True, track_running_stats=True)\n",
      "    (2): ReLU(inplace=True)\n",
      "    (3): Conv2d(64, 64, kernel_size=(3, 3), stride=(1, 1), padding=(1, 1))\n",
      "    (4): BatchNorm2d(64, eps=1e-05, momentum=0.1, affine=True, track_running_stats=True)\n",
      "    (5): ReLU(inplace=True)\n",
      "    (6): MaxPool2d(kernel_size=2, stride=2, padding=0, dilation=1, ceil_mode=False)\n",
      "    (7): Conv2d(64, 128, kernel_size=(3, 3), stride=(1, 1), padding=(1, 1))\n",
      "    (8): BatchNorm2d(128, eps=1e-05, momentum=0.1, affine=True, track_running_stats=True)\n",
      "    (9): ReLU(inplace=True)\n",
      "    (10): Conv2d(128, 128, kernel_size=(3, 3), stride=(1, 1), padding=(1, 1))\n",
      "    (11): BatchNorm2d(128, eps=1e-05, momentum=0.1, affine=True, track_running_stats=True)\n",
      "    (12): ReLU(inplace=True)\n",
      "    (13): MaxPool2d(kernel_size=2, stride=2, padding=0, dilation=1, ceil_mode=False)\n",
      "    (14): Conv2d(128, 256, kernel_size=(3, 3), stride=(1, 1), padding=(1, 1))\n",
      "    (15): BatchNorm2d(256, eps=1e-05, momentum=0.1, affine=True, track_running_stats=True)\n",
      "    (16): ReLU(inplace=True)\n",
      "    (17): Conv2d(256, 256, kernel_size=(3, 3), stride=(1, 1), padding=(1, 1))\n",
      "    (18): BatchNorm2d(256, eps=1e-05, momentum=0.1, affine=True, track_running_stats=True)\n",
      "    (19): ReLU(inplace=True)\n",
      "    (20): Conv2d(256, 256, kernel_size=(3, 3), stride=(1, 1), padding=(1, 1))\n",
      "    (21): BatchNorm2d(256, eps=1e-05, momentum=0.1, affine=True, track_running_stats=True)\n",
      "    (22): ReLU(inplace=True)\n",
      "    (23): MaxPool2d(kernel_size=2, stride=2, padding=0, dilation=1, ceil_mode=False)\n",
      "    (24): Conv2d(256, 512, kernel_size=(3, 3), stride=(1, 1), padding=(1, 1))\n",
      "    (25): BatchNorm2d(512, eps=1e-05, momentum=0.1, affine=True, track_running_stats=True)\n",
      "    (26): ReLU(inplace=True)\n",
      "    (27): Conv2d(512, 512, kernel_size=(3, 3), stride=(1, 1), padding=(1, 1))\n",
      "    (28): BatchNorm2d(512, eps=1e-05, momentum=0.1, affine=True, track_running_stats=True)\n",
      "    (29): ReLU(inplace=True)\n",
      "    (30): Conv2d(512, 512, kernel_size=(3, 3), stride=(1, 1), padding=(1, 1))\n",
      "    (31): BatchNorm2d(512, eps=1e-05, momentum=0.1, affine=True, track_running_stats=True)\n",
      "    (32): ReLU(inplace=True)\n",
      "    (33): MaxPool2d(kernel_size=2, stride=2, padding=0, dilation=1, ceil_mode=False)\n",
      "    (34): Conv2d(512, 512, kernel_size=(3, 3), stride=(1, 1), padding=(1, 1))\n",
      "    (35): BatchNorm2d(512, eps=1e-05, momentum=0.1, affine=True, track_running_stats=True)\n",
      "    (36): ReLU(inplace=True)\n",
      "    (37): Conv2d(512, 512, kernel_size=(3, 3), stride=(1, 1), padding=(1, 1))\n",
      "    (38): BatchNorm2d(512, eps=1e-05, momentum=0.1, affine=True, track_running_stats=True)\n",
      "    (39): ReLU(inplace=True)\n",
      "    (40): Conv2d(512, 512, kernel_size=(3, 3), stride=(1, 1), padding=(1, 1))\n",
      "    (41): BatchNorm2d(512, eps=1e-05, momentum=0.1, affine=True, track_running_stats=True)\n",
      "    (42): ReLU(inplace=True)\n",
      "    (43): MaxPool2d(kernel_size=2, stride=2, padding=0, dilation=1, ceil_mode=False)\n",
      "  )\n",
      "  (avgpool): AdaptiveAvgPool2d(output_size=(7, 7))\n",
      "  (classifier): Sequential(\n",
      "    (0): Linear(in_features=25088, out_features=4096, bias=True)\n",
      "    (1): ReLU(inplace=True)\n",
      "    (2): Dropout(p=0.5, inplace=False)\n",
      "    (3): Linear(in_features=4096, out_features=4096, bias=True)\n",
      "    (4): ReLU(inplace=True)\n",
      "    (5): Dropout(p=0.5, inplace=False)\n",
      "    (6): Linear(in_features=4096, out_features=1000, bias=True)\n",
      "  )\n",
      ")\n"
     ]
    }
   ],
   "source": [
    "print(vgg)"
   ]
  },
  {
   "cell_type": "code",
   "execution_count": 14,
   "id": "6071cc55",
   "metadata": {
    "execution": {
     "iopub.execute_input": "2023-05-01T16:22:55.493261Z",
     "iopub.status.busy": "2023-05-01T16:22:55.491916Z",
     "iopub.status.idle": "2023-05-01T16:22:55.503665Z",
     "shell.execute_reply": "2023-05-01T16:22:55.502459Z"
    },
    "papermill": {
     "duration": 0.052164,
     "end_time": "2023-05-01T16:22:55.505741",
     "exception": false,
     "start_time": "2023-05-01T16:22:55.453577",
     "status": "completed"
    },
    "tags": []
   },
   "outputs": [
    {
     "name": "stdout",
     "output_type": "stream",
     "text": [
      "Conv2d(3, 64, kernel_size=(3, 3), stride=(1, 1), padding=(1, 1))\n"
     ]
    }
   ],
   "source": [
    "print(vgg.features[0])"
   ]
  },
  {
   "cell_type": "code",
   "execution_count": 15,
   "id": "83577b7f",
   "metadata": {
    "execution": {
     "iopub.execute_input": "2023-05-01T16:22:55.536140Z",
     "iopub.status.busy": "2023-05-01T16:22:55.534612Z",
     "iopub.status.idle": "2023-05-01T16:22:55.540791Z",
     "shell.execute_reply": "2023-05-01T16:22:55.539388Z"
    },
    "papermill": {
     "duration": 0.023222,
     "end_time": "2023-05-01T16:22:55.542967",
     "exception": false,
     "start_time": "2023-05-01T16:22:55.519745",
     "status": "completed"
    },
    "tags": []
   },
   "outputs": [
    {
     "name": "stdout",
     "output_type": "stream",
     "text": [
      "Linear(in_features=4096, out_features=1000, bias=True)\n"
     ]
    }
   ],
   "source": [
    "print(vgg.classifier[6])"
   ]
  },
  {
   "cell_type": "code",
   "execution_count": 16,
   "id": "15b43596",
   "metadata": {
    "execution": {
     "iopub.execute_input": "2023-05-01T16:22:55.572355Z",
     "iopub.status.busy": "2023-05-01T16:22:55.571389Z",
     "iopub.status.idle": "2023-05-01T16:22:55.579042Z",
     "shell.execute_reply": "2023-05-01T16:22:55.577645Z"
    },
    "papermill": {
     "duration": 0.02452,
     "end_time": "2023-05-01T16:22:55.581167",
     "exception": false,
     "start_time": "2023-05-01T16:22:55.556647",
     "status": "completed"
    },
    "tags": []
   },
   "outputs": [
    {
     "name": "stdout",
     "output_type": "stream",
     "text": [
      "[Linear(in_features=25088, out_features=4096, bias=True), ReLU(inplace=True), Dropout(p=0.5, inplace=False), Linear(in_features=4096, out_features=4096, bias=True), ReLU(inplace=True), Dropout(p=0.5, inplace=False), Linear(in_features=4096, out_features=10, bias=True)]\n"
     ]
    }
   ],
   "source": [
    "# last layer has 1000 classes, but for CIFAR10 has only 10 label outputs, changing the same with below code. \n",
    "\n",
    "final_in_features = vgg.classifier[6].in_features\n",
    "mod_classifier = list(vgg.classifier.children())[:-1] # keeping all the layers expect the last one\n",
    "mod_classifier.extend([nn.Linear(final_in_features, num_classes)]) # extending the last layer with the requiered number of class. \n",
    "print(mod_classifier)"
   ]
  },
  {
   "cell_type": "code",
   "execution_count": 17,
   "id": "de05b865",
   "metadata": {
    "_kg_hide-output": true,
    "execution": {
     "iopub.execute_input": "2023-05-01T16:22:55.610548Z",
     "iopub.status.busy": "2023-05-01T16:22:55.609652Z",
     "iopub.status.idle": "2023-05-01T16:22:55.617015Z",
     "shell.execute_reply": "2023-05-01T16:22:55.614914Z"
    },
    "papermill": {
     "duration": 0.024363,
     "end_time": "2023-05-01T16:22:55.619184",
     "exception": false,
     "start_time": "2023-05-01T16:22:55.594821",
     "status": "completed"
    },
    "tags": []
   },
   "outputs": [
    {
     "name": "stdout",
     "output_type": "stream",
     "text": [
      "VGG(\n",
      "  (features): Sequential(\n",
      "    (0): Conv2d(3, 64, kernel_size=(3, 3), stride=(1, 1), padding=(1, 1))\n",
      "    (1): BatchNorm2d(64, eps=1e-05, momentum=0.1, affine=True, track_running_stats=True)\n",
      "    (2): ReLU(inplace=True)\n",
      "    (3): Conv2d(64, 64, kernel_size=(3, 3), stride=(1, 1), padding=(1, 1))\n",
      "    (4): BatchNorm2d(64, eps=1e-05, momentum=0.1, affine=True, track_running_stats=True)\n",
      "    (5): ReLU(inplace=True)\n",
      "    (6): MaxPool2d(kernel_size=2, stride=2, padding=0, dilation=1, ceil_mode=False)\n",
      "    (7): Conv2d(64, 128, kernel_size=(3, 3), stride=(1, 1), padding=(1, 1))\n",
      "    (8): BatchNorm2d(128, eps=1e-05, momentum=0.1, affine=True, track_running_stats=True)\n",
      "    (9): ReLU(inplace=True)\n",
      "    (10): Conv2d(128, 128, kernel_size=(3, 3), stride=(1, 1), padding=(1, 1))\n",
      "    (11): BatchNorm2d(128, eps=1e-05, momentum=0.1, affine=True, track_running_stats=True)\n",
      "    (12): ReLU(inplace=True)\n",
      "    (13): MaxPool2d(kernel_size=2, stride=2, padding=0, dilation=1, ceil_mode=False)\n",
      "    (14): Conv2d(128, 256, kernel_size=(3, 3), stride=(1, 1), padding=(1, 1))\n",
      "    (15): BatchNorm2d(256, eps=1e-05, momentum=0.1, affine=True, track_running_stats=True)\n",
      "    (16): ReLU(inplace=True)\n",
      "    (17): Conv2d(256, 256, kernel_size=(3, 3), stride=(1, 1), padding=(1, 1))\n",
      "    (18): BatchNorm2d(256, eps=1e-05, momentum=0.1, affine=True, track_running_stats=True)\n",
      "    (19): ReLU(inplace=True)\n",
      "    (20): Conv2d(256, 256, kernel_size=(3, 3), stride=(1, 1), padding=(1, 1))\n",
      "    (21): BatchNorm2d(256, eps=1e-05, momentum=0.1, affine=True, track_running_stats=True)\n",
      "    (22): ReLU(inplace=True)\n",
      "    (23): MaxPool2d(kernel_size=2, stride=2, padding=0, dilation=1, ceil_mode=False)\n",
      "    (24): Conv2d(256, 512, kernel_size=(3, 3), stride=(1, 1), padding=(1, 1))\n",
      "    (25): BatchNorm2d(512, eps=1e-05, momentum=0.1, affine=True, track_running_stats=True)\n",
      "    (26): ReLU(inplace=True)\n",
      "    (27): Conv2d(512, 512, kernel_size=(3, 3), stride=(1, 1), padding=(1, 1))\n",
      "    (28): BatchNorm2d(512, eps=1e-05, momentum=0.1, affine=True, track_running_stats=True)\n",
      "    (29): ReLU(inplace=True)\n",
      "    (30): Conv2d(512, 512, kernel_size=(3, 3), stride=(1, 1), padding=(1, 1))\n",
      "    (31): BatchNorm2d(512, eps=1e-05, momentum=0.1, affine=True, track_running_stats=True)\n",
      "    (32): ReLU(inplace=True)\n",
      "    (33): MaxPool2d(kernel_size=2, stride=2, padding=0, dilation=1, ceil_mode=False)\n",
      "    (34): Conv2d(512, 512, kernel_size=(3, 3), stride=(1, 1), padding=(1, 1))\n",
      "    (35): BatchNorm2d(512, eps=1e-05, momentum=0.1, affine=True, track_running_stats=True)\n",
      "    (36): ReLU(inplace=True)\n",
      "    (37): Conv2d(512, 512, kernel_size=(3, 3), stride=(1, 1), padding=(1, 1))\n",
      "    (38): BatchNorm2d(512, eps=1e-05, momentum=0.1, affine=True, track_running_stats=True)\n",
      "    (39): ReLU(inplace=True)\n",
      "    (40): Conv2d(512, 512, kernel_size=(3, 3), stride=(1, 1), padding=(1, 1))\n",
      "    (41): BatchNorm2d(512, eps=1e-05, momentum=0.1, affine=True, track_running_stats=True)\n",
      "    (42): ReLU(inplace=True)\n",
      "    (43): MaxPool2d(kernel_size=2, stride=2, padding=0, dilation=1, ceil_mode=False)\n",
      "  )\n",
      "  (avgpool): AdaptiveAvgPool2d(output_size=(7, 7))\n",
      "  (classifier): Sequential(\n",
      "    (0): Linear(in_features=25088, out_features=4096, bias=True)\n",
      "    (1): ReLU(inplace=True)\n",
      "    (2): Dropout(p=0.5, inplace=False)\n",
      "    (3): Linear(in_features=4096, out_features=4096, bias=True)\n",
      "    (4): ReLU(inplace=True)\n",
      "    (5): Dropout(p=0.5, inplace=False)\n",
      "    (6): Linear(in_features=4096, out_features=10, bias=True)\n",
      "  )\n",
      ")\n"
     ]
    }
   ],
   "source": [
    "vgg.classifier = nn.Sequential(*mod_classifier)\n",
    "print(vgg)"
   ]
  },
  {
   "attachments": {},
   "cell_type": "markdown",
   "id": "f66b3250",
   "metadata": {
    "papermill": {
     "duration": 0.01393,
     "end_time": "2023-05-01T16:22:55.646894",
     "exception": false,
     "start_time": "2023-05-01T16:22:55.632964",
     "status": "completed"
    },
    "tags": []
   },
   "source": [
    "# Train CIFAR10"
   ]
  },
  {
   "cell_type": "code",
   "execution_count": 18,
   "id": "690aab6a",
   "metadata": {
    "execution": {
     "iopub.execute_input": "2023-05-01T16:22:55.676734Z",
     "iopub.status.busy": "2023-05-01T16:22:55.676414Z",
     "iopub.status.idle": "2023-05-01T16:22:55.681881Z",
     "shell.execute_reply": "2023-05-01T16:22:55.680762Z"
    },
    "papermill": {
     "duration": 0.023209,
     "end_time": "2023-05-01T16:22:55.684006",
     "exception": false,
     "start_time": "2023-05-01T16:22:55.660797",
     "status": "completed"
    },
    "tags": []
   },
   "outputs": [],
   "source": [
    "batch_size = 16\n",
    "\n",
    "trainloader = torch.utils.data.DataLoader(trainset, batch_size=batch_size, shuffle=True)\n",
    "testloader = torch.utils.data.DataLoader(testset, batch_size=batch_size, shuffle=False)"
   ]
  },
  {
   "cell_type": "code",
   "execution_count": 19,
   "id": "77c8b3a6",
   "metadata": {
    "execution": {
     "iopub.execute_input": "2023-05-01T16:22:55.713879Z",
     "iopub.status.busy": "2023-05-01T16:22:55.712942Z",
     "iopub.status.idle": "2023-05-01T16:22:55.719644Z",
     "shell.execute_reply": "2023-05-01T16:22:55.718726Z"
    },
    "papermill": {
     "duration": 0.023797,
     "end_time": "2023-05-01T16:22:55.721930",
     "exception": false,
     "start_time": "2023-05-01T16:22:55.698133",
     "status": "completed"
    },
    "tags": []
   },
   "outputs": [],
   "source": [
    "def evaluation(dataloader, model):\n",
    "    total, correct = 0, 0\n",
    "    for data in dataloader:\n",
    "        inputs, labels = data\n",
    "        inputs, labels = inputs.to(device), labels.to(device)\n",
    "        outputs = model(inputs)\n",
    "        _, pred = torch.max(outputs.data, 1)\n",
    "        total += labels.size(0)\n",
    "        correct += (pred == labels).sum().item()\n",
    "    return 100 * correct / total"
   ]
  },
  {
   "cell_type": "code",
   "execution_count": 20,
   "id": "477ac579",
   "metadata": {
    "execution": {
     "iopub.execute_input": "2023-05-01T16:22:55.752412Z",
     "iopub.status.busy": "2023-05-01T16:22:55.750951Z",
     "iopub.status.idle": "2023-05-01T16:22:58.462482Z",
     "shell.execute_reply": "2023-05-01T16:22:58.461384Z"
    },
    "papermill": {
     "duration": 2.72938,
     "end_time": "2023-05-01T16:22:58.465314",
     "exception": false,
     "start_time": "2023-05-01T16:22:55.735934",
     "status": "completed"
    },
    "tags": []
   },
   "outputs": [],
   "source": [
    "vgg = vgg.to(device)\n",
    "loss_fn = nn.CrossEntropyLoss()\n",
    "opt = optim.SGD(vgg.parameters(), lr=0.05)"
   ]
  },
  {
   "cell_type": "code",
   "execution_count": 21,
   "id": "9655ce1f",
   "metadata": {
    "_kg_hide-output": true,
    "execution": {
     "iopub.execute_input": "2023-05-01T16:22:58.497471Z",
     "iopub.status.busy": "2023-05-01T16:22:58.497114Z",
     "iopub.status.idle": "2023-05-01T16:38:24.411767Z",
     "shell.execute_reply": "2023-05-01T16:38:24.407652Z"
    },
    "papermill": {
     "duration": 925.9473,
     "end_time": "2023-05-01T16:38:24.427251",
     "exception": false,
     "start_time": "2023-05-01T16:22:58.479951",
     "status": "completed"
    },
    "tags": []
   },
   "outputs": [
    {
     "name": "stdout",
     "output_type": "stream",
     "text": [
      "Iteration: 0/3125, Loss: 2.42\n",
      "Iteration: 100/3125, Loss: 2.12\n",
      "Iteration: 200/3125, Loss: 2.27\n",
      "Iteration: 300/3125, Loss: 2.01\n",
      "Iteration: 400/3125, Loss: 2.33\n",
      "Iteration: 500/3125, Loss: 1.88\n",
      "Iteration: 600/3125, Loss: 1.92\n",
      "Iteration: 700/3125, Loss: 2.09\n",
      "Iteration: 800/3125, Loss: 2.53\n",
      "Iteration: 900/3125, Loss: 2.04\n",
      "Iteration: 1000/3125, Loss: 2.01\n",
      "Iteration: 1100/3125, Loss: 1.67\n",
      "Iteration: 1200/3125, Loss: 2.18\n",
      "Iteration: 1300/3125, Loss: 2.14\n",
      "Iteration: 1400/3125, Loss: 2.27\n",
      "Iteration: 1500/3125, Loss: 2.13\n",
      "Iteration: 1600/3125, Loss: 2.02\n",
      "Iteration: 1700/3125, Loss: 2.03\n",
      "Iteration: 1800/3125, Loss: 2.57\n",
      "Iteration: 1900/3125, Loss: 1.91\n",
      "Iteration: 2000/3125, Loss: 1.98\n",
      "Iteration: 2100/3125, Loss: 1.79\n",
      "Iteration: 2200/3125, Loss: 1.76\n",
      "Iteration: 2300/3125, Loss: 1.73\n",
      "Iteration: 2400/3125, Loss: 1.71\n",
      "Iteration: 2500/3125, Loss: 1.88\n",
      "Iteration: 2600/3125, Loss: 2.87\n",
      "Iteration: 2700/3125, Loss: 1.88\n",
      "Iteration: 2800/3125, Loss: 1.57\n",
      "Iteration: 2900/3125, Loss: 2.02\n",
      "Iteration: 3000/3125, Loss: 1.73\n",
      "Iteration: 3100/3125, Loss: 2.03\n",
      "Epoch: 0/1, Test acc: 32.48, Train acc: 32.36\n",
      "CPU times: total: 2min 49s\n",
      "Wall time: 19min 14s\n"
     ]
    }
   ],
   "source": [
    "%%time \n",
    "\n",
    "loss_epoch_arr = []\n",
    "max_epochs = 1\n",
    "clip_value = 5\n",
    "\n",
    "n_iters = np.ceil(50000/batch_size)\n",
    "\n",
    "for epoch in range(max_epochs):\n",
    "\n",
    "    for i, data in enumerate(trainloader, 0):\n",
    "\n",
    "        inputs, labels = data\n",
    "        inputs, labels = inputs.to(device), labels.to(device)\n",
    "\n",
    "        opt.zero_grad()\n",
    "\n",
    "        outputs = vgg(inputs)\n",
    "        loss = loss_fn(outputs, labels)\n",
    "        loss.backward()\n",
    "        torch.nn.utils.clip_grad_norm_(vgg.parameters(), clip_value)\n",
    "        opt.step()\n",
    "        \n",
    "        # below steps ensures that the memory usage in the GPU is optimised. \n",
    "        del inputs, labels, outputs\n",
    "        torch.cuda.empty_cache()\n",
    "        \n",
    "        if i % 100 == 0:\n",
    "            print('Iteration: %d/%d, Loss: %0.2f' % (i, n_iters, loss.item()))\n",
    "        \n",
    "    loss_epoch_arr.append(loss.item())\n",
    "        \n",
    "    print('Epoch: %d/%d, Test acc: %0.2f, Train acc: %0.2f' % (\n",
    "        epoch, max_epochs, \n",
    "        evaluation(testloader, vgg), evaluation(trainloader, vgg)))\n",
    "    \n",
    "# change max_epochs value to > 1 \n",
    "#plt.plot(loss_epoch_arr) \n",
    "#plt.show()"
   ]
  },
  {
   "attachments": {},
   "cell_type": "markdown",
   "id": "34bbb3ac",
   "metadata": {
    "papermill": {
     "duration": 0.015355,
     "end_time": "2023-05-01T16:38:24.458248",
     "exception": false,
     "start_time": "2023-05-01T16:38:24.442893",
     "status": "completed"
    },
    "tags": []
   },
   "source": [
    "# Freeze layers of Convolutional Operations\n",
    "The above vgg16 module is taking a long time to train. To reduce the training time use a pre-trained model (the weights of the models have been saved). The approach is to freeze some layers and train the required layer to reduce the training time. "
   ]
  },
  {
   "cell_type": "code",
   "execution_count": 22,
   "id": "04e3a760",
   "metadata": {
    "execution": {
     "iopub.execute_input": "2023-05-01T16:38:24.490554Z",
     "iopub.status.busy": "2023-05-01T16:38:24.490219Z",
     "iopub.status.idle": "2023-05-01T16:38:24.495683Z",
     "shell.execute_reply": "2023-05-01T16:38:24.494583Z"
    },
    "papermill": {
     "duration": 0.024187,
     "end_time": "2023-05-01T16:38:24.497736",
     "exception": false,
     "start_time": "2023-05-01T16:38:24.473549",
     "status": "completed"
    },
    "tags": []
   },
   "outputs": [],
   "source": [
    "batch_size = 16\n",
    "\n",
    "trainloader = torch.utils.data.DataLoader(trainset, batch_size=batch_size, shuffle=True)\n",
    "testloader = torch.utils.data.DataLoader(testset, batch_size=batch_size, shuffle=False)"
   ]
  },
  {
   "cell_type": "code",
   "execution_count": 23,
   "id": "fc1f99ce",
   "metadata": {
    "execution": {
     "iopub.execute_input": "2023-05-01T16:38:24.530148Z",
     "iopub.status.busy": "2023-05-01T16:38:24.529827Z",
     "iopub.status.idle": "2023-05-01T16:38:33.933408Z",
     "shell.execute_reply": "2023-05-01T16:38:33.932352Z"
    },
    "papermill": {
     "duration": 9.422975,
     "end_time": "2023-05-01T16:38:33.936270",
     "exception": false,
     "start_time": "2023-05-01T16:38:24.513295",
     "status": "completed"
    },
    "tags": []
   },
   "outputs": [
    {
     "name": "stderr",
     "output_type": "stream",
     "text": [
      "d:\\CondaPyEnvs\\d2l\\lib\\site-packages\\torchvision\\models\\_utils.py:208: UserWarning: The parameter 'pretrained' is deprecated since 0.13 and may be removed in the future, please use 'weights' instead.\n",
      "  warnings.warn(\n",
      "d:\\CondaPyEnvs\\d2l\\lib\\site-packages\\torchvision\\models\\_utils.py:223: UserWarning: Arguments other than a weight enum or `None` for 'weights' are deprecated since 0.13 and may be removed in the future. The current behavior is equivalent to passing `weights=VGG16_BN_Weights.IMAGENET1K_V1`. You can also use `weights=VGG16_BN_Weights.DEFAULT` to get the most up-to-date weights.\n",
      "  warnings.warn(msg)\n"
     ]
    }
   ],
   "source": [
    "# downloading the pre-trained model. Please note VGGnet is trained for ImageNet dataset that had 1000 labels.\n",
    "\n",
    "vgg = models.vgg16_bn(pretrained=True)"
   ]
  },
  {
   "cell_type": "code",
   "execution_count": 24,
   "id": "b0725c38",
   "metadata": {
    "execution": {
     "iopub.execute_input": "2023-05-01T16:38:33.969891Z",
     "iopub.status.busy": "2023-05-01T16:38:33.969567Z",
     "iopub.status.idle": "2023-05-01T16:38:33.974588Z",
     "shell.execute_reply": "2023-05-01T16:38:33.973480Z"
    },
    "papermill": {
     "duration": 0.024046,
     "end_time": "2023-05-01T16:38:33.976595",
     "exception": false,
     "start_time": "2023-05-01T16:38:33.952549",
     "status": "completed"
    },
    "tags": []
   },
   "outputs": [],
   "source": [
    "# preventing the weights updates via back propegation.\n",
    "\n",
    "for param in vgg.parameters():\n",
    "    param.requires_grad = False"
   ]
  },
  {
   "cell_type": "code",
   "execution_count": 25,
   "id": "2ff22a3d",
   "metadata": {
    "execution": {
     "iopub.execute_input": "2023-05-01T16:38:34.010254Z",
     "iopub.status.busy": "2023-05-01T16:38:34.009212Z",
     "iopub.status.idle": "2023-05-01T16:38:34.015370Z",
     "shell.execute_reply": "2023-05-01T16:38:34.014426Z"
    },
    "papermill": {
     "duration": 0.025182,
     "end_time": "2023-05-01T16:38:34.017499",
     "exception": false,
     "start_time": "2023-05-01T16:38:33.992317",
     "status": "completed"
    },
    "tags": []
   },
   "outputs": [],
   "source": [
    "# Adding the final layes as a linear layer with num of classes.\n",
    "# only this layer will have requires_grad as true, only weights of this layer get updated.\n",
    "\n",
    "final_in_features = vgg.classifier[6].in_features\n",
    "vgg.classifier[6] = nn.Linear(final_in_features, num_classes)"
   ]
  },
  {
   "cell_type": "code",
   "execution_count": 26,
   "id": "437887ea",
   "metadata": {
    "execution": {
     "iopub.execute_input": "2023-05-01T16:38:34.051277Z",
     "iopub.status.busy": "2023-05-01T16:38:34.049785Z",
     "iopub.status.idle": "2023-05-01T16:38:34.056499Z",
     "shell.execute_reply": "2023-05-01T16:38:34.055212Z"
    },
    "papermill": {
     "duration": 0.025439,
     "end_time": "2023-05-01T16:38:34.058560",
     "exception": false,
     "start_time": "2023-05-01T16:38:34.033121",
     "status": "completed"
    },
    "tags": []
   },
   "outputs": [
    {
     "name": "stdout",
     "output_type": "stream",
     "text": [
      "torch.Size([10, 4096])\n",
      "torch.Size([10])\n"
     ]
    }
   ],
   "source": [
    "for param in vgg.parameters():\n",
    "    if param.requires_grad:\n",
    "        print(param.shape)"
   ]
  },
  {
   "cell_type": "code",
   "execution_count": 27,
   "id": "d01ad878",
   "metadata": {
    "execution": {
     "iopub.execute_input": "2023-05-01T16:38:34.091177Z",
     "iopub.status.busy": "2023-05-01T16:38:34.090640Z",
     "iopub.status.idle": "2023-05-01T16:38:34.239511Z",
     "shell.execute_reply": "2023-05-01T16:38:34.238477Z"
    },
    "papermill": {
     "duration": 0.167702,
     "end_time": "2023-05-01T16:38:34.241862",
     "exception": false,
     "start_time": "2023-05-01T16:38:34.074160",
     "status": "completed"
    },
    "tags": []
   },
   "outputs": [],
   "source": [
    "vgg = vgg.to(device)\n",
    "loss_fn = nn.CrossEntropyLoss()\n",
    "opt = optim.SGD(vgg.parameters(), lr=0.05)"
   ]
  },
  {
   "cell_type": "code",
   "execution_count": 28,
   "id": "35f149a1",
   "metadata": {
    "_kg_hide-output": true,
    "execution": {
     "iopub.execute_input": "2023-05-01T16:38:34.275758Z",
     "iopub.status.busy": "2023-05-01T16:38:34.275185Z",
     "iopub.status.idle": "2023-05-01T16:47:22.136911Z",
     "shell.execute_reply": "2023-05-01T16:47:22.135102Z"
    },
    "papermill": {
     "duration": 527.898585,
     "end_time": "2023-05-01T16:47:22.156619",
     "exception": false,
     "start_time": "2023-05-01T16:38:34.258034",
     "status": "completed"
    },
    "tags": []
   },
   "outputs": [
    {
     "name": "stdout",
     "output_type": "stream",
     "text": [
      "Iteration: 0/3125, Loss: 2.44\n",
      "Iteration: 100/3125, Loss: 1.72\n",
      "Iteration: 200/3125, Loss: 2.13\n",
      "Iteration: 300/3125, Loss: 2.22\n",
      "Iteration: 400/3125, Loss: 1.66\n",
      "Iteration: 500/3125, Loss: 1.19\n",
      "Iteration: 600/3125, Loss: 2.73\n",
      "Iteration: 700/3125, Loss: 2.35\n",
      "Iteration: 800/3125, Loss: 1.76\n",
      "Iteration: 900/3125, Loss: 1.24\n",
      "Iteration: 1000/3125, Loss: 1.50\n",
      "Iteration: 1100/3125, Loss: 2.31\n",
      "Iteration: 1200/3125, Loss: 1.22\n",
      "Iteration: 1300/3125, Loss: 1.30\n",
      "Iteration: 1400/3125, Loss: 2.94\n",
      "Iteration: 1500/3125, Loss: 2.19\n",
      "Iteration: 1600/3125, Loss: 2.61\n",
      "Iteration: 1700/3125, Loss: 2.68\n",
      "Iteration: 1800/3125, Loss: 2.93\n",
      "Iteration: 1900/3125, Loss: 1.71\n",
      "Iteration: 2000/3125, Loss: 1.74\n",
      "Iteration: 2100/3125, Loss: 1.28\n",
      "Iteration: 2200/3125, Loss: 1.46\n",
      "Iteration: 2300/3125, Loss: 1.81\n",
      "Iteration: 2400/3125, Loss: 2.03\n",
      "Iteration: 2500/3125, Loss: 2.07\n",
      "Iteration: 2600/3125, Loss: 2.24\n",
      "Iteration: 2700/3125, Loss: 1.44\n",
      "Iteration: 2800/3125, Loss: 2.50\n",
      "Iteration: 2900/3125, Loss: 1.50\n",
      "Iteration: 3000/3125, Loss: 2.17\n",
      "Iteration: 3100/3125, Loss: 1.06\n",
      "Epoch: 0/1, Test acc: 41.36, Train acc: 42.05\n",
      "CPU times: total: 59.7 s\n",
      "Wall time: 10min 53s\n"
     ]
    }
   ],
   "source": [
    "%%time \n",
    "\n",
    "loss_epoch_arr = []\n",
    "max_epochs = 1\n",
    "\n",
    "n_iters = np.ceil(50000/batch_size)\n",
    "\n",
    "for epoch in range(max_epochs):\n",
    "\n",
    "    for i, data in enumerate(trainloader, 0):\n",
    "\n",
    "        inputs, labels = data\n",
    "        inputs, labels = inputs.to(device), labels.to(device)\n",
    "\n",
    "        opt.zero_grad()\n",
    "\n",
    "        outputs = vgg(inputs)\n",
    "        loss = loss_fn(outputs, labels)\n",
    "        loss.backward()\n",
    "        opt.step()\n",
    "        \n",
    "        if i % 100 == 0:\n",
    "            print('Iteration: %d/%d, Loss: %0.2f' % (i, n_iters, loss.item()))\n",
    "            \n",
    "        del inputs, labels, outputs\n",
    "        torch.cuda.empty_cache()\n",
    "        \n",
    "    loss_epoch_arr.append(loss.item())\n",
    "        \n",
    "    print('Epoch: %d/%d, Test acc: %0.2f, Train acc: %0.2f' % (\n",
    "        epoch, max_epochs, \n",
    "        evaluation(testloader, vgg), evaluation(trainloader, vgg)))\n",
    "\n",
    "# change max_epochs value to > 1 \n",
    "#plt.plot(loss_epoch_arr) \n",
    "#plt.show()"
   ]
  },
  {
   "attachments": {},
   "cell_type": "markdown",
   "id": "40f65262",
   "metadata": {
    "papermill": {
     "duration": 0.017422,
     "end_time": "2023-05-01T16:47:22.191529",
     "exception": false,
     "start_time": "2023-05-01T16:47:22.174107",
     "status": "completed"
    },
    "tags": []
   },
   "source": [
    "# With model copies (Checkpoint)"
   ]
  },
  {
   "cell_type": "code",
   "execution_count": 29,
   "id": "1c5e4be9",
   "metadata": {
    "execution": {
     "iopub.execute_input": "2023-05-01T16:47:22.227405Z",
     "iopub.status.busy": "2023-05-01T16:47:22.227085Z",
     "iopub.status.idle": "2023-05-01T16:47:22.231559Z",
     "shell.execute_reply": "2023-05-01T16:47:22.230497Z"
    },
    "papermill": {
     "duration": 0.024911,
     "end_time": "2023-05-01T16:47:22.233665",
     "exception": false,
     "start_time": "2023-05-01T16:47:22.208754",
     "status": "completed"
    },
    "tags": []
   },
   "outputs": [],
   "source": [
    "import copy"
   ]
  },
  {
   "cell_type": "code",
   "execution_count": 30,
   "id": "65d37a7a",
   "metadata": {
    "_kg_hide-output": true,
    "execution": {
     "iopub.execute_input": "2023-05-01T16:47:22.269126Z",
     "iopub.status.busy": "2023-05-01T16:47:22.268811Z",
     "iopub.status.idle": "2023-05-01T16:51:56.261658Z",
     "shell.execute_reply": "2023-05-01T16:51:56.260606Z"
    },
    "papermill": {
     "duration": 274.013511,
     "end_time": "2023-05-01T16:51:56.264267",
     "exception": false,
     "start_time": "2023-05-01T16:47:22.250756",
     "status": "completed"
    },
    "tags": []
   },
   "outputs": [
    {
     "name": "stdout",
     "output_type": "stream",
     "text": [
      "Min loss 0.87\n",
      "Iteration: 0/3125, Loss: 0.87\n",
      "Min loss 0.77\n",
      "Iteration: 100/3125, Loss: 2.06\n",
      "Iteration: 200/3125, Loss: 2.19\n",
      "Iteration: 300/3125, Loss: 1.75\n",
      "Min loss 0.70\n",
      "Iteration: 400/3125, Loss: 1.82\n",
      "Iteration: 500/3125, Loss: 1.77\n",
      "Iteration: 600/3125, Loss: 1.37\n",
      "Iteration: 700/3125, Loss: 2.99\n",
      "Min loss 0.57\n",
      "Iteration: 800/3125, Loss: 2.35\n",
      "Iteration: 900/3125, Loss: 2.96\n",
      "Min loss 0.57\n",
      "Iteration: 1000/3125, Loss: 1.96\n",
      "Iteration: 1100/3125, Loss: 0.97\n",
      "Iteration: 1200/3125, Loss: 2.15\n",
      "Iteration: 1300/3125, Loss: 2.28\n",
      "Iteration: 1400/3125, Loss: 1.88\n",
      "Iteration: 1500/3125, Loss: 3.02\n",
      "Iteration: 1600/3125, Loss: 3.40\n",
      "Iteration: 1700/3125, Loss: 3.78\n",
      "Iteration: 1800/3125, Loss: 3.45\n",
      "Iteration: 1900/3125, Loss: 1.56\n",
      "Iteration: 2000/3125, Loss: 2.46\n",
      "Iteration: 2100/3125, Loss: 3.15\n",
      "Iteration: 2200/3125, Loss: 2.19\n",
      "Iteration: 2300/3125, Loss: 1.74\n",
      "Iteration: 2400/3125, Loss: 3.37\n",
      "Iteration: 2500/3125, Loss: 2.52\n",
      "Iteration: 2600/3125, Loss: 1.69\n",
      "Iteration: 2700/3125, Loss: 1.35\n",
      "Min loss 0.31\n",
      "Iteration: 2800/3125, Loss: 2.19\n",
      "Iteration: 2900/3125, Loss: 2.54\n",
      "Iteration: 3000/3125, Loss: 2.34\n",
      "Iteration: 3100/3125, Loss: 1.33\n"
     ]
    }
   ],
   "source": [
    "loss_epoch_arr = []\n",
    "max_epochs = 1\n",
    "\n",
    "min_loss = 1000\n",
    "\n",
    "n_iters = np.ceil(50000/batch_size)\n",
    "\n",
    "for epoch in range(max_epochs):\n",
    "\n",
    "    for i, data in enumerate(trainloader, 0):\n",
    "\n",
    "        inputs, labels = data\n",
    "        inputs, labels = inputs.to(device), labels.to(device)\n",
    "\n",
    "        opt.zero_grad()\n",
    "\n",
    "        outputs = vgg(inputs)\n",
    "        loss = loss_fn(outputs, labels)\n",
    "        loss.backward()\n",
    "        opt.step()\n",
    "        \n",
    "        if min_loss > loss.item():\n",
    "            min_loss = loss.item()\n",
    "            best_model = copy.deepcopy(vgg.state_dict())\n",
    "            print('Min loss %0.2f' % min_loss)\n",
    "        \n",
    "        if i % 100 == 0:\n",
    "            print('Iteration: %d/%d, Loss: %0.2f' % (i, n_iters, loss.item()))\n",
    "            \n",
    "        del inputs, labels, outputs\n",
    "        torch.cuda.empty_cache()\n",
    "        \n",
    "    loss_epoch_arr.append(loss.item())\n",
    "\n",
    "# change max_epochs value to > 1 \n",
    "#plt.plot(loss_epoch_arr) \n",
    "#plt.show()"
   ]
  },
  {
   "cell_type": "code",
   "execution_count": 31,
   "id": "1acce3cf",
   "metadata": {
    "execution": {
     "iopub.execute_input": "2023-05-01T16:51:56.305756Z",
     "iopub.status.busy": "2023-05-01T16:51:56.305441Z",
     "iopub.status.idle": "2023-05-01T16:56:10.220510Z",
     "shell.execute_reply": "2023-05-01T16:56:10.219408Z"
    },
    "papermill": {
     "duration": 254.02296,
     "end_time": "2023-05-01T16:56:10.307652",
     "exception": false,
     "start_time": "2023-05-01T16:51:56.284692",
     "status": "completed"
    },
    "tags": []
   },
   "outputs": [
    {
     "name": "stdout",
     "output_type": "stream",
     "text": [
      "43.646 43.91\n"
     ]
    }
   ],
   "source": [
    "vgg.load_state_dict(best_model)\n",
    "print(evaluation(trainloader, vgg), evaluation(testloader, vgg))"
   ]
  },
  {
   "attachments": {},
   "cell_type": "markdown",
   "id": "bf1f5236",
   "metadata": {
    "papermill": {
     "duration": 0.019522,
     "end_time": "2023-05-01T16:56:10.346853",
     "exception": false,
     "start_time": "2023-05-01T16:56:10.327331",
     "status": "completed"
    },
    "tags": []
   },
   "source": [
    "# ResNet Model\n",
    "https://pytorch.org/vision/stable/models/resnet.html"
   ]
  },
  {
   "cell_type": "code",
   "execution_count": 32,
   "id": "2d8d96aa",
   "metadata": {
    "execution": {
     "iopub.execute_input": "2023-05-01T16:56:10.388171Z",
     "iopub.status.busy": "2023-05-01T16:56:10.387154Z",
     "iopub.status.idle": "2023-05-01T16:56:10.930085Z",
     "shell.execute_reply": "2023-05-01T16:56:10.929074Z"
    },
    "papermill": {
     "duration": 0.566342,
     "end_time": "2023-05-01T16:56:10.932728",
     "exception": false,
     "start_time": "2023-05-01T16:56:10.366386",
     "status": "completed"
    },
    "tags": []
   },
   "outputs": [
    {
     "name": "stderr",
     "output_type": "stream",
     "text": [
      "d:\\CondaPyEnvs\\d2l\\lib\\site-packages\\torchvision\\models\\_utils.py:223: UserWarning: Arguments other than a weight enum or `None` for 'weights' are deprecated since 0.13 and may be removed in the future. The current behavior is equivalent to passing `weights=ResNet18_Weights.IMAGENET1K_V1`. You can also use `weights=ResNet18_Weights.DEFAULT` to get the most up-to-date weights.\n",
      "  warnings.warn(msg)\n"
     ]
    }
   ],
   "source": [
    "resnet = models.resnet18(pretrained=True)"
   ]
  },
  {
   "cell_type": "code",
   "execution_count": 33,
   "id": "a4618fab",
   "metadata": {
    "_kg_hide-output": true,
    "execution": {
     "iopub.execute_input": "2023-05-01T16:56:10.974773Z",
     "iopub.status.busy": "2023-05-01T16:56:10.974452Z",
     "iopub.status.idle": "2023-05-01T16:56:10.980251Z",
     "shell.execute_reply": "2023-05-01T16:56:10.979193Z"
    },
    "papermill": {
     "duration": 0.030722,
     "end_time": "2023-05-01T16:56:10.983770",
     "exception": false,
     "start_time": "2023-05-01T16:56:10.953048",
     "status": "completed"
    },
    "tags": []
   },
   "outputs": [
    {
     "name": "stdout",
     "output_type": "stream",
     "text": [
      "ResNet(\n",
      "  (conv1): Conv2d(3, 64, kernel_size=(7, 7), stride=(2, 2), padding=(3, 3), bias=False)\n",
      "  (bn1): BatchNorm2d(64, eps=1e-05, momentum=0.1, affine=True, track_running_stats=True)\n",
      "  (relu): ReLU(inplace=True)\n",
      "  (maxpool): MaxPool2d(kernel_size=3, stride=2, padding=1, dilation=1, ceil_mode=False)\n",
      "  (layer1): Sequential(\n",
      "    (0): BasicBlock(\n",
      "      (conv1): Conv2d(64, 64, kernel_size=(3, 3), stride=(1, 1), padding=(1, 1), bias=False)\n",
      "      (bn1): BatchNorm2d(64, eps=1e-05, momentum=0.1, affine=True, track_running_stats=True)\n",
      "      (relu): ReLU(inplace=True)\n",
      "      (conv2): Conv2d(64, 64, kernel_size=(3, 3), stride=(1, 1), padding=(1, 1), bias=False)\n",
      "      (bn2): BatchNorm2d(64, eps=1e-05, momentum=0.1, affine=True, track_running_stats=True)\n",
      "    )\n",
      "    (1): BasicBlock(\n",
      "      (conv1): Conv2d(64, 64, kernel_size=(3, 3), stride=(1, 1), padding=(1, 1), bias=False)\n",
      "      (bn1): BatchNorm2d(64, eps=1e-05, momentum=0.1, affine=True, track_running_stats=True)\n",
      "      (relu): ReLU(inplace=True)\n",
      "      (conv2): Conv2d(64, 64, kernel_size=(3, 3), stride=(1, 1), padding=(1, 1), bias=False)\n",
      "      (bn2): BatchNorm2d(64, eps=1e-05, momentum=0.1, affine=True, track_running_stats=True)\n",
      "    )\n",
      "  )\n",
      "  (layer2): Sequential(\n",
      "    (0): BasicBlock(\n",
      "      (conv1): Conv2d(64, 128, kernel_size=(3, 3), stride=(2, 2), padding=(1, 1), bias=False)\n",
      "      (bn1): BatchNorm2d(128, eps=1e-05, momentum=0.1, affine=True, track_running_stats=True)\n",
      "      (relu): ReLU(inplace=True)\n",
      "      (conv2): Conv2d(128, 128, kernel_size=(3, 3), stride=(1, 1), padding=(1, 1), bias=False)\n",
      "      (bn2): BatchNorm2d(128, eps=1e-05, momentum=0.1, affine=True, track_running_stats=True)\n",
      "      (downsample): Sequential(\n",
      "        (0): Conv2d(64, 128, kernel_size=(1, 1), stride=(2, 2), bias=False)\n",
      "        (1): BatchNorm2d(128, eps=1e-05, momentum=0.1, affine=True, track_running_stats=True)\n",
      "      )\n",
      "    )\n",
      "    (1): BasicBlock(\n",
      "      (conv1): Conv2d(128, 128, kernel_size=(3, 3), stride=(1, 1), padding=(1, 1), bias=False)\n",
      "      (bn1): BatchNorm2d(128, eps=1e-05, momentum=0.1, affine=True, track_running_stats=True)\n",
      "      (relu): ReLU(inplace=True)\n",
      "      (conv2): Conv2d(128, 128, kernel_size=(3, 3), stride=(1, 1), padding=(1, 1), bias=False)\n",
      "      (bn2): BatchNorm2d(128, eps=1e-05, momentum=0.1, affine=True, track_running_stats=True)\n",
      "    )\n",
      "  )\n",
      "  (layer3): Sequential(\n",
      "    (0): BasicBlock(\n",
      "      (conv1): Conv2d(128, 256, kernel_size=(3, 3), stride=(2, 2), padding=(1, 1), bias=False)\n",
      "      (bn1): BatchNorm2d(256, eps=1e-05, momentum=0.1, affine=True, track_running_stats=True)\n",
      "      (relu): ReLU(inplace=True)\n",
      "      (conv2): Conv2d(256, 256, kernel_size=(3, 3), stride=(1, 1), padding=(1, 1), bias=False)\n",
      "      (bn2): BatchNorm2d(256, eps=1e-05, momentum=0.1, affine=True, track_running_stats=True)\n",
      "      (downsample): Sequential(\n",
      "        (0): Conv2d(128, 256, kernel_size=(1, 1), stride=(2, 2), bias=False)\n",
      "        (1): BatchNorm2d(256, eps=1e-05, momentum=0.1, affine=True, track_running_stats=True)\n",
      "      )\n",
      "    )\n",
      "    (1): BasicBlock(\n",
      "      (conv1): Conv2d(256, 256, kernel_size=(3, 3), stride=(1, 1), padding=(1, 1), bias=False)\n",
      "      (bn1): BatchNorm2d(256, eps=1e-05, momentum=0.1, affine=True, track_running_stats=True)\n",
      "      (relu): ReLU(inplace=True)\n",
      "      (conv2): Conv2d(256, 256, kernel_size=(3, 3), stride=(1, 1), padding=(1, 1), bias=False)\n",
      "      (bn2): BatchNorm2d(256, eps=1e-05, momentum=0.1, affine=True, track_running_stats=True)\n",
      "    )\n",
      "  )\n",
      "  (layer4): Sequential(\n",
      "    (0): BasicBlock(\n",
      "      (conv1): Conv2d(256, 512, kernel_size=(3, 3), stride=(2, 2), padding=(1, 1), bias=False)\n",
      "      (bn1): BatchNorm2d(512, eps=1e-05, momentum=0.1, affine=True, track_running_stats=True)\n",
      "      (relu): ReLU(inplace=True)\n",
      "      (conv2): Conv2d(512, 512, kernel_size=(3, 3), stride=(1, 1), padding=(1, 1), bias=False)\n",
      "      (bn2): BatchNorm2d(512, eps=1e-05, momentum=0.1, affine=True, track_running_stats=True)\n",
      "      (downsample): Sequential(\n",
      "        (0): Conv2d(256, 512, kernel_size=(1, 1), stride=(2, 2), bias=False)\n",
      "        (1): BatchNorm2d(512, eps=1e-05, momentum=0.1, affine=True, track_running_stats=True)\n",
      "      )\n",
      "    )\n",
      "    (1): BasicBlock(\n",
      "      (conv1): Conv2d(512, 512, kernel_size=(3, 3), stride=(1, 1), padding=(1, 1), bias=False)\n",
      "      (bn1): BatchNorm2d(512, eps=1e-05, momentum=0.1, affine=True, track_running_stats=True)\n",
      "      (relu): ReLU(inplace=True)\n",
      "      (conv2): Conv2d(512, 512, kernel_size=(3, 3), stride=(1, 1), padding=(1, 1), bias=False)\n",
      "      (bn2): BatchNorm2d(512, eps=1e-05, momentum=0.1, affine=True, track_running_stats=True)\n",
      "    )\n",
      "  )\n",
      "  (avgpool): AdaptiveAvgPool2d(output_size=(1, 1))\n",
      "  (fc): Linear(in_features=512, out_features=1000, bias=True)\n",
      ")\n"
     ]
    }
   ],
   "source": [
    "print(resnet)"
   ]
  },
  {
   "cell_type": "code",
   "execution_count": 34,
   "id": "5e4c8827",
   "metadata": {
    "execution": {
     "iopub.execute_input": "2023-05-01T16:56:11.026499Z",
     "iopub.status.busy": "2023-05-01T16:56:11.025627Z",
     "iopub.status.idle": "2023-05-01T16:56:11.031007Z",
     "shell.execute_reply": "2023-05-01T16:56:11.030120Z"
    },
    "papermill": {
     "duration": 0.028712,
     "end_time": "2023-05-01T16:56:11.033127",
     "exception": false,
     "start_time": "2023-05-01T16:56:11.004415",
     "status": "completed"
    },
    "tags": []
   },
   "outputs": [],
   "source": [
    "for param in resnet.parameters():\n",
    "    param.requires_grad = False"
   ]
  },
  {
   "cell_type": "code",
   "execution_count": 35,
   "id": "b0fe0e63",
   "metadata": {
    "execution": {
     "iopub.execute_input": "2023-05-01T16:56:11.074419Z",
     "iopub.status.busy": "2023-05-01T16:56:11.074127Z",
     "iopub.status.idle": "2023-05-01T16:56:11.079844Z",
     "shell.execute_reply": "2023-05-01T16:56:11.078924Z"
    },
    "papermill": {
     "duration": 0.02901,
     "end_time": "2023-05-01T16:56:11.081914",
     "exception": false,
     "start_time": "2023-05-01T16:56:11.052904",
     "status": "completed"
    },
    "tags": []
   },
   "outputs": [],
   "source": [
    "in_features = resnet.fc.in_features\n",
    "resnet.fc = nn.Linear(in_features, num_classes)"
   ]
  },
  {
   "cell_type": "code",
   "execution_count": 36,
   "id": "9dc7ca47",
   "metadata": {
    "execution": {
     "iopub.execute_input": "2023-05-01T16:56:11.123460Z",
     "iopub.status.busy": "2023-05-01T16:56:11.122892Z",
     "iopub.status.idle": "2023-05-01T16:56:11.129676Z",
     "shell.execute_reply": "2023-05-01T16:56:11.128737Z"
    },
    "papermill": {
     "duration": 0.029998,
     "end_time": "2023-05-01T16:56:11.131913",
     "exception": false,
     "start_time": "2023-05-01T16:56:11.101915",
     "status": "completed"
    },
    "tags": []
   },
   "outputs": [
    {
     "name": "stdout",
     "output_type": "stream",
     "text": [
      "torch.Size([10, 512])\n",
      "torch.Size([10])\n"
     ]
    }
   ],
   "source": [
    "for param in resnet.parameters():\n",
    "    if param.requires_grad:\n",
    "        print(param.shape)"
   ]
  },
  {
   "cell_type": "code",
   "execution_count": 37,
   "id": "49b493a9",
   "metadata": {
    "execution": {
     "iopub.execute_input": "2023-05-01T16:56:11.173469Z",
     "iopub.status.busy": "2023-05-01T16:56:11.173188Z",
     "iopub.status.idle": "2023-05-01T16:56:11.193279Z",
     "shell.execute_reply": "2023-05-01T16:56:11.192389Z"
    },
    "papermill": {
     "duration": 0.043424,
     "end_time": "2023-05-01T16:56:11.195378",
     "exception": false,
     "start_time": "2023-05-01T16:56:11.151954",
     "status": "completed"
    },
    "tags": []
   },
   "outputs": [],
   "source": [
    "resnet = resnet.to(device)\n",
    "loss_fn = nn.CrossEntropyLoss()\n",
    "opt = optim.SGD(resnet.parameters(), lr=0.01)"
   ]
  },
  {
   "cell_type": "code",
   "execution_count": 53,
   "id": "cc1db764",
   "metadata": {
    "_kg_hide-output": true,
    "execution": {
     "iopub.execute_input": "2023-05-01T16:56:11.236800Z",
     "iopub.status.busy": "2023-05-01T16:56:11.236098Z",
     "iopub.status.idle": "2023-05-01T16:59:58.509757Z",
     "shell.execute_reply": "2023-05-01T16:59:58.505379Z"
    },
    "papermill": {
     "duration": 227.317505,
     "end_time": "2023-05-01T16:59:58.532789",
     "exception": false,
     "start_time": "2023-05-01T16:56:11.215284",
     "status": "completed"
    },
    "tags": []
   },
   "outputs": [
    {
     "name": "stdout",
     "output_type": "stream",
     "text": [
      "Min loss 1.66\n",
      "Iteration: 0/3125, Loss: 1.66\n",
      "Min loss 1.55\n",
      "Min loss 1.50\n",
      "Min loss 1.44\n",
      "Min loss 1.25\n",
      "Min loss 1.24\n",
      "Min loss 1.24\n",
      "Min loss 1.17\n",
      "Min loss 0.98\n",
      "Iteration: 100/3125, Loss: 1.69\n",
      "Iteration: 200/3125, Loss: 1.15\n",
      "Min loss 0.87\n",
      "Iteration: 300/3125, Loss: 2.09\n",
      "Iteration: 400/3125, Loss: 1.13\n",
      "Iteration: 500/3125, Loss: 1.50\n",
      "Iteration: 600/3125, Loss: 0.98\n",
      "Iteration: 700/3125, Loss: 1.69\n",
      "Iteration: 800/3125, Loss: 1.62\n",
      "Iteration: 900/3125, Loss: 1.70\n",
      "Iteration: 1000/3125, Loss: 1.48\n",
      "Iteration: 1100/3125, Loss: 1.48\n",
      "Iteration: 1200/3125, Loss: 1.59\n",
      "Iteration: 1300/3125, Loss: 1.32\n",
      "Iteration: 1400/3125, Loss: 1.46\n",
      "Iteration: 1500/3125, Loss: 1.80\n",
      "Iteration: 1600/3125, Loss: 1.42\n",
      "Iteration: 1700/3125, Loss: 1.54\n",
      "Iteration: 1800/3125, Loss: 1.62\n",
      "Iteration: 1900/3125, Loss: 1.20\n",
      "Min loss 0.83\n",
      "Iteration: 2000/3125, Loss: 1.68\n",
      "Iteration: 2100/3125, Loss: 1.66\n",
      "Min loss 0.83\n",
      "Iteration: 2200/3125, Loss: 1.56\n",
      "Iteration: 2300/3125, Loss: 1.75\n",
      "Min loss 0.81\n",
      "Iteration: 2400/3125, Loss: 1.66\n",
      "Iteration: 2500/3125, Loss: 1.56\n",
      "Iteration: 2600/3125, Loss: 1.43\n",
      "Iteration: 2700/3125, Loss: 1.56\n",
      "Iteration: 2800/3125, Loss: 1.29\n",
      "Iteration: 2900/3125, Loss: 1.72\n",
      "Iteration: 3000/3125, Loss: 1.81\n",
      "Iteration: 3100/3125, Loss: 1.49\n",
      "Epoch: 0/5, Test acc: 48.48, Train acc: 49.00\n",
      "Iteration: 0/3125, Loss: 1.47\n",
      "Iteration: 100/3125, Loss: 1.47\n",
      "Iteration: 200/3125, Loss: 1.71\n",
      "Iteration: 300/3125, Loss: 1.42\n",
      "Iteration: 400/3125, Loss: 1.60\n",
      "Iteration: 500/3125, Loss: 1.06\n",
      "Iteration: 600/3125, Loss: 1.39\n",
      "Min loss 0.80\n",
      "Iteration: 700/3125, Loss: 1.31\n",
      "Iteration: 800/3125, Loss: 1.65\n",
      "Iteration: 900/3125, Loss: 1.17\n",
      "Iteration: 1000/3125, Loss: 1.51\n",
      "Iteration: 1100/3125, Loss: 1.39\n",
      "Iteration: 1200/3125, Loss: 1.47\n",
      "Iteration: 1300/3125, Loss: 1.32\n",
      "Iteration: 1400/3125, Loss: 1.40\n",
      "Iteration: 1500/3125, Loss: 1.20\n",
      "Iteration: 1600/3125, Loss: 1.85\n",
      "Iteration: 1700/3125, Loss: 1.63\n",
      "Iteration: 1800/3125, Loss: 1.27\n",
      "Iteration: 1900/3125, Loss: 1.41\n",
      "Iteration: 2000/3125, Loss: 1.37\n",
      "Iteration: 2100/3125, Loss: 1.55\n",
      "Iteration: 2200/3125, Loss: 1.68\n",
      "Iteration: 2300/3125, Loss: 1.76\n",
      "Iteration: 2400/3125, Loss: 1.45\n",
      "Iteration: 2500/3125, Loss: 1.84\n",
      "Iteration: 2600/3125, Loss: 1.32\n",
      "Iteration: 2700/3125, Loss: 1.83\n",
      "Iteration: 2800/3125, Loss: 1.42\n",
      "Iteration: 2900/3125, Loss: 1.77\n",
      "Iteration: 3000/3125, Loss: 1.54\n",
      "Iteration: 3100/3125, Loss: 1.36\n",
      "Epoch: 1/5, Test acc: 49.02, Train acc: 48.65\n",
      "Iteration: 0/3125, Loss: 1.45\n",
      "Iteration: 100/3125, Loss: 1.25\n",
      "Iteration: 200/3125, Loss: 1.07\n",
      "Min loss 0.78\n",
      "Iteration: 300/3125, Loss: 0.94\n",
      "Iteration: 400/3125, Loss: 1.17\n",
      "Iteration: 500/3125, Loss: 1.07\n",
      "Iteration: 600/3125, Loss: 1.59\n",
      "Iteration: 700/3125, Loss: 1.23\n",
      "Iteration: 800/3125, Loss: 1.40\n",
      "Iteration: 900/3125, Loss: 1.69\n",
      "Iteration: 1000/3125, Loss: 1.62\n",
      "Iteration: 1100/3125, Loss: 1.64\n",
      "Iteration: 1200/3125, Loss: 1.89\n",
      "Iteration: 1300/3125, Loss: 1.60\n",
      "Iteration: 1400/3125, Loss: 1.62\n",
      "Iteration: 1500/3125, Loss: 1.28\n",
      "Iteration: 1600/3125, Loss: 1.29\n",
      "Iteration: 1700/3125, Loss: 1.62\n",
      "Iteration: 1800/3125, Loss: 1.47\n",
      "Iteration: 1900/3125, Loss: 1.80\n",
      "Iteration: 2000/3125, Loss: 1.42\n",
      "Iteration: 2100/3125, Loss: 1.51\n",
      "Iteration: 2200/3125, Loss: 1.31\n",
      "Iteration: 2300/3125, Loss: 1.50\n",
      "Iteration: 2400/3125, Loss: 1.56\n",
      "Iteration: 2500/3125, Loss: 1.37\n",
      "Iteration: 2600/3125, Loss: 1.25\n",
      "Iteration: 2700/3125, Loss: 1.86\n",
      "Iteration: 2800/3125, Loss: 1.01\n",
      "Iteration: 2900/3125, Loss: 1.86\n",
      "Iteration: 3000/3125, Loss: 1.48\n",
      "Iteration: 3100/3125, Loss: 1.13\n",
      "Epoch: 2/5, Test acc: 48.69, Train acc: 48.88\n",
      "Iteration: 0/3125, Loss: 1.23\n",
      "Iteration: 100/3125, Loss: 1.60\n",
      "Iteration: 200/3125, Loss: 1.49\n",
      "Iteration: 300/3125, Loss: 1.28\n",
      "Iteration: 400/3125, Loss: 1.80\n",
      "Iteration: 500/3125, Loss: 1.22\n",
      "Iteration: 600/3125, Loss: 1.41\n",
      "Iteration: 700/3125, Loss: 1.71\n",
      "Iteration: 800/3125, Loss: 1.22\n",
      "Iteration: 900/3125, Loss: 1.45\n",
      "Min loss 0.76\n",
      "Iteration: 1000/3125, Loss: 1.44\n",
      "Iteration: 1100/3125, Loss: 1.41\n",
      "Iteration: 1200/3125, Loss: 1.09\n",
      "Iteration: 1300/3125, Loss: 1.80\n",
      "Iteration: 1400/3125, Loss: 1.48\n",
      "Iteration: 1500/3125, Loss: 1.93\n",
      "Min loss 0.74\n",
      "Iteration: 1600/3125, Loss: 0.97\n",
      "Iteration: 1700/3125, Loss: 1.34\n",
      "Iteration: 1800/3125, Loss: 1.81\n",
      "Iteration: 1900/3125, Loss: 1.41\n",
      "Iteration: 2000/3125, Loss: 1.45\n",
      "Iteration: 2100/3125, Loss: 1.59\n",
      "Iteration: 2200/3125, Loss: 1.20\n",
      "Iteration: 2300/3125, Loss: 1.61\n",
      "Iteration: 2400/3125, Loss: 1.65\n",
      "Iteration: 2500/3125, Loss: 1.40\n",
      "Iteration: 2600/3125, Loss: 1.91\n",
      "Iteration: 2700/3125, Loss: 1.31\n",
      "Iteration: 2800/3125, Loss: 1.45\n",
      "Iteration: 2900/3125, Loss: 1.80\n",
      "Iteration: 3000/3125, Loss: 1.29\n",
      "Iteration: 3100/3125, Loss: 1.45\n",
      "Epoch: 3/5, Test acc: 49.05, Train acc: 48.82\n",
      "Iteration: 0/3125, Loss: 1.47\n",
      "Iteration: 100/3125, Loss: 1.54\n",
      "Iteration: 200/3125, Loss: 1.80\n",
      "Iteration: 300/3125, Loss: 0.98\n",
      "Iteration: 400/3125, Loss: 1.53\n",
      "Iteration: 500/3125, Loss: 1.13\n",
      "Iteration: 600/3125, Loss: 1.39\n",
      "Iteration: 700/3125, Loss: 1.27\n",
      "Iteration: 800/3125, Loss: 1.22\n",
      "Iteration: 900/3125, Loss: 1.41\n",
      "Iteration: 1000/3125, Loss: 1.35\n",
      "Iteration: 1100/3125, Loss: 1.53\n",
      "Iteration: 1200/3125, Loss: 1.70\n",
      "Iteration: 1300/3125, Loss: 1.35\n",
      "Iteration: 1400/3125, Loss: 1.23\n",
      "Iteration: 1500/3125, Loss: 1.51\n",
      "Iteration: 1600/3125, Loss: 1.72\n",
      "Iteration: 1700/3125, Loss: 1.42\n",
      "Iteration: 1800/3125, Loss: 1.40\n",
      "Iteration: 1900/3125, Loss: 1.79\n",
      "Iteration: 2000/3125, Loss: 1.60\n",
      "Iteration: 2100/3125, Loss: 1.33\n",
      "Iteration: 2200/3125, Loss: 1.10\n",
      "Iteration: 2300/3125, Loss: 1.16\n",
      "Iteration: 2400/3125, Loss: 1.34\n",
      "Iteration: 2500/3125, Loss: 1.06\n",
      "Iteration: 2600/3125, Loss: 1.25\n",
      "Iteration: 2700/3125, Loss: 1.47\n",
      "Iteration: 2800/3125, Loss: 1.44\n",
      "Iteration: 2900/3125, Loss: 1.91\n",
      "Iteration: 3000/3125, Loss: 1.44\n",
      "Iteration: 3100/3125, Loss: 1.39\n",
      "Epoch: 4/5, Test acc: 48.38, Train acc: 48.54\n"
     ]
    },
    {
     "data": {
      "image/png": "[encoded data removed]",
      "text/plain": [
       "<Figure size 640x480 with 1 Axes>"
      ]
     },
     "metadata": {},
     "output_type": "display_data"
    }
   ],
   "source": [
    "loss_epoch_arr = []\n",
    "max_epochs = 5\n",
    "\n",
    "min_loss = 1000\n",
    "\n",
    "n_iters = np.ceil(50000/batch_size)\n",
    "\n",
    "for epoch in range(max_epochs):\n",
    "\n",
    "    for i, data in enumerate(trainloader, 0):\n",
    "\n",
    "        inputs, labels = data\n",
    "        inputs, labels = inputs.to(device), labels.to(device)\n",
    "\n",
    "        opt.zero_grad()\n",
    "\n",
    "        outputs = resnet(inputs)\n",
    "        loss = loss_fn(outputs, labels)\n",
    "        loss.backward()\n",
    "        opt.step()\n",
    "        \n",
    "        if min_loss > loss.item():\n",
    "            min_loss = loss.item()\n",
    "            best_model = copy.deepcopy(resnet.state_dict())\n",
    "            print('Min loss %0.2f' % min_loss)\n",
    "        \n",
    "        if i % 100 == 0:\n",
    "            print('Iteration: %d/%d, Loss: %0.2f' % (i, n_iters, loss.item()))\n",
    "            \n",
    "        del inputs, labels, outputs\n",
    "        torch.cuda.empty_cache()\n",
    "        \n",
    "    loss_epoch_arr.append(loss.item())\n",
    "        \n",
    "    print('Epoch: %d/%d, Test acc: %0.2f, Train acc: %0.2f' % (\n",
    "        epoch, max_epochs, \n",
    "        evaluation(testloader, resnet), evaluation(trainloader, resnet)))\n",
    "    \n",
    "    \n",
    "# change max_epochs value to > 1 \n",
    "plt.plot(loss_epoch_arr) \n",
    "plt.show()"
   ]
  },
  {
   "cell_type": "code",
   "execution_count": 39,
   "id": "b1dfed9f",
   "metadata": {
    "execution": {
     "iopub.execute_input": "2023-05-01T16:59:58.580229Z",
     "iopub.status.busy": "2023-05-01T16:59:58.579871Z",
     "iopub.status.idle": "2023-05-01T17:02:01.856277Z",
     "shell.execute_reply": "2023-05-01T17:02:01.855040Z"
    },
    "papermill": {
     "duration": 123.334058,
     "end_time": "2023-05-01T17:02:01.889789",
     "exception": false,
     "start_time": "2023-05-01T16:59:58.555731",
     "status": "completed"
    },
    "tags": []
   },
   "outputs": [
    {
     "name": "stdout",
     "output_type": "stream",
     "text": [
      "55.24 55.1\n"
     ]
    }
   ],
   "source": [
    "resnet.load_state_dict(best_model)\n",
    "print(evaluation(trainloader, resnet), evaluation(testloader, resnet))"
   ]
  },
  {
   "attachments": {},
   "cell_type": "markdown",
   "id": "5de13acb",
   "metadata": {
    "papermill": {
     "duration": 0.02632,
     "end_time": "2023-05-01T17:02:01.942629",
     "exception": false,
     "start_time": "2023-05-01T17:02:01.916309",
     "status": "completed"
    },
    "tags": []
   },
   "source": [
    "# Inception Model\n",
    "https://pytorch.org/vision/stable/models/inception.html"
   ]
  },
  {
   "cell_type": "code",
   "execution_count": 40,
   "id": "0f302bef",
   "metadata": {
    "_kg_hide-output": true,
    "execution": {
     "iopub.execute_input": "2023-05-01T17:02:01.996124Z",
     "iopub.status.busy": "2023-05-01T17:02:01.995709Z",
     "iopub.status.idle": "2023-05-01T17:02:04.410073Z",
     "shell.execute_reply": "2023-05-01T17:02:04.408880Z"
    },
    "papermill": {
     "duration": 2.449816,
     "end_time": "2023-05-01T17:02:04.418345",
     "exception": false,
     "start_time": "2023-05-01T17:02:01.968529",
     "status": "completed"
    },
    "tags": []
   },
   "outputs": [
    {
     "name": "stderr",
     "output_type": "stream",
     "text": [
      "d:\\CondaPyEnvs\\d2l\\lib\\site-packages\\torchvision\\models\\_utils.py:223: UserWarning: Arguments other than a weight enum or `None` for 'weights' are deprecated since 0.13 and may be removed in the future. The current behavior is equivalent to passing `weights=Inception_V3_Weights.IMAGENET1K_V1`. You can also use `weights=Inception_V3_Weights.DEFAULT` to get the most up-to-date weights.\n",
      "  warnings.warn(msg)\n"
     ]
    },
    {
     "name": "stdout",
     "output_type": "stream",
     "text": [
      "Inception3(\n",
      "  (Conv2d_1a_3x3): BasicConv2d(\n",
      "    (conv): Conv2d(3, 32, kernel_size=(3, 3), stride=(2, 2), bias=False)\n",
      "    (bn): BatchNorm2d(32, eps=0.001, momentum=0.1, affine=True, track_running_stats=True)\n",
      "  )\n",
      "  (Conv2d_2a_3x3): BasicConv2d(\n",
      "    (conv): Conv2d(32, 32, kernel_size=(3, 3), stride=(1, 1), bias=False)\n",
      "    (bn): BatchNorm2d(32, eps=0.001, momentum=0.1, affine=True, track_running_stats=True)\n",
      "  )\n",
      "  (Conv2d_2b_3x3): BasicConv2d(\n",
      "    (conv): Conv2d(32, 64, kernel_size=(3, 3), stride=(1, 1), padding=(1, 1), bias=False)\n",
      "    (bn): BatchNorm2d(64, eps=0.001, momentum=0.1, affine=True, track_running_stats=True)\n",
      "  )\n",
      "  (maxpool1): MaxPool2d(kernel_size=3, stride=2, padding=0, dilation=1, ceil_mode=False)\n",
      "  (Conv2d_3b_1x1): BasicConv2d(\n",
      "    (conv): Conv2d(64, 80, kernel_size=(1, 1), stride=(1, 1), bias=False)\n",
      "    (bn): BatchNorm2d(80, eps=0.001, momentum=0.1, affine=True, track_running_stats=True)\n",
      "  )\n",
      "  (Conv2d_4a_3x3): BasicConv2d(\n",
      "    (conv): Conv2d(80, 192, kernel_size=(3, 3), stride=(1, 1), bias=False)\n",
      "    (bn): BatchNorm2d(192, eps=0.001, momentum=0.1, affine=True, track_running_stats=True)\n",
      "  )\n",
      "  (maxpool2): MaxPool2d(kernel_size=3, stride=2, padding=0, dilation=1, ceil_mode=False)\n",
      "  (Mixed_5b): InceptionA(\n",
      "    (branch1x1): BasicConv2d(\n",
      "      (conv): Conv2d(192, 64, kernel_size=(1, 1), stride=(1, 1), bias=False)\n",
      "      (bn): BatchNorm2d(64, eps=0.001, momentum=0.1, affine=True, track_running_stats=True)\n",
      "    )\n",
      "    (branch5x5_1): BasicConv2d(\n",
      "      (conv): Conv2d(192, 48, kernel_size=(1, 1), stride=(1, 1), bias=False)\n",
      "      (bn): BatchNorm2d(48, eps=0.001, momentum=0.1, affine=True, track_running_stats=True)\n",
      "    )\n",
      "    (branch5x5_2): BasicConv2d(\n",
      "      (conv): Conv2d(48, 64, kernel_size=(5, 5), stride=(1, 1), padding=(2, 2), bias=False)\n",
      "      (bn): BatchNorm2d(64, eps=0.001, momentum=0.1, affine=True, track_running_stats=True)\n",
      "    )\n",
      "    (branch3x3dbl_1): BasicConv2d(\n",
      "      (conv): Conv2d(192, 64, kernel_size=(1, 1), stride=(1, 1), bias=False)\n",
      "      (bn): BatchNorm2d(64, eps=0.001, momentum=0.1, affine=True, track_running_stats=True)\n",
      "    )\n",
      "    (branch3x3dbl_2): BasicConv2d(\n",
      "      (conv): Conv2d(64, 96, kernel_size=(3, 3), stride=(1, 1), padding=(1, 1), bias=False)\n",
      "      (bn): BatchNorm2d(96, eps=0.001, momentum=0.1, affine=True, track_running_stats=True)\n",
      "    )\n",
      "    (branch3x3dbl_3): BasicConv2d(\n",
      "      (conv): Conv2d(96, 96, kernel_size=(3, 3), stride=(1, 1), padding=(1, 1), bias=False)\n",
      "      (bn): BatchNorm2d(96, eps=0.001, momentum=0.1, affine=True, track_running_stats=True)\n",
      "    )\n",
      "    (branch_pool): BasicConv2d(\n",
      "      (conv): Conv2d(192, 32, kernel_size=(1, 1), stride=(1, 1), bias=False)\n",
      "      (bn): BatchNorm2d(32, eps=0.001, momentum=0.1, affine=True, track_running_stats=True)\n",
      "    )\n",
      "  )\n",
      "  (Mixed_5c): InceptionA(\n",
      "    (branch1x1): BasicConv2d(\n",
      "      (conv): Conv2d(256, 64, kernel_size=(1, 1), stride=(1, 1), bias=False)\n",
      "      (bn): BatchNorm2d(64, eps=0.001, momentum=0.1, affine=True, track_running_stats=True)\n",
      "    )\n",
      "    (branch5x5_1): BasicConv2d(\n",
      "      (conv): Conv2d(256, 48, kernel_size=(1, 1), stride=(1, 1), bias=False)\n",
      "      (bn): BatchNorm2d(48, eps=0.001, momentum=0.1, affine=True, track_running_stats=True)\n",
      "    )\n",
      "    (branch5x5_2): BasicConv2d(\n",
      "      (conv): Conv2d(48, 64, kernel_size=(5, 5), stride=(1, 1), padding=(2, 2), bias=False)\n",
      "      (bn): BatchNorm2d(64, eps=0.001, momentum=0.1, affine=True, track_running_stats=True)\n",
      "    )\n",
      "    (branch3x3dbl_1): BasicConv2d(\n",
      "      (conv): Conv2d(256, 64, kernel_size=(1, 1), stride=(1, 1), bias=False)\n",
      "      (bn): BatchNorm2d(64, eps=0.001, momentum=0.1, affine=True, track_running_stats=True)\n",
      "    )\n",
      "    (branch3x3dbl_2): BasicConv2d(\n",
      "      (conv): Conv2d(64, 96, kernel_size=(3, 3), stride=(1, 1), padding=(1, 1), bias=False)\n",
      "      (bn): BatchNorm2d(96, eps=0.001, momentum=0.1, affine=True, track_running_stats=True)\n",
      "    )\n",
      "    (branch3x3dbl_3): BasicConv2d(\n",
      "      (conv): Conv2d(96, 96, kernel_size=(3, 3), stride=(1, 1), padding=(1, 1), bias=False)\n",
      "      (bn): BatchNorm2d(96, eps=0.001, momentum=0.1, affine=True, track_running_stats=True)\n",
      "    )\n",
      "    (branch_pool): BasicConv2d(\n",
      "      (conv): Conv2d(256, 64, kernel_size=(1, 1), stride=(1, 1), bias=False)\n",
      "      (bn): BatchNorm2d(64, eps=0.001, momentum=0.1, affine=True, track_running_stats=True)\n",
      "    )\n",
      "  )\n",
      "  (Mixed_5d): InceptionA(\n",
      "    (branch1x1): BasicConv2d(\n",
      "      (conv): Conv2d(288, 64, kernel_size=(1, 1), stride=(1, 1), bias=False)\n",
      "      (bn): BatchNorm2d(64, eps=0.001, momentum=0.1, affine=True, track_running_stats=True)\n",
      "    )\n",
      "    (branch5x5_1): BasicConv2d(\n",
      "      (conv): Conv2d(288, 48, kernel_size=(1, 1), stride=(1, 1), bias=False)\n",
      "      (bn): BatchNorm2d(48, eps=0.001, momentum=0.1, affine=True, track_running_stats=True)\n",
      "    )\n",
      "    (branch5x5_2): BasicConv2d(\n",
      "      (conv): Conv2d(48, 64, kernel_size=(5, 5), stride=(1, 1), padding=(2, 2), bias=False)\n",
      "      (bn): BatchNorm2d(64, eps=0.001, momentum=0.1, affine=True, track_running_stats=True)\n",
      "    )\n",
      "    (branch3x3dbl_1): BasicConv2d(\n",
      "      (conv): Conv2d(288, 64, kernel_size=(1, 1), stride=(1, 1), bias=False)\n",
      "      (bn): BatchNorm2d(64, eps=0.001, momentum=0.1, affine=True, track_running_stats=True)\n",
      "    )\n",
      "    (branch3x3dbl_2): BasicConv2d(\n",
      "      (conv): Conv2d(64, 96, kernel_size=(3, 3), stride=(1, 1), padding=(1, 1), bias=False)\n",
      "      (bn): BatchNorm2d(96, eps=0.001, momentum=0.1, affine=True, track_running_stats=True)\n",
      "    )\n",
      "    (branch3x3dbl_3): BasicConv2d(\n",
      "      (conv): Conv2d(96, 96, kernel_size=(3, 3), stride=(1, 1), padding=(1, 1), bias=False)\n",
      "      (bn): BatchNorm2d(96, eps=0.001, momentum=0.1, affine=True, track_running_stats=True)\n",
      "    )\n",
      "    (branch_pool): BasicConv2d(\n",
      "      (conv): Conv2d(288, 64, kernel_size=(1, 1), stride=(1, 1), bias=False)\n",
      "      (bn): BatchNorm2d(64, eps=0.001, momentum=0.1, affine=True, track_running_stats=True)\n",
      "    )\n",
      "  )\n",
      "  (Mixed_6a): InceptionB(\n",
      "    (branch3x3): BasicConv2d(\n",
      "      (conv): Conv2d(288, 384, kernel_size=(3, 3), stride=(2, 2), bias=False)\n",
      "      (bn): BatchNorm2d(384, eps=0.001, momentum=0.1, affine=True, track_running_stats=True)\n",
      "    )\n",
      "    (branch3x3dbl_1): BasicConv2d(\n",
      "      (conv): Conv2d(288, 64, kernel_size=(1, 1), stride=(1, 1), bias=False)\n",
      "      (bn): BatchNorm2d(64, eps=0.001, momentum=0.1, affine=True, track_running_stats=True)\n",
      "    )\n",
      "    (branch3x3dbl_2): BasicConv2d(\n",
      "      (conv): Conv2d(64, 96, kernel_size=(3, 3), stride=(1, 1), padding=(1, 1), bias=False)\n",
      "      (bn): BatchNorm2d(96, eps=0.001, momentum=0.1, affine=True, track_running_stats=True)\n",
      "    )\n",
      "    (branch3x3dbl_3): BasicConv2d(\n",
      "      (conv): Conv2d(96, 96, kernel_size=(3, 3), stride=(2, 2), bias=False)\n",
      "      (bn): BatchNorm2d(96, eps=0.001, momentum=0.1, affine=True, track_running_stats=True)\n",
      "    )\n",
      "  )\n",
      "  (Mixed_6b): InceptionC(\n",
      "    (branch1x1): BasicConv2d(\n",
      "      (conv): Conv2d(768, 192, kernel_size=(1, 1), stride=(1, 1), bias=False)\n",
      "      (bn): BatchNorm2d(192, eps=0.001, momentum=0.1, affine=True, track_running_stats=True)\n",
      "    )\n",
      "    (branch7x7_1): BasicConv2d(\n",
      "      (conv): Conv2d(768, 128, kernel_size=(1, 1), stride=(1, 1), bias=False)\n",
      "      (bn): BatchNorm2d(128, eps=0.001, momentum=0.1, affine=True, track_running_stats=True)\n",
      "    )\n",
      "    (branch7x7_2): BasicConv2d(\n",
      "      (conv): Conv2d(128, 128, kernel_size=(1, 7), stride=(1, 1), padding=(0, 3), bias=False)\n",
      "      (bn): BatchNorm2d(128, eps=0.001, momentum=0.1, affine=True, track_running_stats=True)\n",
      "    )\n",
      "    (branch7x7_3): BasicConv2d(\n",
      "      (conv): Conv2d(128, 192, kernel_size=(7, 1), stride=(1, 1), padding=(3, 0), bias=False)\n",
      "      (bn): BatchNorm2d(192, eps=0.001, momentum=0.1, affine=True, track_running_stats=True)\n",
      "    )\n",
      "    (branch7x7dbl_1): BasicConv2d(\n",
      "      (conv): Conv2d(768, 128, kernel_size=(1, 1), stride=(1, 1), bias=False)\n",
      "      (bn): BatchNorm2d(128, eps=0.001, momentum=0.1, affine=True, track_running_stats=True)\n",
      "    )\n",
      "    (branch7x7dbl_2): BasicConv2d(\n",
      "      (conv): Conv2d(128, 128, kernel_size=(7, 1), stride=(1, 1), padding=(3, 0), bias=False)\n",
      "      (bn): BatchNorm2d(128, eps=0.001, momentum=0.1, affine=True, track_running_stats=True)\n",
      "    )\n",
      "    (branch7x7dbl_3): BasicConv2d(\n",
      "      (conv): Conv2d(128, 128, kernel_size=(1, 7), stride=(1, 1), padding=(0, 3), bias=False)\n",
      "      (bn): BatchNorm2d(128, eps=0.001, momentum=0.1, affine=True, track_running_stats=True)\n",
      "    )\n",
      "    (branch7x7dbl_4): BasicConv2d(\n",
      "      (conv): Conv2d(128, 128, kernel_size=(7, 1), stride=(1, 1), padding=(3, 0), bias=False)\n",
      "      (bn): BatchNorm2d(128, eps=0.001, momentum=0.1, affine=True, track_running_stats=True)\n",
      "    )\n",
      "    (branch7x7dbl_5): BasicConv2d(\n",
      "      (conv): Conv2d(128, 192, kernel_size=(1, 7), stride=(1, 1), padding=(0, 3), bias=False)\n",
      "      (bn): BatchNorm2d(192, eps=0.001, momentum=0.1, affine=True, track_running_stats=True)\n",
      "    )\n",
      "    (branch_pool): BasicConv2d(\n",
      "      (conv): Conv2d(768, 192, kernel_size=(1, 1), stride=(1, 1), bias=False)\n",
      "      (bn): BatchNorm2d(192, eps=0.001, momentum=0.1, affine=True, track_running_stats=True)\n",
      "    )\n",
      "  )\n",
      "  (Mixed_6c): InceptionC(\n",
      "    (branch1x1): BasicConv2d(\n",
      "      (conv): Conv2d(768, 192, kernel_size=(1, 1), stride=(1, 1), bias=False)\n",
      "      (bn): BatchNorm2d(192, eps=0.001, momentum=0.1, affine=True, track_running_stats=True)\n",
      "    )\n",
      "    (branch7x7_1): BasicConv2d(\n",
      "      (conv): Conv2d(768, 160, kernel_size=(1, 1), stride=(1, 1), bias=False)\n",
      "      (bn): BatchNorm2d(160, eps=0.001, momentum=0.1, affine=True, track_running_stats=True)\n",
      "    )\n",
      "    (branch7x7_2): BasicConv2d(\n",
      "      (conv): Conv2d(160, 160, kernel_size=(1, 7), stride=(1, 1), padding=(0, 3), bias=False)\n",
      "      (bn): BatchNorm2d(160, eps=0.001, momentum=0.1, affine=True, track_running_stats=True)\n",
      "    )\n",
      "    (branch7x7_3): BasicConv2d(\n",
      "      (conv): Conv2d(160, 192, kernel_size=(7, 1), stride=(1, 1), padding=(3, 0), bias=False)\n",
      "      (bn): BatchNorm2d(192, eps=0.001, momentum=0.1, affine=True, track_running_stats=True)\n",
      "    )\n",
      "    (branch7x7dbl_1): BasicConv2d(\n",
      "      (conv): Conv2d(768, 160, kernel_size=(1, 1), stride=(1, 1), bias=False)\n",
      "      (bn): BatchNorm2d(160, eps=0.001, momentum=0.1, affine=True, track_running_stats=True)\n",
      "    )\n",
      "    (branch7x7dbl_2): BasicConv2d(\n",
      "      (conv): Conv2d(160, 160, kernel_size=(7, 1), stride=(1, 1), padding=(3, 0), bias=False)\n",
      "      (bn): BatchNorm2d(160, eps=0.001, momentum=0.1, affine=True, track_running_stats=True)\n",
      "    )\n",
      "    (branch7x7dbl_3): BasicConv2d(\n",
      "      (conv): Conv2d(160, 160, kernel_size=(1, 7), stride=(1, 1), padding=(0, 3), bias=False)\n",
      "      (bn): BatchNorm2d(160, eps=0.001, momentum=0.1, affine=True, track_running_stats=True)\n",
      "    )\n",
      "    (branch7x7dbl_4): BasicConv2d(\n",
      "      (conv): Conv2d(160, 160, kernel_size=(7, 1), stride=(1, 1), padding=(3, 0), bias=False)\n",
      "      (bn): BatchNorm2d(160, eps=0.001, momentum=0.1, affine=True, track_running_stats=True)\n",
      "    )\n",
      "    (branch7x7dbl_5): BasicConv2d(\n",
      "      (conv): Conv2d(160, 192, kernel_size=(1, 7), stride=(1, 1), padding=(0, 3), bias=False)\n",
      "      (bn): BatchNorm2d(192, eps=0.001, momentum=0.1, affine=True, track_running_stats=True)\n",
      "    )\n",
      "    (branch_pool): BasicConv2d(\n",
      "      (conv): Conv2d(768, 192, kernel_size=(1, 1), stride=(1, 1), bias=False)\n",
      "      (bn): BatchNorm2d(192, eps=0.001, momentum=0.1, affine=True, track_running_stats=True)\n",
      "    )\n",
      "  )\n",
      "  (Mixed_6d): InceptionC(\n",
      "    (branch1x1): BasicConv2d(\n",
      "      (conv): Conv2d(768, 192, kernel_size=(1, 1), stride=(1, 1), bias=False)\n",
      "      (bn): BatchNorm2d(192, eps=0.001, momentum=0.1, affine=True, track_running_stats=True)\n",
      "    )\n",
      "    (branch7x7_1): BasicConv2d(\n",
      "      (conv): Conv2d(768, 160, kernel_size=(1, 1), stride=(1, 1), bias=False)\n",
      "      (bn): BatchNorm2d(160, eps=0.001, momentum=0.1, affine=True, track_running_stats=True)\n",
      "    )\n",
      "    (branch7x7_2): BasicConv2d(\n",
      "      (conv): Conv2d(160, 160, kernel_size=(1, 7), stride=(1, 1), padding=(0, 3), bias=False)\n",
      "      (bn): BatchNorm2d(160, eps=0.001, momentum=0.1, affine=True, track_running_stats=True)\n",
      "    )\n",
      "    (branch7x7_3): BasicConv2d(\n",
      "      (conv): Conv2d(160, 192, kernel_size=(7, 1), stride=(1, 1), padding=(3, 0), bias=False)\n",
      "      (bn): BatchNorm2d(192, eps=0.001, momentum=0.1, affine=True, track_running_stats=True)\n",
      "    )\n",
      "    (branch7x7dbl_1): BasicConv2d(\n",
      "      (conv): Conv2d(768, 160, kernel_size=(1, 1), stride=(1, 1), bias=False)\n",
      "      (bn): BatchNorm2d(160, eps=0.001, momentum=0.1, affine=True, track_running_stats=True)\n",
      "    )\n",
      "    (branch7x7dbl_2): BasicConv2d(\n",
      "      (conv): Conv2d(160, 160, kernel_size=(7, 1), stride=(1, 1), padding=(3, 0), bias=False)\n",
      "      (bn): BatchNorm2d(160, eps=0.001, momentum=0.1, affine=True, track_running_stats=True)\n",
      "    )\n",
      "    (branch7x7dbl_3): BasicConv2d(\n",
      "      (conv): Conv2d(160, 160, kernel_size=(1, 7), stride=(1, 1), padding=(0, 3), bias=False)\n",
      "      (bn): BatchNorm2d(160, eps=0.001, momentum=0.1, affine=True, track_running_stats=True)\n",
      "    )\n",
      "    (branch7x7dbl_4): BasicConv2d(\n",
      "      (conv): Conv2d(160, 160, kernel_size=(7, 1), stride=(1, 1), padding=(3, 0), bias=False)\n",
      "      (bn): BatchNorm2d(160, eps=0.001, momentum=0.1, affine=True, track_running_stats=True)\n",
      "    )\n",
      "    (branch7x7dbl_5): BasicConv2d(\n",
      "      (conv): Conv2d(160, 192, kernel_size=(1, 7), stride=(1, 1), padding=(0, 3), bias=False)\n",
      "      (bn): BatchNorm2d(192, eps=0.001, momentum=0.1, affine=True, track_running_stats=True)\n",
      "    )\n",
      "    (branch_pool): BasicConv2d(\n",
      "      (conv): Conv2d(768, 192, kernel_size=(1, 1), stride=(1, 1), bias=False)\n",
      "      (bn): BatchNorm2d(192, eps=0.001, momentum=0.1, affine=True, track_running_stats=True)\n",
      "    )\n",
      "  )\n",
      "  (Mixed_6e): InceptionC(\n",
      "    (branch1x1): BasicConv2d(\n",
      "      (conv): Conv2d(768, 192, kernel_size=(1, 1), stride=(1, 1), bias=False)\n",
      "      (bn): BatchNorm2d(192, eps=0.001, momentum=0.1, affine=True, track_running_stats=True)\n",
      "    )\n",
      "    (branch7x7_1): BasicConv2d(\n",
      "      (conv): Conv2d(768, 192, kernel_size=(1, 1), stride=(1, 1), bias=False)\n",
      "      (bn): BatchNorm2d(192, eps=0.001, momentum=0.1, affine=True, track_running_stats=True)\n",
      "    )\n",
      "    (branch7x7_2): BasicConv2d(\n",
      "      (conv): Conv2d(192, 192, kernel_size=(1, 7), stride=(1, 1), padding=(0, 3), bias=False)\n",
      "      (bn): BatchNorm2d(192, eps=0.001, momentum=0.1, affine=True, track_running_stats=True)\n",
      "    )\n",
      "    (branch7x7_3): BasicConv2d(\n",
      "      (conv): Conv2d(192, 192, kernel_size=(7, 1), stride=(1, 1), padding=(3, 0), bias=False)\n",
      "      (bn): BatchNorm2d(192, eps=0.001, momentum=0.1, affine=True, track_running_stats=True)\n",
      "    )\n",
      "    (branch7x7dbl_1): BasicConv2d(\n",
      "      (conv): Conv2d(768, 192, kernel_size=(1, 1), stride=(1, 1), bias=False)\n",
      "      (bn): BatchNorm2d(192, eps=0.001, momentum=0.1, affine=True, track_running_stats=True)\n",
      "    )\n",
      "    (branch7x7dbl_2): BasicConv2d(\n",
      "      (conv): Conv2d(192, 192, kernel_size=(7, 1), stride=(1, 1), padding=(3, 0), bias=False)\n",
      "      (bn): BatchNorm2d(192, eps=0.001, momentum=0.1, affine=True, track_running_stats=True)\n",
      "    )\n",
      "    (branch7x7dbl_3): BasicConv2d(\n",
      "      (conv): Conv2d(192, 192, kernel_size=(1, 7), stride=(1, 1), padding=(0, 3), bias=False)\n",
      "      (bn): BatchNorm2d(192, eps=0.001, momentum=0.1, affine=True, track_running_stats=True)\n",
      "    )\n",
      "    (branch7x7dbl_4): BasicConv2d(\n",
      "      (conv): Conv2d(192, 192, kernel_size=(7, 1), stride=(1, 1), padding=(3, 0), bias=False)\n",
      "      (bn): BatchNorm2d(192, eps=0.001, momentum=0.1, affine=True, track_running_stats=True)\n",
      "    )\n",
      "    (branch7x7dbl_5): BasicConv2d(\n",
      "      (conv): Conv2d(192, 192, kernel_size=(1, 7), stride=(1, 1), padding=(0, 3), bias=False)\n",
      "      (bn): BatchNorm2d(192, eps=0.001, momentum=0.1, affine=True, track_running_stats=True)\n",
      "    )\n",
      "    (branch_pool): BasicConv2d(\n",
      "      (conv): Conv2d(768, 192, kernel_size=(1, 1), stride=(1, 1), bias=False)\n",
      "      (bn): BatchNorm2d(192, eps=0.001, momentum=0.1, affine=True, track_running_stats=True)\n",
      "    )\n",
      "  )\n",
      "  (AuxLogits): InceptionAux(\n",
      "    (conv0): BasicConv2d(\n",
      "      (conv): Conv2d(768, 128, kernel_size=(1, 1), stride=(1, 1), bias=False)\n",
      "      (bn): BatchNorm2d(128, eps=0.001, momentum=0.1, affine=True, track_running_stats=True)\n",
      "    )\n",
      "    (conv1): BasicConv2d(\n",
      "      (conv): Conv2d(128, 768, kernel_size=(5, 5), stride=(1, 1), bias=False)\n",
      "      (bn): BatchNorm2d(768, eps=0.001, momentum=0.1, affine=True, track_running_stats=True)\n",
      "    )\n",
      "    (fc): Linear(in_features=768, out_features=1000, bias=True)\n",
      "  )\n",
      "  (Mixed_7a): InceptionD(\n",
      "    (branch3x3_1): BasicConv2d(\n",
      "      (conv): Conv2d(768, 192, kernel_size=(1, 1), stride=(1, 1), bias=False)\n",
      "      (bn): BatchNorm2d(192, eps=0.001, momentum=0.1, affine=True, track_running_stats=True)\n",
      "    )\n",
      "    (branch3x3_2): BasicConv2d(\n",
      "      (conv): Conv2d(192, 320, kernel_size=(3, 3), stride=(2, 2), bias=False)\n",
      "      (bn): BatchNorm2d(320, eps=0.001, momentum=0.1, affine=True, track_running_stats=True)\n",
      "    )\n",
      "    (branch7x7x3_1): BasicConv2d(\n",
      "      (conv): Conv2d(768, 192, kernel_size=(1, 1), stride=(1, 1), bias=False)\n",
      "      (bn): BatchNorm2d(192, eps=0.001, momentum=0.1, affine=True, track_running_stats=True)\n",
      "    )\n",
      "    (branch7x7x3_2): BasicConv2d(\n",
      "      (conv): Conv2d(192, 192, kernel_size=(1, 7), stride=(1, 1), padding=(0, 3), bias=False)\n",
      "      (bn): BatchNorm2d(192, eps=0.001, momentum=0.1, affine=True, track_running_stats=True)\n",
      "    )\n",
      "    (branch7x7x3_3): BasicConv2d(\n",
      "      (conv): Conv2d(192, 192, kernel_size=(7, 1), stride=(1, 1), padding=(3, 0), bias=False)\n",
      "      (bn): BatchNorm2d(192, eps=0.001, momentum=0.1, affine=True, track_running_stats=True)\n",
      "    )\n",
      "    (branch7x7x3_4): BasicConv2d(\n",
      "      (conv): Conv2d(192, 192, kernel_size=(3, 3), stride=(2, 2), bias=False)\n",
      "      (bn): BatchNorm2d(192, eps=0.001, momentum=0.1, affine=True, track_running_stats=True)\n",
      "    )\n",
      "  )\n",
      "  (Mixed_7b): InceptionE(\n",
      "    (branch1x1): BasicConv2d(\n",
      "      (conv): Conv2d(1280, 320, kernel_size=(1, 1), stride=(1, 1), bias=False)\n",
      "      (bn): BatchNorm2d(320, eps=0.001, momentum=0.1, affine=True, track_running_stats=True)\n",
      "    )\n",
      "    (branch3x3_1): BasicConv2d(\n",
      "      (conv): Conv2d(1280, 384, kernel_size=(1, 1), stride=(1, 1), bias=False)\n",
      "      (bn): BatchNorm2d(384, eps=0.001, momentum=0.1, affine=True, track_running_stats=True)\n",
      "    )\n",
      "    (branch3x3_2a): BasicConv2d(\n",
      "      (conv): Conv2d(384, 384, kernel_size=(1, 3), stride=(1, 1), padding=(0, 1), bias=False)\n",
      "      (bn): BatchNorm2d(384, eps=0.001, momentum=0.1, affine=True, track_running_stats=True)\n",
      "    )\n",
      "    (branch3x3_2b): BasicConv2d(\n",
      "      (conv): Conv2d(384, 384, kernel_size=(3, 1), stride=(1, 1), padding=(1, 0), bias=False)\n",
      "      (bn): BatchNorm2d(384, eps=0.001, momentum=0.1, affine=True, track_running_stats=True)\n",
      "    )\n",
      "    (branch3x3dbl_1): BasicConv2d(\n",
      "      (conv): Conv2d(1280, 448, kernel_size=(1, 1), stride=(1, 1), bias=False)\n",
      "      (bn): BatchNorm2d(448, eps=0.001, momentum=0.1, affine=True, track_running_stats=True)\n",
      "    )\n",
      "    (branch3x3dbl_2): BasicConv2d(\n",
      "      (conv): Conv2d(448, 384, kernel_size=(3, 3), stride=(1, 1), padding=(1, 1), bias=False)\n",
      "      (bn): BatchNorm2d(384, eps=0.001, momentum=0.1, affine=True, track_running_stats=True)\n",
      "    )\n",
      "    (branch3x3dbl_3a): BasicConv2d(\n",
      "      (conv): Conv2d(384, 384, kernel_size=(1, 3), stride=(1, 1), padding=(0, 1), bias=False)\n",
      "      (bn): BatchNorm2d(384, eps=0.001, momentum=0.1, affine=True, track_running_stats=True)\n",
      "    )\n",
      "    (branch3x3dbl_3b): BasicConv2d(\n",
      "      (conv): Conv2d(384, 384, kernel_size=(3, 1), stride=(1, 1), padding=(1, 0), bias=False)\n",
      "      (bn): BatchNorm2d(384, eps=0.001, momentum=0.1, affine=True, track_running_stats=True)\n",
      "    )\n",
      "    (branch_pool): BasicConv2d(\n",
      "      (conv): Conv2d(1280, 192, kernel_size=(1, 1), stride=(1, 1), bias=False)\n",
      "      (bn): BatchNorm2d(192, eps=0.001, momentum=0.1, affine=True, track_running_stats=True)\n",
      "    )\n",
      "  )\n",
      "  (Mixed_7c): InceptionE(\n",
      "    (branch1x1): BasicConv2d(\n",
      "      (conv): Conv2d(2048, 320, kernel_size=(1, 1), stride=(1, 1), bias=False)\n",
      "      (bn): BatchNorm2d(320, eps=0.001, momentum=0.1, affine=True, track_running_stats=True)\n",
      "    )\n",
      "    (branch3x3_1): BasicConv2d(\n",
      "      (conv): Conv2d(2048, 384, kernel_size=(1, 1), stride=(1, 1), bias=False)\n",
      "      (bn): BatchNorm2d(384, eps=0.001, momentum=0.1, affine=True, track_running_stats=True)\n",
      "    )\n",
      "    (branch3x3_2a): BasicConv2d(\n",
      "      (conv): Conv2d(384, 384, kernel_size=(1, 3), stride=(1, 1), padding=(0, 1), bias=False)\n",
      "      (bn): BatchNorm2d(384, eps=0.001, momentum=0.1, affine=True, track_running_stats=True)\n",
      "    )\n",
      "    (branch3x3_2b): BasicConv2d(\n",
      "      (conv): Conv2d(384, 384, kernel_size=(3, 1), stride=(1, 1), padding=(1, 0), bias=False)\n",
      "      (bn): BatchNorm2d(384, eps=0.001, momentum=0.1, affine=True, track_running_stats=True)\n",
      "    )\n",
      "    (branch3x3dbl_1): BasicConv2d(\n",
      "      (conv): Conv2d(2048, 448, kernel_size=(1, 1), stride=(1, 1), bias=False)\n",
      "      (bn): BatchNorm2d(448, eps=0.001, momentum=0.1, affine=True, track_running_stats=True)\n",
      "    )\n",
      "    (branch3x3dbl_2): BasicConv2d(\n",
      "      (conv): Conv2d(448, 384, kernel_size=(3, 3), stride=(1, 1), padding=(1, 1), bias=False)\n",
      "      (bn): BatchNorm2d(384, eps=0.001, momentum=0.1, affine=True, track_running_stats=True)\n",
      "    )\n",
      "    (branch3x3dbl_3a): BasicConv2d(\n",
      "      (conv): Conv2d(384, 384, kernel_size=(1, 3), stride=(1, 1), padding=(0, 1), bias=False)\n",
      "      (bn): BatchNorm2d(384, eps=0.001, momentum=0.1, affine=True, track_running_stats=True)\n",
      "    )\n",
      "    (branch3x3dbl_3b): BasicConv2d(\n",
      "      (conv): Conv2d(384, 384, kernel_size=(3, 1), stride=(1, 1), padding=(1, 0), bias=False)\n",
      "      (bn): BatchNorm2d(384, eps=0.001, momentum=0.1, affine=True, track_running_stats=True)\n",
      "    )\n",
      "    (branch_pool): BasicConv2d(\n",
      "      (conv): Conv2d(2048, 192, kernel_size=(1, 1), stride=(1, 1), bias=False)\n",
      "      (bn): BatchNorm2d(192, eps=0.001, momentum=0.1, affine=True, track_running_stats=True)\n",
      "    )\n",
      "  )\n",
      "  (avgpool): AdaptiveAvgPool2d(output_size=(1, 1))\n",
      "  (dropout): Dropout(p=0.5, inplace=False)\n",
      "  (fc): Linear(in_features=2048, out_features=1000, bias=True)\n",
      ")\n"
     ]
    }
   ],
   "source": [
    "inception = models.inception_v3(pretrained=True)\n",
    "print(inception)"
   ]
  },
  {
   "cell_type": "code",
   "execution_count": 41,
   "id": "d2c913c5",
   "metadata": {
    "execution": {
     "iopub.execute_input": "2023-05-01T17:02:04.468274Z",
     "iopub.status.busy": "2023-05-01T17:02:04.467369Z",
     "iopub.status.idle": "2023-05-01T17:02:04.473575Z",
     "shell.execute_reply": "2023-05-01T17:02:04.472629Z"
    },
    "papermill": {
     "duration": 0.033569,
     "end_time": "2023-05-01T17:02:04.475986",
     "exception": false,
     "start_time": "2023-05-01T17:02:04.442417",
     "status": "completed"
    },
    "tags": []
   },
   "outputs": [],
   "source": [
    "for param in inception.parameters():\n",
    "    param.requires_grad = False"
   ]
  },
  {
   "cell_type": "code",
   "execution_count": 42,
   "id": "da41bd3b",
   "metadata": {
    "execution": {
     "iopub.execute_input": "2023-05-01T17:02:04.524384Z",
     "iopub.status.busy": "2023-05-01T17:02:04.524078Z",
     "iopub.status.idle": "2023-05-01T17:02:04.529404Z",
     "shell.execute_reply": "2023-05-01T17:02:04.528412Z"
    },
    "papermill": {
     "duration": 0.031904,
     "end_time": "2023-05-01T17:02:04.531473",
     "exception": false,
     "start_time": "2023-05-01T17:02:04.499569",
     "status": "completed"
    },
    "tags": []
   },
   "outputs": [],
   "source": [
    "aux_in_features = inception.AuxLogits.fc.in_features\n",
    "inception.AuxLogits.fc = nn.Linear(aux_in_features, num_classes)"
   ]
  },
  {
   "cell_type": "code",
   "execution_count": 43,
   "id": "78a88258",
   "metadata": {
    "execution": {
     "iopub.execute_input": "2023-05-01T17:02:04.580467Z",
     "iopub.status.busy": "2023-05-01T17:02:04.580166Z",
     "iopub.status.idle": "2023-05-01T17:02:04.586619Z",
     "shell.execute_reply": "2023-05-01T17:02:04.585592Z"
    },
    "papermill": {
     "duration": 0.033431,
     "end_time": "2023-05-01T17:02:04.588915",
     "exception": false,
     "start_time": "2023-05-01T17:02:04.555484",
     "status": "completed"
    },
    "tags": []
   },
   "outputs": [
    {
     "name": "stdout",
     "output_type": "stream",
     "text": [
      "torch.Size([10, 768])\n",
      "torch.Size([10])\n"
     ]
    }
   ],
   "source": [
    "for param in inception.parameters():\n",
    "    if param.requires_grad:\n",
    "        print(param.shape)"
   ]
  },
  {
   "cell_type": "code",
   "execution_count": 44,
   "id": "42b5fd68",
   "metadata": {
    "execution": {
     "iopub.execute_input": "2023-05-01T17:02:04.637464Z",
     "iopub.status.busy": "2023-05-01T17:02:04.637180Z",
     "iopub.status.idle": "2023-05-01T17:02:04.642106Z",
     "shell.execute_reply": "2023-05-01T17:02:04.641124Z"
    },
    "papermill": {
     "duration": 0.031821,
     "end_time": "2023-05-01T17:02:04.644160",
     "exception": false,
     "start_time": "2023-05-01T17:02:04.612339",
     "status": "completed"
    },
    "tags": []
   },
   "outputs": [],
   "source": [
    "in_features = inception.fc.in_features\n",
    "inception.fc = nn.Linear(in_features, num_classes)"
   ]
  },
  {
   "cell_type": "code",
   "execution_count": 45,
   "id": "076cc822",
   "metadata": {
    "execution": {
     "iopub.execute_input": "2023-05-01T17:02:04.692951Z",
     "iopub.status.busy": "2023-05-01T17:02:04.692047Z",
     "iopub.status.idle": "2023-05-01T17:02:04.699531Z",
     "shell.execute_reply": "2023-05-01T17:02:04.698104Z"
    },
    "papermill": {
     "duration": 0.033926,
     "end_time": "2023-05-01T17:02:04.701698",
     "exception": false,
     "start_time": "2023-05-01T17:02:04.667772",
     "status": "completed"
    },
    "tags": []
   },
   "outputs": [
    {
     "name": "stdout",
     "output_type": "stream",
     "text": [
      "torch.Size([10, 768])\n",
      "torch.Size([10])\n",
      "torch.Size([10, 2048])\n",
      "torch.Size([10])\n"
     ]
    }
   ],
   "source": [
    "for param in inception.parameters():\n",
    "    if param.requires_grad:\n",
    "        print(param.shape)"
   ]
  },
  {
   "cell_type": "code",
   "execution_count": 46,
   "id": "7779c678",
   "metadata": {
    "execution": {
     "iopub.execute_input": "2023-05-01T17:02:04.751022Z",
     "iopub.status.busy": "2023-05-01T17:02:04.750026Z",
     "iopub.status.idle": "2023-05-01T17:02:04.756594Z",
     "shell.execute_reply": "2023-05-01T17:02:04.755691Z"
    },
    "papermill": {
     "duration": 0.03345,
     "end_time": "2023-05-01T17:02:04.758686",
     "exception": false,
     "start_time": "2023-05-01T17:02:04.725236",
     "status": "completed"
    },
    "tags": []
   },
   "outputs": [],
   "source": [
    "transform_train = transforms.Compose([\n",
    "    transforms.RandomResizedCrop(299), \n",
    "    transforms.ToTensor(),\n",
    "    transforms.Normalize((0.5, 0.5, 0.5), (0.5, 0.5, 0.5)),\n",
    "    ])\n",
    "\n",
    "transform_test = transforms.Compose([\n",
    "    transforms.RandomResizedCrop(299), \n",
    "    transforms.ToTensor(),\n",
    "    transforms.Normalize((0.5, 0.5, 0.5), (0.5, 0.5, 0.5)),\n",
    "    ])"
   ]
  },
  {
   "cell_type": "code",
   "execution_count": 47,
   "id": "2f92244f",
   "metadata": {
    "execution": {
     "iopub.execute_input": "2023-05-01T17:02:04.807392Z",
     "iopub.status.busy": "2023-05-01T17:02:04.806814Z",
     "iopub.status.idle": "2023-05-01T17:02:06.419270Z",
     "shell.execute_reply": "2023-05-01T17:02:06.418270Z"
    },
    "papermill": {
     "duration": 1.639649,
     "end_time": "2023-05-01T17:02:06.421789",
     "exception": false,
     "start_time": "2023-05-01T17:02:04.782140",
     "status": "completed"
    },
    "tags": []
   },
   "outputs": [
    {
     "name": "stdout",
     "output_type": "stream",
     "text": [
      "Files already downloaded and verified\n",
      "Files already downloaded and verified\n"
     ]
    }
   ],
   "source": [
    "trainset = torchvision.datasets.CIFAR10(root='./data', train=True, \n",
    "                                        download=True, \n",
    "                                        transform=transform_train)\n",
    "testset = torchvision.datasets.CIFAR10(root='./data', train=False, \n",
    "                                        download=True, \n",
    "                                        transform=transform_test)"
   ]
  },
  {
   "cell_type": "code",
   "execution_count": 48,
   "id": "556772a4",
   "metadata": {
    "execution": {
     "iopub.execute_input": "2023-05-01T17:02:06.471527Z",
     "iopub.status.busy": "2023-05-01T17:02:06.471200Z",
     "iopub.status.idle": "2023-05-01T17:02:06.476692Z",
     "shell.execute_reply": "2023-05-01T17:02:06.475617Z"
    },
    "papermill": {
     "duration": 0.032417,
     "end_time": "2023-05-01T17:02:06.478775",
     "exception": false,
     "start_time": "2023-05-01T17:02:06.446358",
     "status": "completed"
    },
    "tags": []
   },
   "outputs": [],
   "source": [
    "batch_size=16\n",
    "\n",
    "trainloader = torch.utils.data.DataLoader(trainset, batch_size=batch_size, shuffle=True)\n",
    "testloader = torch.utils.data.DataLoader(testset, batch_size=batch_size, shuffle=False)"
   ]
  },
  {
   "cell_type": "code",
   "execution_count": 49,
   "id": "e5c7886a",
   "metadata": {
    "execution": {
     "iopub.execute_input": "2023-05-01T17:02:06.527550Z",
     "iopub.status.busy": "2023-05-01T17:02:06.527264Z",
     "iopub.status.idle": "2023-05-01T17:02:06.577739Z",
     "shell.execute_reply": "2023-05-01T17:02:06.576810Z"
    },
    "papermill": {
     "duration": 0.077367,
     "end_time": "2023-05-01T17:02:06.579914",
     "exception": false,
     "start_time": "2023-05-01T17:02:06.502547",
     "status": "completed"
    },
    "tags": []
   },
   "outputs": [],
   "source": [
    "inception = inception.to(device)\n",
    "loss_fn = nn.CrossEntropyLoss()\n",
    "opt = optim.SGD(inception.parameters(), lr=0.01)"
   ]
  },
  {
   "cell_type": "code",
   "execution_count": 50,
   "id": "94583a6e",
   "metadata": {
    "execution": {
     "iopub.execute_input": "2023-05-01T17:02:06.644343Z",
     "iopub.status.busy": "2023-05-01T17:02:06.643384Z",
     "iopub.status.idle": "2023-05-01T17:02:06.650258Z",
     "shell.execute_reply": "2023-05-01T17:02:06.649380Z"
    },
    "papermill": {
     "duration": 0.033765,
     "end_time": "2023-05-01T17:02:06.652334",
     "exception": false,
     "start_time": "2023-05-01T17:02:06.618569",
     "status": "completed"
    },
    "tags": []
   },
   "outputs": [],
   "source": [
    "def evaluation_inception(dataloader, model):\n",
    "    total, correct = 0, 0\n",
    "    for data in dataloader:\n",
    "        inputs, labels = data\n",
    "        inputs, labels = inputs.to(device), labels.to(device)\n",
    "        outputs, aux_outputs = model(inputs)\n",
    "        _, pred = torch.max(outputs.data, 1)\n",
    "        total += labels.size(0)\n",
    "        correct += (pred == labels).sum().item()\n",
    "    return 100 * correct / total"
   ]
  },
  {
   "cell_type": "code",
   "execution_count": 51,
   "id": "1b3f7fe9",
   "metadata": {
    "_kg_hide-output": true,
    "execution": {
     "iopub.execute_input": "2023-05-01T17:02:06.703934Z",
     "iopub.status.busy": "2023-05-01T17:02:06.702987Z",
     "iopub.status.idle": "2023-05-01T17:11:03.598007Z",
     "shell.execute_reply": "2023-05-01T17:11:03.596909Z"
    },
    "papermill": {
     "duration": 536.95176,
     "end_time": "2023-05-01T17:11:03.627593",
     "exception": false,
     "start_time": "2023-05-01T17:02:06.675833",
     "status": "completed"
    },
    "tags": []
   },
   "outputs": [
    {
     "name": "stdout",
     "output_type": "stream",
     "text": [
      "Min loss 3.24\n",
      "Iteration: 0/3125, Loss: 3.24\n",
      "Min loss 3.07\n",
      "Min loss 2.98\n",
      "Min loss 2.87\n",
      "Min loss 2.83\n",
      "Min loss 2.79\n",
      "Min loss 2.78\n",
      "Min loss 2.71\n",
      "Min loss 2.68\n",
      "Min loss 2.60\n",
      "Min loss 2.52\n",
      "Iteration: 100/3125, Loss: 2.67\n",
      "Min loss 2.47\n",
      "Min loss 2.47\n",
      "Min loss 2.47\n",
      "Min loss 2.46\n",
      "Min loss 2.42\n",
      "Min loss 2.39\n",
      "Iteration: 200/3125, Loss: 2.69\n",
      "Min loss 2.33\n",
      "Min loss 2.31\n",
      "Min loss 2.31\n",
      "Min loss 2.22\n",
      "Min loss 2.13\n",
      "Min loss 2.03\n",
      "Iteration: 300/3125, Loss: 2.26\n",
      "Min loss 1.99\n",
      "Iteration: 400/3125, Loss: 2.24\n",
      "Min loss 1.92\n",
      "Min loss 1.79\n",
      "Min loss 1.78\n",
      "Iteration: 500/3125, Loss: 2.24\n",
      "Iteration: 600/3125, Loss: 2.36\n",
      "Min loss 1.70\n",
      "Iteration: 700/3125, Loss: 2.08\n",
      "Min loss 1.53\n",
      "Min loss 1.51\n",
      "Min loss 1.38\n",
      "Iteration: 800/3125, Loss: 2.30\n",
      "Iteration: 900/3125, Loss: 2.32\n",
      "Iteration: 1000/3125, Loss: 1.88\n",
      "Iteration: 1100/3125, Loss: 2.22\n",
      "Iteration: 1200/3125, Loss: 1.89\n",
      "Iteration: 1300/3125, Loss: 1.61\n",
      "Min loss 1.30\n",
      "Iteration: 1400/3125, Loss: 2.21\n",
      "Iteration: 1500/3125, Loss: 1.74\n",
      "Iteration: 1600/3125, Loss: 2.00\n",
      "Min loss 1.21\n",
      "Iteration: 1700/3125, Loss: 2.22\n",
      "Iteration: 1800/3125, Loss: 2.34\n",
      "Iteration: 1900/3125, Loss: 2.44\n",
      "Iteration: 2000/3125, Loss: 1.76\n",
      "Iteration: 2100/3125, Loss: 1.75\n",
      "Min loss 1.15\n",
      "Iteration: 2200/3125, Loss: 1.73\n",
      "Iteration: 2300/3125, Loss: 1.76\n",
      "Iteration: 2400/3125, Loss: 1.89\n",
      "Iteration: 2500/3125, Loss: 1.75\n",
      "Iteration: 2600/3125, Loss: 1.27\n",
      "Iteration: 2700/3125, Loss: 1.94\n",
      "Iteration: 2800/3125, Loss: 1.19\n",
      "Iteration: 2900/3125, Loss: 1.90\n",
      "Iteration: 3000/3125, Loss: 1.99\n",
      "Min loss 1.03\n",
      "Iteration: 3100/3125, Loss: 2.52\n",
      "Epoch: 0/1, Test acc: 47.12, Train acc: 47.13\n"
     ]
    }
   ],
   "source": [
    "loss_epoch_arr = []\n",
    "max_epochs = 1\n",
    "\n",
    "min_loss = 1000\n",
    "\n",
    "n_iters = np.ceil(50000/batch_size)\n",
    "\n",
    "for epoch in range(max_epochs):\n",
    "\n",
    "    for i, data in enumerate(trainloader, 0):\n",
    "\n",
    "        inputs, labels = data\n",
    "        inputs, labels = inputs.to(device), labels.to(device)\n",
    "\n",
    "        opt.zero_grad()\n",
    "\n",
    "        outputs, aux_outputs = inception(inputs)\n",
    "        loss = loss_fn(outputs, labels) + 0.3 * loss_fn(aux_outputs, labels)\n",
    "        loss.backward()\n",
    "        opt.step()\n",
    "        \n",
    "        if min_loss > loss.item():\n",
    "            min_loss = loss.item()\n",
    "            best_model = copy.deepcopy(inception.state_dict())\n",
    "            print('Min loss %0.2f' % min_loss)\n",
    "        \n",
    "        if i % 100 == 0:\n",
    "            print('Iteration: %d/%d, Loss: %0.2f' % (i, n_iters, loss.item()))\n",
    "            \n",
    "        del inputs, labels, outputs\n",
    "        torch.cuda.empty_cache()\n",
    "        \n",
    "    loss_epoch_arr.append(loss.item())\n",
    "        \n",
    "    print('Epoch: %d/%d, Test acc: %0.2f, Train acc: %0.2f' % (\n",
    "        epoch, max_epochs, \n",
    "        evaluation_inception(testloader, inception), \n",
    "        evaluation_inception(trainloader, inception)))\n",
    "    \n",
    "    \n",
    "# change max_epochs value to > 1 \n",
    "#plt.plot(loss_epoch_arr) \n",
    "#plt.show()"
   ]
  },
  {
   "cell_type": "code",
   "execution_count": 52,
   "id": "cea7b5aa",
   "metadata": {
    "execution": {
     "iopub.execute_input": "2023-05-01T17:11:03.683518Z",
     "iopub.status.busy": "2023-05-01T17:11:03.682464Z",
     "iopub.status.idle": "2023-05-01T17:15:48.457869Z",
     "shell.execute_reply": "2023-05-01T17:15:48.456761Z"
    },
    "papermill": {
     "duration": 284.832835,
     "end_time": "2023-05-01T17:15:48.487304",
     "exception": false,
     "start_time": "2023-05-01T17:11:03.654469",
     "status": "completed"
    },
    "tags": []
   },
   "outputs": [
    {
     "name": "stdout",
     "output_type": "stream",
     "text": [
      "46.508 46.99\n"
     ]
    }
   ],
   "source": [
    "inception.load_state_dict(best_model)\n",
    "print(evaluation_inception(trainloader, inception), evaluation_inception(testloader, inception))"
   ]
  },
  {
   "attachments": {},
   "cell_type": "markdown",
   "id": "fad8524b",
   "metadata": {
    "papermill": {
     "duration": 0.02737,
     "end_time": "2023-05-01T17:15:48.542183",
     "exception": false,
     "start_time": "2023-05-01T17:15:48.514813",
     "status": "completed"
    },
    "tags": []
   },
   "source": [
    "# END "
   ]
  }
 ],
 "metadata": {
  "kernelspec": {
   "display_name": "Python 3",
   "language": "python",
   "name": "python3"
  },
  "language_info": {
   "codemirror_mode": {
    "name": "ipython",
    "version": 3
   },
   "file_extension": ".py",
   "mimetype": "text/x-python",
   "name": "python",
   "nbconvert_exporter": "python",
   "pygments_lexer": "ipython3",
   "version": "3.8.16"
  },
  "papermill": {
   "default_parameters": {},
   "duration": 3207.362547,
   "end_time": "2023-05-01T17:15:50.301101",
   "environment_variables": {},
   "exception": null,
   "input_path": "__notebook__.ipynb",
   "output_path": "__notebook__.ipynb",
   "parameters": {},
   "start_time": "2023-05-01T16:22:22.938554",
   "version": "2.4.0"
  },
  "widgets": {
   "application/vnd.jupyter.widget-state+json": {
    "state": {
     "05c3f1af955040598a5cbbcfe868f5a6": {
      "model_module": "@jupyter-widgets/base",
      "model_module_version": "1.2.0",
      "model_name": "LayoutModel",
      "state": {
       "_model_module": "@jupyter-widgets/base",
       "_model_module_version": "1.2.0",
       "_model_name": "LayoutModel",
       "_view_count": null,
       "_view_module": "@jupyter-widgets/base",
       "_view_module_version": "1.2.0",
       "_view_name": "LayoutView",
       "align_content": null,
       "align_items": null,
       "align_self": null,
       "border": null,
       "bottom": null,
       "display": null,
       "flex": null,
       "flex_flow": null,
       "grid_area": null,
       "grid_auto_columns": null,
       "grid_auto_flow": null,
       "grid_auto_rows": null,
       "grid_column": null,
       "grid_gap": null,
       "grid_row": null,
       "grid_template_areas": null,
       "grid_template_columns": null,
       "grid_template_rows": null,
       "height": null,
       "justify_content": null,
       "justify_items": null,
       "left": null,
       "margin": null,
       "max_height": null,
       "max_width": null,
       "min_height": null,
       "min_width": null,
       "object_fit": null,
       "object_position": null,
       "order": null,
       "overflow": null,
       "overflow_x": null,
       "overflow_y": null,
       "padding": null,
       "right": null,
       "top": null,
       "visibility": null,
       "width": null
      }
     },
     "0d6ec40230244811b082ec8c764f4363": {
      "model_module": "@jupyter-widgets/controls",
      "model_module_version": "1.5.0",
      "model_name": "HBoxModel",
      "state": {
       "_dom_classes": [],
       "_model_module": "@jupyter-widgets/controls",
       "_model_module_version": "1.5.0",
       "_model_name": "HBoxModel",
       "_view_count": null,
       "_view_module": "@jupyter-widgets/controls",
       "_view_module_version": "1.5.0",
       "_view_name": "HBoxView",
       "box_style": "",
       "children": [
        "IPY_MODEL_bf3b14f031b44700a9cbd6ace9165723",
        "IPY_MODEL_2bfbe2b1b2404bbb9e3f848fadc25ec9",
        "IPY_MODEL_67ecb65a77504fb5891d5892fd3ae496"
       ],
       "layout": "IPY_MODEL_20e9e8beca8840f781deb59d28b9da4b"
      }
     },
     "128e4e21dd4246d4bee7b6e709d76dbc": {
      "model_module": "@jupyter-widgets/base",
      "model_module_version": "1.2.0",
      "model_name": "LayoutModel",
      "state": {
       "_model_module": "@jupyter-widgets/base",
       "_model_module_version": "1.2.0",
       "_model_name": "LayoutModel",
       "_view_count": null,
       "_view_module": "@jupyter-widgets/base",
       "_view_module_version": "1.2.0",
       "_view_name": "LayoutView",
       "align_content": null,
       "align_items": null,
       "align_self": null,
       "border": null,
       "bottom": null,
       "display": null,
       "flex": null,
       "flex_flow": null,
       "grid_area": null,
       "grid_auto_columns": null,
       "grid_auto_flow": null,
       "grid_auto_rows": null,
       "grid_column": null,
       "grid_gap": null,
       "grid_row": null,
       "grid_template_areas": null,
       "grid_template_columns": null,
       "grid_template_rows": null,
       "height": null,
       "justify_content": null,
       "justify_items": null,
       "left": null,
       "margin": null,
       "max_height": null,
       "max_width": null,
       "min_height": null,
       "min_width": null,
       "object_fit": null,
       "object_position": null,
       "order": null,
       "overflow": null,
       "overflow_x": null,
       "overflow_y": null,
       "padding": null,
       "right": null,
       "top": null,
       "visibility": null,
       "width": null
      }
     },
     "18d6f81fbb594ced9d8f23d21b5a2ad4": {
      "model_module": "@jupyter-widgets/controls",
      "model_module_version": "1.5.0",
      "model_name": "HTMLModel",
      "state": {
       "_dom_classes": [],
       "_model_module": "@jupyter-widgets/controls",
       "_model_module_version": "1.5.0",
       "_model_name": "HTMLModel",
       "_view_count": null,
       "_view_module": "@jupyter-widgets/controls",
       "_view_module_version": "1.5.0",
       "_view_name": "HTMLView",
       "description": "",
       "description_tooltip": null,
       "layout": "IPY_MODEL_05c3f1af955040598a5cbbcfe868f5a6",
       "placeholder": "​",
       "style": "IPY_MODEL_88998e6e00b34fe3993e81f4070afc67",
       "value": " 44.7M/44.7M [00:00&lt;00:00, 194MB/s]"
      }
     },
     "1a4f6e0dacbd404286aeaa237eb36b2a": {
      "model_module": "@jupyter-widgets/controls",
      "model_module_version": "1.5.0",
      "model_name": "HTMLModel",
      "state": {
       "_dom_classes": [],
       "_model_module": "@jupyter-widgets/controls",
       "_model_module_version": "1.5.0",
       "_model_name": "HTMLModel",
       "_view_count": null,
       "_view_module": "@jupyter-widgets/controls",
       "_view_module_version": "1.5.0",
       "_view_name": "HTMLView",
       "description": "",
       "description_tooltip": null,
       "layout": "IPY_MODEL_dfb84892a9314c7991159b1df9eac622",
       "placeholder": "​",
       "style": "IPY_MODEL_7b9b0110683b459e80af7d37fb9f3daa",
       "value": "100%"
      }
     },
     "1b9d24d9218742ec973f0d9b7c48b4fb": {
      "model_module": "@jupyter-widgets/base",
      "model_module_version": "1.2.0",
      "model_name": "LayoutModel",
      "state": {
       "_model_module": "@jupyter-widgets/base",
       "_model_module_version": "1.2.0",
       "_model_name": "LayoutModel",
       "_view_count": null,
       "_view_module": "@jupyter-widgets/base",
       "_view_module_version": "1.2.0",
       "_view_name": "LayoutView",
       "align_content": null,
       "align_items": null,
       "align_self": null,
       "border": null,
       "bottom": null,
       "display": null,
       "flex": null,
       "flex_flow": null,
       "grid_area": null,
       "grid_auto_columns": null,
       "grid_auto_flow": null,
       "grid_auto_rows": null,
       "grid_column": null,
       "grid_gap": null,
       "grid_row": null,
       "grid_template_areas": null,
       "grid_template_columns": null,
       "grid_template_rows": null,
       "height": null,
       "justify_content": null,
       "justify_items": null,
       "left": null,
       "margin": null,
       "max_height": null,
       "max_width": null,
       "min_height": null,
       "min_width": null,
       "object_fit": null,
       "object_position": null,
       "order": null,
       "overflow": null,
       "overflow_x": null,
       "overflow_y": null,
       "padding": null,
       "right": null,
       "top": null,
       "visibility": null,
       "width": null
      }
     },
     "20e9e8beca8840f781deb59d28b9da4b": {
      "model_module": "@jupyter-widgets/base",
      "model_module_version": "1.2.0",
      "model_name": "LayoutModel",
      "state": {
       "_model_module": "@jupyter-widgets/base",
       "_model_module_version": "1.2.0",
       "_model_name": "LayoutModel",
       "_view_count": null,
       "_view_module": "@jupyter-widgets/base",
       "_view_module_version": "1.2.0",
       "_view_name": "LayoutView",
       "align_content": null,
       "align_items": null,
       "align_self": null,
       "border": null,
       "bottom": null,
       "display": null,
       "flex": null,
       "flex_flow": null,
       "grid_area": null,
       "grid_auto_columns": null,
       "grid_auto_flow": null,
       "grid_auto_rows": null,
       "grid_column": null,
       "grid_gap": null,
       "grid_row": null,
       "grid_template_areas": null,
       "grid_template_columns": null,
       "grid_template_rows": null,
       "height": null,
       "justify_content": null,
       "justify_items": null,
       "left": null,
       "margin": null,
       "max_height": null,
       "max_width": null,
       "min_height": null,
       "min_width": null,
       "object_fit": null,
       "object_position": null,
       "order": null,
       "overflow": null,
       "overflow_x": null,
       "overflow_y": null,
       "padding": null,
       "right": null,
       "top": null,
       "visibility": null,
       "width": null
      }
     },
     "22c2b4e14e8245508d573537f90f1fee": {
      "model_module": "@jupyter-widgets/controls",
      "model_module_version": "1.5.0",
      "model_name": "HTMLModel",
      "state": {
       "_dom_classes": [],
       "_model_module": "@jupyter-widgets/controls",
       "_model_module_version": "1.5.0",
       "_model_name": "HTMLModel",
       "_view_count": null,
       "_view_module": "@jupyter-widgets/controls",
       "_view_module_version": "1.5.0",
       "_view_name": "HTMLView",
       "description": "",
       "description_tooltip": null,
       "layout": "IPY_MODEL_ce354c63b0794a0d8379d92f77666369",
       "placeholder": "​",
       "style": "IPY_MODEL_41561802346b4c699ea6869229d34418",
       "value": "100%"
      }
     },
     "26035cee4db64f9394c9c98db79d49ef": {
      "model_module": "@jupyter-widgets/controls",
      "model_module_version": "1.5.0",
      "model_name": "ProgressStyleModel",
      "state": {
       "_model_module": "@jupyter-widgets/controls",
       "_model_module_version": "1.5.0",
       "_model_name": "ProgressStyleModel",
       "_view_count": null,
       "_view_module": "@jupyter-widgets/base",
       "_view_module_version": "1.2.0",
       "_view_name": "StyleView",
       "bar_color": null,
       "description_width": ""
      }
     },
     "285161d46e8843c4abcc0b26a2a25acc": {
      "model_module": "@jupyter-widgets/controls",
      "model_module_version": "1.5.0",
      "model_name": "ProgressStyleModel",
      "state": {
       "_model_module": "@jupyter-widgets/controls",
       "_model_module_version": "1.5.0",
       "_model_name": "ProgressStyleModel",
       "_view_count": null,
       "_view_module": "@jupyter-widgets/base",
       "_view_module_version": "1.2.0",
       "_view_name": "StyleView",
       "bar_color": null,
       "description_width": ""
      }
     },
     "2bfbe2b1b2404bbb9e3f848fadc25ec9": {
      "model_module": "@jupyter-widgets/controls",
      "model_module_version": "1.5.0",
      "model_name": "FloatProgressModel",
      "state": {
       "_dom_classes": [],
       "_model_module": "@jupyter-widgets/controls",
       "_model_module_version": "1.5.0",
       "_model_name": "FloatProgressModel",
       "_view_count": null,
       "_view_module": "@jupyter-widgets/controls",
       "_view_module_version": "1.5.0",
       "_view_name": "ProgressView",
       "bar_style": "success",
       "description": "",
       "description_tooltip": null,
       "layout": "IPY_MODEL_f4c47887c7614cc59836e9c1e78f9762",
       "max": 553507836,
       "min": 0,
       "orientation": "horizontal",
       "style": "IPY_MODEL_5bbae48c66aa4c8680678a3b80f41c7b",
       "value": 553507836
      }
     },
     "2c64685485264495b57db51e86a0eaca": {
      "model_module": "@jupyter-widgets/controls",
      "model_module_version": "1.5.0",
      "model_name": "FloatProgressModel",
      "state": {
       "_dom_classes": [],
       "_model_module": "@jupyter-widgets/controls",
       "_model_module_version": "1.5.0",
       "_model_name": "FloatProgressModel",
       "_view_count": null,
       "_view_module": "@jupyter-widgets/controls",
       "_view_module_version": "1.5.0",
       "_view_name": "ProgressView",
       "bar_style": "success",
       "description": "",
       "description_tooltip": null,
       "layout": "IPY_MODEL_4e10fbf242434fa2b0a1c3d7af8d0d4f",
       "max": 170498071,
       "min": 0,
       "orientation": "horizontal",
       "style": "IPY_MODEL_38f2305506cd46ec9ba010c599e69f08",
       "value": 170498071
      }
     },
     "37a368ff135a41e1b123ece9b92928e9": {
      "model_module": "@jupyter-widgets/controls",
      "model_module_version": "1.5.0",
      "model_name": "HTMLModel",
      "state": {
       "_dom_classes": [],
       "_model_module": "@jupyter-widgets/controls",
       "_model_module_version": "1.5.0",
       "_model_name": "HTMLModel",
       "_view_count": null,
       "_view_module": "@jupyter-widgets/controls",
       "_view_module_version": "1.5.0",
       "_view_name": "HTMLView",
       "description": "",
       "description_tooltip": null,
       "layout": "IPY_MODEL_128e4e21dd4246d4bee7b6e709d76dbc",
       "placeholder": "​",
       "style": "IPY_MODEL_690b13033a314496abb4250d9fc50c4f",
       "value": "100%"
      }
     },
     "38f2305506cd46ec9ba010c599e69f08": {
      "model_module": "@jupyter-widgets/controls",
      "model_module_version": "1.5.0",
      "model_name": "ProgressStyleModel",
      "state": {
       "_model_module": "@jupyter-widgets/controls",
       "_model_module_version": "1.5.0",
       "_model_name": "ProgressStyleModel",
       "_view_count": null,
       "_view_module": "@jupyter-widgets/base",
       "_view_module_version": "1.2.0",
       "_view_name": "StyleView",
       "bar_color": null,
       "description_width": ""
      }
     },
     "41561802346b4c699ea6869229d34418": {
      "model_module": "@jupyter-widgets/controls",
      "model_module_version": "1.5.0",
      "model_name": "DescriptionStyleModel",
      "state": {
       "_model_module": "@jupyter-widgets/controls",
       "_model_module_version": "1.5.0",
       "_model_name": "DescriptionStyleModel",
       "_view_count": null,
       "_view_module": "@jupyter-widgets/base",
       "_view_module_version": "1.2.0",
       "_view_name": "StyleView",
       "description_width": ""
      }
     },
     "465e22401eda4123a38e546836c1790b": {
      "model_module": "@jupyter-widgets/base",
      "model_module_version": "1.2.0",
      "model_name": "LayoutModel",
      "state": {
       "_model_module": "@jupyter-widgets/base",
       "_model_module_version": "1.2.0",
       "_model_name": "LayoutModel",
       "_view_count": null,
       "_view_module": "@jupyter-widgets/base",
       "_view_module_version": "1.2.0",
       "_view_name": "LayoutView",
       "align_content": null,
       "align_items": null,
       "align_self": null,
       "border": null,
       "bottom": null,
       "display": null,
       "flex": null,
       "flex_flow": null,
       "grid_area": null,
       "grid_auto_columns": null,
       "grid_auto_flow": null,
       "grid_auto_rows": null,
       "grid_column": null,
       "grid_gap": null,
       "grid_row": null,
       "grid_template_areas": null,
       "grid_template_columns": null,
       "grid_template_rows": null,
       "height": null,
       "justify_content": null,
       "justify_items": null,
       "left": null,
       "margin": null,
       "max_height": null,
       "max_width": null,
       "min_height": null,
       "min_width": null,
       "object_fit": null,
       "object_position": null,
       "order": null,
       "overflow": null,
       "overflow_x": null,
       "overflow_y": null,
       "padding": null,
       "right": null,
       "top": null,
       "visibility": null,
       "width": null
      }
     },
     "469e20e1d70c4118aa2284f71dca7a50": {
      "model_module": "@jupyter-widgets/controls",
      "model_module_version": "1.5.0",
      "model_name": "DescriptionStyleModel",
      "state": {
       "_model_module": "@jupyter-widgets/controls",
       "_model_module_version": "1.5.0",
       "_model_name": "DescriptionStyleModel",
       "_view_count": null,
       "_view_module": "@jupyter-widgets/base",
       "_view_module_version": "1.2.0",
       "_view_name": "StyleView",
       "description_width": ""
      }
     },
     "4e10fbf242434fa2b0a1c3d7af8d0d4f": {
      "model_module": "@jupyter-widgets/base",
      "model_module_version": "1.2.0",
      "model_name": "LayoutModel",
      "state": {
       "_model_module": "@jupyter-widgets/base",
       "_model_module_version": "1.2.0",
       "_model_name": "LayoutModel",
       "_view_count": null,
       "_view_module": "@jupyter-widgets/base",
       "_view_module_version": "1.2.0",
       "_view_name": "LayoutView",
       "align_content": null,
       "align_items": null,
       "align_self": null,
       "border": null,
       "bottom": null,
       "display": null,
       "flex": null,
       "flex_flow": null,
       "grid_area": null,
       "grid_auto_columns": null,
       "grid_auto_flow": null,
       "grid_auto_rows": null,
       "grid_column": null,
       "grid_gap": null,
       "grid_row": null,
       "grid_template_areas": null,
       "grid_template_columns": null,
       "grid_template_rows": null,
       "height": null,
       "justify_content": null,
       "justify_items": null,
       "left": null,
       "margin": null,
       "max_height": null,
       "max_width": null,
       "min_height": null,
       "min_width": null,
       "object_fit": null,
       "object_position": null,
       "order": null,
       "overflow": null,
       "overflow_x": null,
       "overflow_y": null,
       "padding": null,
       "right": null,
       "top": null,
       "visibility": null,
       "width": null
      }
     },
     "533944a32187451b9d4d07af65c8d728": {
      "model_module": "@jupyter-widgets/base",
      "model_module_version": "1.2.0",
      "model_name": "LayoutModel",
      "state": {
       "_model_module": "@jupyter-widgets/base",
       "_model_module_version": "1.2.0",
       "_model_name": "LayoutModel",
       "_view_count": null,
       "_view_module": "@jupyter-widgets/base",
       "_view_module_version": "1.2.0",
       "_view_name": "LayoutView",
       "align_content": null,
       "align_items": null,
       "align_self": null,
       "border": null,
       "bottom": null,
       "display": null,
       "flex": null,
       "flex_flow": null,
       "grid_area": null,
       "grid_auto_columns": null,
       "grid_auto_flow": null,
       "grid_auto_rows": null,
       "grid_column": null,
       "grid_gap": null,
       "grid_row": null,
       "grid_template_areas": null,
       "grid_template_columns": null,
       "grid_template_rows": null,
       "height": null,
       "justify_content": null,
       "justify_items": null,
       "left": null,
       "margin": null,
       "max_height": null,
       "max_width": null,
       "min_height": null,
       "min_width": null,
       "object_fit": null,
       "object_position": null,
       "order": null,
       "overflow": null,
       "overflow_x": null,
       "overflow_y": null,
       "padding": null,
       "right": null,
       "top": null,
       "visibility": null,
       "width": null
      }
     },
     "5b12a2678ec64df693133d8565cfc8da": {
      "model_module": "@jupyter-widgets/controls",
      "model_module_version": "1.5.0",
      "model_name": "HTMLModel",
      "state": {
       "_dom_classes": [],
       "_model_module": "@jupyter-widgets/controls",
       "_model_module_version": "1.5.0",
       "_model_name": "HTMLModel",
       "_view_count": null,
       "_view_module": "@jupyter-widgets/controls",
       "_view_module_version": "1.5.0",
       "_view_name": "HTMLView",
       "description": "",
       "description_tooltip": null,
       "layout": "IPY_MODEL_9b152fb5d8d145ad86c8945f5d809521",
       "placeholder": "​",
       "style": "IPY_MODEL_ee10bb740084453db17e2c2f69d2c3da",
       "value": " 104M/104M [00:01&lt;00:00, 55.0MB/s]"
      }
     },
     "5bbae48c66aa4c8680678a3b80f41c7b": {
      "model_module": "@jupyter-widgets/controls",
      "model_module_version": "1.5.0",
      "model_name": "ProgressStyleModel",
      "state": {
       "_model_module": "@jupyter-widgets/controls",
       "_model_module_version": "1.5.0",
       "_model_name": "ProgressStyleModel",
       "_view_count": null,
       "_view_module": "@jupyter-widgets/base",
       "_view_module_version": "1.2.0",
       "_view_name": "StyleView",
       "bar_color": null,
       "description_width": ""
      }
     },
     "67ecb65a77504fb5891d5892fd3ae496": {
      "model_module": "@jupyter-widgets/controls",
      "model_module_version": "1.5.0",
      "model_name": "HTMLModel",
      "state": {
       "_dom_classes": [],
       "_model_module": "@jupyter-widgets/controls",
       "_model_module_version": "1.5.0",
       "_model_name": "HTMLModel",
       "_view_count": null,
       "_view_module": "@jupyter-widgets/controls",
       "_view_module_version": "1.5.0",
       "_view_name": "HTMLView",
       "description": "",
       "description_tooltip": null,
       "layout": "IPY_MODEL_533944a32187451b9d4d07af65c8d728",
       "placeholder": "​",
       "style": "IPY_MODEL_469e20e1d70c4118aa2284f71dca7a50",
       "value": " 528M/528M [00:07&lt;00:00, 64.6MB/s]"
      }
     },
     "690b13033a314496abb4250d9fc50c4f": {
      "model_module": "@jupyter-widgets/controls",
      "model_module_version": "1.5.0",
      "model_name": "DescriptionStyleModel",
      "state": {
       "_model_module": "@jupyter-widgets/controls",
       "_model_module_version": "1.5.0",
       "_model_name": "DescriptionStyleModel",
       "_view_count": null,
       "_view_module": "@jupyter-widgets/base",
       "_view_module_version": "1.2.0",
       "_view_name": "StyleView",
       "description_width": ""
      }
     },
     "74e00c99e82a488385fca4b8e9d2eb30": {
      "model_module": "@jupyter-widgets/base",
      "model_module_version": "1.2.0",
      "model_name": "LayoutModel",
      "state": {
       "_model_module": "@jupyter-widgets/base",
       "_model_module_version": "1.2.0",
       "_model_name": "LayoutModel",
       "_view_count": null,
       "_view_module": "@jupyter-widgets/base",
       "_view_module_version": "1.2.0",
       "_view_name": "LayoutView",
       "align_content": null,
       "align_items": null,
       "align_self": null,
       "border": null,
       "bottom": null,
       "display": null,
       "flex": null,
       "flex_flow": null,
       "grid_area": null,
       "grid_auto_columns": null,
       "grid_auto_flow": null,
       "grid_auto_rows": null,
       "grid_column": null,
       "grid_gap": null,
       "grid_row": null,
       "grid_template_areas": null,
       "grid_template_columns": null,
       "grid_template_rows": null,
       "height": null,
       "justify_content": null,
       "justify_items": null,
       "left": null,
       "margin": null,
       "max_height": null,
       "max_width": null,
       "min_height": null,
       "min_width": null,
       "object_fit": null,
       "object_position": null,
       "order": null,
       "overflow": null,
       "overflow_x": null,
       "overflow_y": null,
       "padding": null,
       "right": null,
       "top": null,
       "visibility": null,
       "width": null
      }
     },
     "78e291349eeb4e03a7142bfd3815483f": {
      "model_module": "@jupyter-widgets/controls",
      "model_module_version": "1.5.0",
      "model_name": "HTMLModel",
      "state": {
       "_dom_classes": [],
       "_model_module": "@jupyter-widgets/controls",
       "_model_module_version": "1.5.0",
       "_model_name": "HTMLModel",
       "_view_count": null,
       "_view_module": "@jupyter-widgets/controls",
       "_view_module_version": "1.5.0",
       "_view_name": "HTMLView",
       "description": "",
       "description_tooltip": null,
       "layout": "IPY_MODEL_9bc34529c4b24adf941e2537420f0b32",
       "placeholder": "​",
       "style": "IPY_MODEL_9147e56ffc3d4dbb883d637e179a70ca",
       "value": " 170498071/170498071 [00:03&lt;00:00, 55548519.44it/s]"
      }
     },
     "7b9b0110683b459e80af7d37fb9f3daa": {
      "model_module": "@jupyter-widgets/controls",
      "model_module_version": "1.5.0",
      "model_name": "DescriptionStyleModel",
      "state": {
       "_model_module": "@jupyter-widgets/controls",
       "_model_module_version": "1.5.0",
       "_model_name": "DescriptionStyleModel",
       "_view_count": null,
       "_view_module": "@jupyter-widgets/base",
       "_view_module_version": "1.2.0",
       "_view_name": "StyleView",
       "description_width": ""
      }
     },
     "7efad9e075674296b0a47b3434715748": {
      "model_module": "@jupyter-widgets/base",
      "model_module_version": "1.2.0",
      "model_name": "LayoutModel",
      "state": {
       "_model_module": "@jupyter-widgets/base",
       "_model_module_version": "1.2.0",
       "_model_name": "LayoutModel",
       "_view_count": null,
       "_view_module": "@jupyter-widgets/base",
       "_view_module_version": "1.2.0",
       "_view_name": "LayoutView",
       "align_content": null,
       "align_items": null,
       "align_self": null,
       "border": null,
       "bottom": null,
       "display": null,
       "flex": null,
       "flex_flow": null,
       "grid_area": null,
       "grid_auto_columns": null,
       "grid_auto_flow": null,
       "grid_auto_rows": null,
       "grid_column": null,
       "grid_gap": null,
       "grid_row": null,
       "grid_template_areas": null,
       "grid_template_columns": null,
       "grid_template_rows": null,
       "height": null,
       "justify_content": null,
       "justify_items": null,
       "left": null,
       "margin": null,
       "max_height": null,
       "max_width": null,
       "min_height": null,
       "min_width": null,
       "object_fit": null,
       "object_position": null,
       "order": null,
       "overflow": null,
       "overflow_x": null,
       "overflow_y": null,
       "padding": null,
       "right": null,
       "top": null,
       "visibility": null,
       "width": null
      }
     },
     "88998e6e00b34fe3993e81f4070afc67": {
      "model_module": "@jupyter-widgets/controls",
      "model_module_version": "1.5.0",
      "model_name": "DescriptionStyleModel",
      "state": {
       "_model_module": "@jupyter-widgets/controls",
       "_model_module_version": "1.5.0",
       "_model_name": "DescriptionStyleModel",
       "_view_count": null,
       "_view_module": "@jupyter-widgets/base",
       "_view_module_version": "1.2.0",
       "_view_name": "StyleView",
       "description_width": ""
      }
     },
     "89359295659e414b8febc160d590d8f4": {
      "model_module": "@jupyter-widgets/controls",
      "model_module_version": "1.5.0",
      "model_name": "FloatProgressModel",
      "state": {
       "_dom_classes": [],
       "_model_module": "@jupyter-widgets/controls",
       "_model_module_version": "1.5.0",
       "_model_name": "FloatProgressModel",
       "_view_count": null,
       "_view_module": "@jupyter-widgets/controls",
       "_view_module_version": "1.5.0",
       "_view_name": "ProgressView",
       "bar_style": "success",
       "description": "",
       "description_tooltip": null,
       "layout": "IPY_MODEL_ff9759049d5f4682aa3308248f9ba38e",
       "max": 108949747,
       "min": 0,
       "orientation": "horizontal",
       "style": "IPY_MODEL_26035cee4db64f9394c9c98db79d49ef",
       "value": 108949747
      }
     },
     "8a02eeda931a461fa179126646bfcee2": {
      "model_module": "@jupyter-widgets/controls",
      "model_module_version": "1.5.0",
      "model_name": "DescriptionStyleModel",
      "state": {
       "_model_module": "@jupyter-widgets/controls",
       "_model_module_version": "1.5.0",
       "_model_name": "DescriptionStyleModel",
       "_view_count": null,
       "_view_module": "@jupyter-widgets/base",
       "_view_module_version": "1.2.0",
       "_view_name": "StyleView",
       "description_width": ""
      }
     },
     "9147e56ffc3d4dbb883d637e179a70ca": {
      "model_module": "@jupyter-widgets/controls",
      "model_module_version": "1.5.0",
      "model_name": "DescriptionStyleModel",
      "state": {
       "_model_module": "@jupyter-widgets/controls",
       "_model_module_version": "1.5.0",
       "_model_name": "DescriptionStyleModel",
       "_view_count": null,
       "_view_module": "@jupyter-widgets/base",
       "_view_module_version": "1.2.0",
       "_view_name": "StyleView",
       "description_width": ""
      }
     },
     "917c7d871f554b8f9c82610ac2350860": {
      "model_module": "@jupyter-widgets/controls",
      "model_module_version": "1.5.0",
      "model_name": "HBoxModel",
      "state": {
       "_dom_classes": [],
       "_model_module": "@jupyter-widgets/controls",
       "_model_module_version": "1.5.0",
       "_model_name": "HBoxModel",
       "_view_count": null,
       "_view_module": "@jupyter-widgets/controls",
       "_view_module_version": "1.5.0",
       "_view_name": "HBoxView",
       "box_style": "",
       "children": [
        "IPY_MODEL_1a4f6e0dacbd404286aeaa237eb36b2a",
        "IPY_MODEL_2c64685485264495b57db51e86a0eaca",
        "IPY_MODEL_78e291349eeb4e03a7142bfd3815483f"
       ],
       "layout": "IPY_MODEL_465e22401eda4123a38e546836c1790b"
      }
     },
     "960f136a82ee42afa2d531506ef0730f": {
      "model_module": "@jupyter-widgets/controls",
      "model_module_version": "1.5.0",
      "model_name": "HBoxModel",
      "state": {
       "_dom_classes": [],
       "_model_module": "@jupyter-widgets/controls",
       "_model_module_version": "1.5.0",
       "_model_name": "HBoxModel",
       "_view_count": null,
       "_view_module": "@jupyter-widgets/controls",
       "_view_module_version": "1.5.0",
       "_view_name": "HBoxView",
       "box_style": "",
       "children": [
        "IPY_MODEL_22c2b4e14e8245508d573537f90f1fee",
        "IPY_MODEL_9d44d4e866b0471180bf102d0bcc3bdb",
        "IPY_MODEL_18d6f81fbb594ced9d8f23d21b5a2ad4"
       ],
       "layout": "IPY_MODEL_1b9d24d9218742ec973f0d9b7c48b4fb"
      }
     },
     "9b152fb5d8d145ad86c8945f5d809521": {
      "model_module": "@jupyter-widgets/base",
      "model_module_version": "1.2.0",
      "model_name": "LayoutModel",
      "state": {
       "_model_module": "@jupyter-widgets/base",
       "_model_module_version": "1.2.0",
       "_model_name": "LayoutModel",
       "_view_count": null,
       "_view_module": "@jupyter-widgets/base",
       "_view_module_version": "1.2.0",
       "_view_name": "LayoutView",
       "align_content": null,
       "align_items": null,
       "align_self": null,
       "border": null,
       "bottom": null,
       "display": null,
       "flex": null,
       "flex_flow": null,
       "grid_area": null,
       "grid_auto_columns": null,
       "grid_auto_flow": null,
       "grid_auto_rows": null,
       "grid_column": null,
       "grid_gap": null,
       "grid_row": null,
       "grid_template_areas": null,
       "grid_template_columns": null,
       "grid_template_rows": null,
       "height": null,
       "justify_content": null,
       "justify_items": null,
       "left": null,
       "margin": null,
       "max_height": null,
       "max_width": null,
       "min_height": null,
       "min_width": null,
       "object_fit": null,
       "object_position": null,
       "order": null,
       "overflow": null,
       "overflow_x": null,
       "overflow_y": null,
       "padding": null,
       "right": null,
       "top": null,
       "visibility": null,
       "width": null
      }
     },
     "9bc34529c4b24adf941e2537420f0b32": {
      "model_module": "@jupyter-widgets/base",
      "model_module_version": "1.2.0",
      "model_name": "LayoutModel",
      "state": {
       "_model_module": "@jupyter-widgets/base",
       "_model_module_version": "1.2.0",
       "_model_name": "LayoutModel",
       "_view_count": null,
       "_view_module": "@jupyter-widgets/base",
       "_view_module_version": "1.2.0",
       "_view_name": "LayoutView",
       "align_content": null,
       "align_items": null,
       "align_self": null,
       "border": null,
       "bottom": null,
       "display": null,
       "flex": null,
       "flex_flow": null,
       "grid_area": null,
       "grid_auto_columns": null,
       "grid_auto_flow": null,
       "grid_auto_rows": null,
       "grid_column": null,
       "grid_gap": null,
       "grid_row": null,
       "grid_template_areas": null,
       "grid_template_columns": null,
       "grid_template_rows": null,
       "height": null,
       "justify_content": null,
       "justify_items": null,
       "left": null,
       "margin": null,
       "max_height": null,
       "max_width": null,
       "min_height": null,
       "min_width": null,
       "object_fit": null,
       "object_position": null,
       "order": null,
       "overflow": null,
       "overflow_x": null,
       "overflow_y": null,
       "padding": null,
       "right": null,
       "top": null,
       "visibility": null,
       "width": null
      }
     },
     "9d44d4e866b0471180bf102d0bcc3bdb": {
      "model_module": "@jupyter-widgets/controls",
      "model_module_version": "1.5.0",
      "model_name": "FloatProgressModel",
      "state": {
       "_dom_classes": [],
       "_model_module": "@jupyter-widgets/controls",
       "_model_module_version": "1.5.0",
       "_model_name": "FloatProgressModel",
       "_view_count": null,
       "_view_module": "@jupyter-widgets/controls",
       "_view_module_version": "1.5.0",
       "_view_name": "ProgressView",
       "bar_style": "success",
       "description": "",
       "description_tooltip": null,
       "layout": "IPY_MODEL_7efad9e075674296b0a47b3434715748",
       "max": 46830571,
       "min": 0,
       "orientation": "horizontal",
       "style": "IPY_MODEL_285161d46e8843c4abcc0b26a2a25acc",
       "value": 46830571
      }
     },
     "bf3b14f031b44700a9cbd6ace9165723": {
      "model_module": "@jupyter-widgets/controls",
      "model_module_version": "1.5.0",
      "model_name": "HTMLModel",
      "state": {
       "_dom_classes": [],
       "_model_module": "@jupyter-widgets/controls",
       "_model_module_version": "1.5.0",
       "_model_name": "HTMLModel",
       "_view_count": null,
       "_view_module": "@jupyter-widgets/controls",
       "_view_module_version": "1.5.0",
       "_view_name": "HTMLView",
       "description": "",
       "description_tooltip": null,
       "layout": "IPY_MODEL_eebc392aa2b14e3390e321cd3ced7b5a",
       "placeholder": "​",
       "style": "IPY_MODEL_8a02eeda931a461fa179126646bfcee2",
       "value": "100%"
      }
     },
     "ce354c63b0794a0d8379d92f77666369": {
      "model_module": "@jupyter-widgets/base",
      "model_module_version": "1.2.0",
      "model_name": "LayoutModel",
      "state": {
       "_model_module": "@jupyter-widgets/base",
       "_model_module_version": "1.2.0",
       "_model_name": "LayoutModel",
       "_view_count": null,
       "_view_module": "@jupyter-widgets/base",
       "_view_module_version": "1.2.0",
       "_view_name": "LayoutView",
       "align_content": null,
       "align_items": null,
       "align_self": null,
       "border": null,
       "bottom": null,
       "display": null,
       "flex": null,
       "flex_flow": null,
       "grid_area": null,
       "grid_auto_columns": null,
       "grid_auto_flow": null,
       "grid_auto_rows": null,
       "grid_column": null,
       "grid_gap": null,
       "grid_row": null,
       "grid_template_areas": null,
       "grid_template_columns": null,
       "grid_template_rows": null,
       "height": null,
       "justify_content": null,
       "justify_items": null,
       "left": null,
       "margin": null,
       "max_height": null,
       "max_width": null,
       "min_height": null,
       "min_width": null,
       "object_fit": null,
       "object_position": null,
       "order": null,
       "overflow": null,
       "overflow_x": null,
       "overflow_y": null,
       "padding": null,
       "right": null,
       "top": null,
       "visibility": null,
       "width": null
      }
     },
     "dfb84892a9314c7991159b1df9eac622": {
      "model_module": "@jupyter-widgets/base",
      "model_module_version": "1.2.0",
      "model_name": "LayoutModel",
      "state": {
       "_model_module": "@jupyter-widgets/base",
       "_model_module_version": "1.2.0",
       "_model_name": "LayoutModel",
       "_view_count": null,
       "_view_module": "@jupyter-widgets/base",
       "_view_module_version": "1.2.0",
       "_view_name": "LayoutView",
       "align_content": null,
       "align_items": null,
       "align_self": null,
       "border": null,
       "bottom": null,
       "display": null,
       "flex": null,
       "flex_flow": null,
       "grid_area": null,
       "grid_auto_columns": null,
       "grid_auto_flow": null,
       "grid_auto_rows": null,
       "grid_column": null,
       "grid_gap": null,
       "grid_row": null,
       "grid_template_areas": null,
       "grid_template_columns": null,
       "grid_template_rows": null,
       "height": null,
       "justify_content": null,
       "justify_items": null,
       "left": null,
       "margin": null,
       "max_height": null,
       "max_width": null,
       "min_height": null,
       "min_width": null,
       "object_fit": null,
       "object_position": null,
       "order": null,
       "overflow": null,
       "overflow_x": null,
       "overflow_y": null,
       "padding": null,
       "right": null,
       "top": null,
       "visibility": null,
       "width": null
      }
     },
     "ee10bb740084453db17e2c2f69d2c3da": {
      "model_module": "@jupyter-widgets/controls",
      "model_module_version": "1.5.0",
      "model_name": "DescriptionStyleModel",
      "state": {
       "_model_module": "@jupyter-widgets/controls",
       "_model_module_version": "1.5.0",
       "_model_name": "DescriptionStyleModel",
       "_view_count": null,
       "_view_module": "@jupyter-widgets/base",
       "_view_module_version": "1.2.0",
       "_view_name": "StyleView",
       "description_width": ""
      }
     },
     "eebc392aa2b14e3390e321cd3ced7b5a": {
      "model_module": "@jupyter-widgets/base",
      "model_module_version": "1.2.0",
      "model_name": "LayoutModel",
      "state": {
       "_model_module": "@jupyter-widgets/base",
       "_model_module_version": "1.2.0",
       "_model_name": "LayoutModel",
       "_view_count": null,
       "_view_module": "@jupyter-widgets/base",
       "_view_module_version": "1.2.0",
       "_view_name": "LayoutView",
       "align_content": null,
       "align_items": null,
       "align_self": null,
       "border": null,
       "bottom": null,
       "display": null,
       "flex": null,
       "flex_flow": null,
       "grid_area": null,
       "grid_auto_columns": null,
       "grid_auto_flow": null,
       "grid_auto_rows": null,
       "grid_column": null,
       "grid_gap": null,
       "grid_row": null,
       "grid_template_areas": null,
       "grid_template_columns": null,
       "grid_template_rows": null,
       "height": null,
       "justify_content": null,
       "justify_items": null,
       "left": null,
       "margin": null,
       "max_height": null,
       "max_width": null,
       "min_height": null,
       "min_width": null,
       "object_fit": null,
       "object_position": null,
       "order": null,
       "overflow": null,
       "overflow_x": null,
       "overflow_y": null,
       "padding": null,
       "right": null,
       "top": null,
       "visibility": null,
       "width": null
      }
     },
     "f094f554d3f64676aedd497dc6618c1c": {
      "model_module": "@jupyter-widgets/controls",
      "model_module_version": "1.5.0",
      "model_name": "HBoxModel",
      "state": {
       "_dom_classes": [],
       "_model_module": "@jupyter-widgets/controls",
       "_model_module_version": "1.5.0",
       "_model_name": "HBoxModel",
       "_view_count": null,
       "_view_module": "@jupyter-widgets/controls",
       "_view_module_version": "1.5.0",
       "_view_name": "HBoxView",
       "box_style": "",
       "children": [
        "IPY_MODEL_37a368ff135a41e1b123ece9b92928e9",
        "IPY_MODEL_89359295659e414b8febc160d590d8f4",
        "IPY_MODEL_5b12a2678ec64df693133d8565cfc8da"
       ],
       "layout": "IPY_MODEL_74e00c99e82a488385fca4b8e9d2eb30"
      }
     },
     "f4c47887c7614cc59836e9c1e78f9762": {
      "model_module": "@jupyter-widgets/base",
      "model_module_version": "1.2.0",
      "model_name": "LayoutModel",
      "state": {
       "_model_module": "@jupyter-widgets/base",
       "_model_module_version": "1.2.0",
       "_model_name": "LayoutModel",
       "_view_count": null,
       "_view_module": "@jupyter-widgets/base",
       "_view_module_version": "1.2.0",
       "_view_name": "LayoutView",
       "align_content": null,
       "align_items": null,
       "align_self": null,
       "border": null,
       "bottom": null,
       "display": null,
       "flex": null,
       "flex_flow": null,
       "grid_area": null,
       "grid_auto_columns": null,
       "grid_auto_flow": null,
       "grid_auto_rows": null,
       "grid_column": null,
       "grid_gap": null,
       "grid_row": null,
       "grid_template_areas": null,
       "grid_template_columns": null,
       "grid_template_rows": null,
       "height": null,
       "justify_content": null,
       "justify_items": null,
       "left": null,
       "margin": null,
       "max_height": null,
       "max_width": null,
       "min_height": null,
       "min_width": null,
       "object_fit": null,
       "object_position": null,
       "order": null,
       "overflow": null,
       "overflow_x": null,
       "overflow_y": null,
       "padding": null,
       "right": null,
       "top": null,
       "visibility": null,
       "width": null
      }
     },
     "ff9759049d5f4682aa3308248f9ba38e": {
      "model_module": "@jupyter-widgets/base",
      "model_module_version": "1.2.0",
      "model_name": "LayoutModel",
      "state": {
       "_model_module": "@jupyter-widgets/base",
       "_model_module_version": "1.2.0",
       "_model_name": "LayoutModel",
       "_view_count": null,
       "_view_module": "@jupyter-widgets/base",
       "_view_module_version": "1.2.0",
       "_view_name": "LayoutView",
       "align_content": null,
       "align_items": null,
       "align_self": null,
       "border": null,
       "bottom": null,
       "display": null,
       "flex": null,
       "flex_flow": null,
       "grid_area": null,
       "grid_auto_columns": null,
       "grid_auto_flow": null,
       "grid_auto_rows": null,
       "grid_column": null,
       "grid_gap": null,
       "grid_row": null,
       "grid_template_areas": null,
       "grid_template_columns": null,
       "grid_template_rows": null,
       "height": null,
       "justify_content": null,
       "justify_items": null,
       "left": null,
       "margin": null,
       "max_height": null,
       "max_width": null,
       "min_height": null,
       "min_width": null,
       "object_fit": null,
       "object_position": null,
       "order": null,
       "overflow": null,
       "overflow_x": null,
       "overflow_y": null,
       "padding": null,
       "right": null,
       "top": null,
       "visibility": null,
       "width": null
      }
     }
    },
    "version_major": 2,
    "version_minor": 0
   }
  }
 },
 "nbformat": 4,
 "nbformat_minor": 5
}

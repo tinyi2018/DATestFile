{
 "cells": [
  {
   "cell_type": "code",
   "execution_count": 14,
   "metadata": {},
   "outputs": [
    {
     "data": {
      "text/plain": [
       "('2.0.1+cu117', '1.21.5', '1.2.4')"
      ]
     },
     "execution_count": 14,
     "metadata": {},
     "output_type": "execute_result"
    }
   ],
   "source": [
    "import numpy as np\n",
    "import pandas as pd\n",
    "import torch\n",
    "from torch import nn\n",
    "from torch.nn import functional as F\n",
    "from d2l import torch as d2l\n",
    "from torchsummary import summary\n",
    "\n",
    "torch.__version__, np.__version__, pd.__version__"
   ]
  },
  {
   "cell_type": "code",
   "execution_count": 15,
   "metadata": {},
   "outputs": [
    {
     "name": "stdout",
     "output_type": "stream",
     "text": [
      "current device :  cuda:0\n"
     ]
    }
   ],
   "source": [
    "focue_CPU = False\n",
    "#focue_CPU = True\n",
    "\n",
    "def get_device():\n",
    "    curr_dev = torch.device(\"cpu\")\n",
    "    if focue_CPU == True:\n",
    "        curr_dev = torch.device(\"cpu\")\n",
    "    else:\n",
    "        curr_dev = torch.device(\"cuda:0\" if torch.cuda.is_available() else \"cpu\")\n",
    "    return curr_dev\n",
    "\n",
    "curr_device = get_device()\n",
    "print(\"current device : \", curr_device)\n",
    "#currr_device = torch.device(\"cpu\")"
   ]
  },
  {
   "cell_type": "code",
   "execution_count": null,
   "metadata": {},
   "outputs": [],
   "source": []
  },
  {
   "attachments": {},
   "cell_type": "markdown",
   "metadata": {},
   "source": [
    "残差块， 此代码生成两种类型的网络： 一种是当use_1x1conv=False时，应用ReLU非线性函数之前，将输入添加到输出。 另一种是当use_1x1conv=True时，添加通过\n",
    "卷积调整通道和分辨率。"
   ]
  },
  {
   "cell_type": "code",
   "execution_count": 16,
   "metadata": {},
   "outputs": [],
   "source": [
    "class Residual(nn.Module):\n",
    "    def __init__(self, input_channels, num_channels, use_1x1conv = False, strides =1):\n",
    "        super().__init__()\n",
    "        self.conv1 = nn.Conv2d(input_channels,num_channels,kernel_size=3, padding=1,stride=strides)\n",
    "        self.bn1 = nn.BatchNorm2d(num_channels)\n",
    "        self.conv2 = nn.Conv2d(num_channels,num_channels,kernel_size=3, padding=1,)\n",
    "        self.bn2 = nn.BatchNorm2d(num_channels)\n",
    "\n",
    "        if use_1x1conv:\n",
    "            self.conv3 = nn.Conv2d(input_channels,num_channels, kernel_size=1, stride=strides)\n",
    "        else:\n",
    "            self.conv3 = None\n",
    "    \n",
    "    def forward(self, X):\n",
    "        Y = self.conv1(X)\n",
    "        Y = self.bn1(Y)\n",
    "        Y = F.relu(Y)\n",
    "        Y = self.conv2(Y)\n",
    "        Y = self.bn2(Y)\n",
    "\n",
    "        if self.conv3:\n",
    "            X = self.conv3(X)\n",
    "        Y += X\n",
    "        \n",
    "        Y = F.relu(Y)\n",
    "        return Y\n",
    "    "
   ]
  },
  {
   "cell_type": "code",
   "execution_count": 17,
   "metadata": {},
   "outputs": [
    {
     "data": {
      "text/plain": [
       "torch.Size([4, 3, 6, 6])"
      ]
     },
     "execution_count": 17,
     "metadata": {},
     "output_type": "execute_result"
    }
   ],
   "source": [
    "X = torch.rand(4,3,6,6)\n",
    "X.shape"
   ]
  },
  {
   "cell_type": "code",
   "execution_count": 18,
   "metadata": {},
   "outputs": [
    {
     "data": {
      "text/plain": [
       "tensor([[[[0.7416, 0.7291, 0.9835, 0.7133, 0.1973, 0.2975],\n",
       "          [0.0790, 0.5636, 0.8449, 0.2952, 0.3250, 0.0426],\n",
       "          [0.6782, 0.0596, 0.6338, 0.8064, 0.0425, 0.7615],\n",
       "          [0.1581, 0.8710, 0.2313, 0.4694, 0.0579, 0.4571],\n",
       "          [0.3981, 0.0747, 0.7654, 0.4609, 0.1881, 0.8554],\n",
       "          [0.6245, 0.8420, 0.1658, 0.8097, 0.2662, 0.0670]],\n",
       "\n",
       "         [[0.6067, 0.3294, 0.4620, 0.6909, 0.4530, 0.5104],\n",
       "          [0.7359, 0.7488, 0.4599, 0.5737, 0.1995, 0.8910],\n",
       "          [0.6521, 0.5742, 0.0155, 0.1807, 0.1966, 0.0634],\n",
       "          [0.6160, 0.9850, 0.3736, 0.7348, 0.6956, 0.9504],\n",
       "          [0.2790, 0.2419, 0.7334, 0.7819, 0.9091, 0.4606],\n",
       "          [0.9278, 0.7353, 0.4115, 0.1779, 0.3135, 0.9706]],\n",
       "\n",
       "         [[0.5418, 0.0868, 0.1191, 0.8510, 0.6750, 0.2867],\n",
       "          [0.9639, 0.9688, 0.0916, 0.5213, 0.3677, 0.9330],\n",
       "          [0.9594, 0.4953, 0.9981, 0.3980, 0.2613, 0.9494],\n",
       "          [0.4724, 0.1637, 0.0898, 0.0025, 0.3053, 0.3971],\n",
       "          [0.0795, 0.5246, 0.6940, 0.7729, 0.6305, 0.6942],\n",
       "          [0.8122, 0.6469, 0.6926, 0.4984, 0.2631, 0.3286]]],\n",
       "\n",
       "\n",
       "        [[[0.5801, 0.8542, 0.7639, 0.3855, 0.7833, 0.9144],\n",
       "          [0.0018, 0.1552, 0.2781, 0.8898, 0.3882, 0.3916],\n",
       "          [0.6704, 0.1439, 0.6405, 0.6672, 0.4700, 0.7461],\n",
       "          [0.1680, 0.5734, 0.1103, 0.4254, 0.8327, 0.4542],\n",
       "          [0.6225, 0.0579, 0.0211, 0.2935, 0.1468, 0.2928],\n",
       "          [0.7671, 0.6665, 0.2558, 0.7286, 0.6838, 0.8852]],\n",
       "\n",
       "         [[0.0240, 0.6392, 0.5880, 0.7112, 0.5099, 0.2223],\n",
       "          [0.8394, 0.7542, 0.4899, 0.9091, 0.7424, 0.9709],\n",
       "          [0.1203, 0.7654, 0.7277, 0.2776, 0.2200, 0.3475],\n",
       "          [0.6831, 0.3894, 0.6314, 0.4417, 0.3542, 0.0645],\n",
       "          [0.2109, 0.9352, 0.9569, 0.6407, 0.3968, 0.3024],\n",
       "          [0.3912, 0.7990, 0.2128, 0.1624, 0.4745, 0.0606]],\n",
       "\n",
       "         [[0.8385, 0.4018, 0.6383, 0.8206, 0.9119, 0.4482],\n",
       "          [0.4746, 0.3099, 0.4415, 0.8408, 0.2417, 0.4485],\n",
       "          [0.4057, 0.5676, 0.7615, 0.4623, 0.7344, 0.1574],\n",
       "          [0.6632, 0.8346, 0.4597, 0.5961, 0.0379, 0.6976],\n",
       "          [0.8493, 0.4373, 0.9546, 0.4134, 0.3081, 0.9101],\n",
       "          [0.0411, 0.4888, 0.9399, 0.3503, 0.3623, 0.6439]]],\n",
       "\n",
       "\n",
       "        [[[0.7923, 0.1593, 0.8512, 0.4698, 0.5462, 0.0929],\n",
       "          [0.0686, 0.6390, 0.6849, 0.9192, 0.3433, 0.5353],\n",
       "          [0.3926, 0.5548, 0.1532, 0.6843, 0.3424, 0.2271],\n",
       "          [0.0417, 0.7159, 0.9339, 0.4662, 0.8477, 0.2879],\n",
       "          [0.0164, 0.2730, 0.7785, 0.6716, 0.3054, 0.0808],\n",
       "          [0.3635, 0.7326, 0.9532, 0.8779, 0.9074, 0.7835]],\n",
       "\n",
       "         [[0.5111, 0.9770, 0.3673, 0.3678, 0.1389, 0.8357],\n",
       "          [0.1721, 0.1885, 0.5268, 0.7433, 0.4477, 0.2699],\n",
       "          [0.2530, 0.2376, 0.6294, 0.5892, 0.8318, 0.4677],\n",
       "          [0.4849, 0.2853, 0.7195, 0.4266, 0.4794, 0.4873],\n",
       "          [0.1603, 0.3578, 0.6493, 0.9973, 0.8892, 0.2037],\n",
       "          [0.1158, 0.5515, 0.4836, 0.4431, 0.7491, 0.3894]],\n",
       "\n",
       "         [[0.8242, 0.0888, 0.3471, 0.3586, 0.6010, 0.7438],\n",
       "          [0.8140, 0.9238, 0.1956, 0.6070, 0.4400, 0.7526],\n",
       "          [0.0887, 0.1371, 0.7060, 0.3766, 0.6118, 0.1457],\n",
       "          [0.5046, 0.3934, 0.3957, 0.9650, 0.4737, 0.4144],\n",
       "          [0.6423, 0.7116, 0.4138, 0.0913, 0.6176, 0.6885],\n",
       "          [0.9705, 0.2261, 0.3107, 0.5633, 0.0016, 0.2291]]],\n",
       "\n",
       "\n",
       "        [[[0.6668, 0.6458, 0.8834, 0.6990, 0.2736, 0.5646],\n",
       "          [0.8364, 0.5465, 0.7318, 0.3218, 0.8964, 0.0179],\n",
       "          [0.0065, 0.2355, 0.4293, 0.0560, 0.6004, 0.2302],\n",
       "          [0.8269, 0.6888, 0.0645, 0.4578, 0.3474, 0.5386],\n",
       "          [0.5501, 0.2942, 0.9005, 0.5780, 0.0117, 0.0216],\n",
       "          [0.5707, 0.5329, 0.3022, 0.2431, 0.7125, 0.6479]],\n",
       "\n",
       "         [[0.2322, 0.6644, 0.2347, 0.6584, 0.5237, 0.4360],\n",
       "          [0.5324, 0.5307, 0.9330, 0.3005, 0.6556, 0.5687],\n",
       "          [0.7581, 0.0185, 0.7704, 0.0624, 0.5879, 0.4711],\n",
       "          [0.9013, 0.7515, 0.6343, 0.5311, 0.7974, 0.1160],\n",
       "          [0.3721, 0.3694, 0.9417, 0.4350, 0.4128, 0.8764],\n",
       "          [0.9950, 0.4190, 0.7300, 0.2394, 0.1682, 0.3623]],\n",
       "\n",
       "         [[0.0596, 0.7784, 0.5902, 0.1561, 0.6026, 0.9804],\n",
       "          [0.3662, 0.2378, 0.9516, 0.5430, 0.8714, 0.4052],\n",
       "          [0.5082, 0.0367, 0.9730, 0.2466, 0.0904, 0.7767],\n",
       "          [0.3588, 0.5907, 0.5019, 0.1882, 0.1299, 0.5866],\n",
       "          [0.9815, 0.9923, 0.5952, 0.3381, 0.6526, 0.7849],\n",
       "          [0.2704, 0.0539, 0.1715, 0.3330, 0.4719, 0.0645]]]])"
      ]
     },
     "execution_count": 18,
     "metadata": {},
     "output_type": "execute_result"
    }
   ],
   "source": [
    "X"
   ]
  },
  {
   "cell_type": "code",
   "execution_count": 19,
   "metadata": {},
   "outputs": [
    {
     "data": {
      "text/plain": [
       "torch.Size([4, 9, 3, 3])"
      ]
     },
     "execution_count": 19,
     "metadata": {},
     "output_type": "execute_result"
    }
   ],
   "source": [
    "blk = Residual(3,9,use_1x1conv=True, strides=2)\n",
    "Y = blk(X)\n",
    "Y.shape"
   ]
  },
  {
   "attachments": {},
   "cell_type": "markdown",
   "metadata": {},
   "source": [
    "ResNet 模块"
   ]
  },
  {
   "cell_type": "code",
   "execution_count": 20,
   "metadata": {},
   "outputs": [],
   "source": []
  },
  {
   "cell_type": "code",
   "execution_count": 21,
   "metadata": {},
   "outputs": [],
   "source": [
    "def resnet_block(input_channels, num_channels, num_residuals, first_block = False):\n",
    "    blk = []\n",
    "    for i in range(num_residuals):\n",
    "        if i ==0 and not first_block:\n",
    "            blk.append(Residual(input_channels, num_channels, use_1x1conv=True, strides=2))\n",
    "        else:\n",
    "            blk.append(Residual(num_channels, num_channels))\n",
    "    return blk"
   ]
  },
  {
   "cell_type": "code",
   "execution_count": 22,
   "metadata": {},
   "outputs": [],
   "source": []
  },
  {
   "attachments": {},
   "cell_type": "markdown",
   "metadata": {},
   "source": [
    "Residual Net"
   ]
  },
  {
   "cell_type": "code",
   "execution_count": 35,
   "metadata": {},
   "outputs": [],
   "source": [
    "def residualNet( in_channels=1, num_classes =10):\n",
    "    \n",
    "    b1 =nn.Sequential(nn.Conv2d(in_channels,64, kernel_size=7, stride=2, padding=3),\n",
    "                  nn.BatchNorm2d(64), nn.ReLU(),\n",
    "                  nn.MaxPool2d(kernel_size=3, stride= 2, padding=1)                  \n",
    "                  )\n",
    "    b2 = nn.Sequential(*resnet_block(64,64,2,first_block=True))\n",
    "    b3 = nn.Sequential(*resnet_block(64,128,2))\n",
    "    b4 = nn.Sequential(*resnet_block(128,256,2))\n",
    "    b5 = nn.Sequential(*resnet_block(256,512,2))\n",
    "    net = nn.Sequential(b1, b2,b3,b4,b5, \n",
    "                        nn.AdaptiveAvgPool2d((1,1)),\n",
    "                        nn.Flatten(),\n",
    "                        nn.Linear(512,num_classes))\n",
    "    return net"
   ]
  },
  {
   "cell_type": "code",
   "execution_count": 41,
   "metadata": {},
   "outputs": [],
   "source": [
    "net = residualNet(3,10)"
   ]
  },
  {
   "cell_type": "code",
   "execution_count": 48,
   "metadata": {},
   "outputs": [],
   "source": [
    "X = torch.rand(1,3,244,244)"
   ]
  },
  {
   "cell_type": "code",
   "execution_count": 49,
   "metadata": {},
   "outputs": [
    {
     "data": {
      "text/plain": [
       "tensor([[ 0.0781, -1.1674,  1.0902,  0.3165,  0.3017, -0.0799,  0.1147, -0.1893,\n",
       "         -0.1398, -0.1650]], grad_fn=<AddmmBackward0>)"
      ]
     },
     "execution_count": 49,
     "metadata": {},
     "output_type": "execute_result"
    }
   ],
   "source": [
    "Y = net(X)\n",
    "Y"
   ]
  },
  {
   "cell_type": "code",
   "execution_count": 39,
   "metadata": {},
   "outputs": [
    {
     "name": "stdout",
     "output_type": "stream",
     "text": [
      "----------------------------------------------------------------\n",
      "        Layer (type)               Output Shape         Param #\n",
      "================================================================\n",
      "            Conv2d-1         [-1, 64, 122, 122]           3,200\n",
      "       BatchNorm2d-2         [-1, 64, 122, 122]             128\n",
      "              ReLU-3         [-1, 64, 122, 122]               0\n",
      "         MaxPool2d-4           [-1, 64, 61, 61]               0\n",
      "            Conv2d-5           [-1, 64, 61, 61]          36,928\n",
      "       BatchNorm2d-6           [-1, 64, 61, 61]             128\n",
      "            Conv2d-7           [-1, 64, 61, 61]          36,928\n",
      "       BatchNorm2d-8           [-1, 64, 61, 61]             128\n",
      "          Residual-9           [-1, 64, 61, 61]               0\n",
      "           Conv2d-10           [-1, 64, 61, 61]          36,928\n",
      "      BatchNorm2d-11           [-1, 64, 61, 61]             128\n",
      "           Conv2d-12           [-1, 64, 61, 61]          36,928\n",
      "      BatchNorm2d-13           [-1, 64, 61, 61]             128\n",
      "         Residual-14           [-1, 64, 61, 61]               0\n",
      "           Conv2d-15          [-1, 128, 31, 31]          73,856\n",
      "      BatchNorm2d-16          [-1, 128, 31, 31]             256\n",
      "           Conv2d-17          [-1, 128, 31, 31]         147,584\n",
      "      BatchNorm2d-18          [-1, 128, 31, 31]             256\n",
      "           Conv2d-19          [-1, 128, 31, 31]           8,320\n",
      "         Residual-20          [-1, 128, 31, 31]               0\n",
      "           Conv2d-21          [-1, 128, 31, 31]         147,584\n",
      "      BatchNorm2d-22          [-1, 128, 31, 31]             256\n",
      "           Conv2d-23          [-1, 128, 31, 31]         147,584\n",
      "      BatchNorm2d-24          [-1, 128, 31, 31]             256\n",
      "         Residual-25          [-1, 128, 31, 31]               0\n",
      "           Conv2d-26          [-1, 256, 16, 16]         295,168\n",
      "      BatchNorm2d-27          [-1, 256, 16, 16]             512\n",
      "           Conv2d-28          [-1, 256, 16, 16]         590,080\n",
      "      BatchNorm2d-29          [-1, 256, 16, 16]             512\n",
      "           Conv2d-30          [-1, 256, 16, 16]          33,024\n",
      "         Residual-31          [-1, 256, 16, 16]               0\n",
      "           Conv2d-32          [-1, 256, 16, 16]         590,080\n",
      "      BatchNorm2d-33          [-1, 256, 16, 16]             512\n",
      "           Conv2d-34          [-1, 256, 16, 16]         590,080\n",
      "      BatchNorm2d-35          [-1, 256, 16, 16]             512\n",
      "         Residual-36          [-1, 256, 16, 16]               0\n",
      "           Conv2d-37            [-1, 512, 8, 8]       1,180,160\n",
      "      BatchNorm2d-38            [-1, 512, 8, 8]           1,024\n",
      "           Conv2d-39            [-1, 512, 8, 8]       2,359,808\n",
      "      BatchNorm2d-40            [-1, 512, 8, 8]           1,024\n",
      "           Conv2d-41            [-1, 512, 8, 8]         131,584\n",
      "         Residual-42            [-1, 512, 8, 8]               0\n",
      "           Conv2d-43            [-1, 512, 8, 8]       2,359,808\n",
      "      BatchNorm2d-44            [-1, 512, 8, 8]           1,024\n",
      "           Conv2d-45            [-1, 512, 8, 8]       2,359,808\n",
      "      BatchNorm2d-46            [-1, 512, 8, 8]           1,024\n",
      "         Residual-47            [-1, 512, 8, 8]               0\n",
      "AdaptiveAvgPool2d-48            [-1, 512, 1, 1]               0\n",
      "          Flatten-49                  [-1, 512]               0\n",
      "           Linear-50                   [-1, 10]           5,130\n",
      "================================================================\n",
      "Total params: 11,178,378\n",
      "Trainable params: 11,178,378\n",
      "Non-trainable params: 0\n",
      "----------------------------------------------------------------\n",
      "Input size (MB): 0.23\n",
      "Forward/backward pass size (MB): 60.37\n",
      "Params size (MB): 42.64\n",
      "Estimated Total Size (MB): 103.24\n",
      "----------------------------------------------------------------\n"
     ]
    }
   ],
   "source": [
    "summary(net,(1,244,244),device='cpu')"
   ]
  },
  {
   "cell_type": "code",
   "execution_count": 40,
   "metadata": {},
   "outputs": [
    {
     "name": "stdout",
     "output_type": "stream",
     "text": [
      "Sequential output shape:\t torch.Size([1, 64, 56, 56])\n",
      "Sequential output shape:\t torch.Size([1, 64, 56, 56])\n",
      "Sequential output shape:\t torch.Size([1, 128, 28, 28])\n",
      "Sequential output shape:\t torch.Size([1, 256, 14, 14])\n",
      "Sequential output shape:\t torch.Size([1, 512, 7, 7])\n",
      "AdaptiveAvgPool2d output shape:\t torch.Size([1, 512, 1, 1])\n",
      "Flatten output shape:\t torch.Size([1, 512])\n",
      "Linear output shape:\t torch.Size([1, 10])\n"
     ]
    }
   ],
   "source": [
    "X = torch.rand(size=(1, 1, 224, 224))\n",
    "for layer in net:\n",
    "    X = layer(X)\n",
    "    print(layer.__class__.__name__,'output shape:\\t', X.shape)"
   ]
  }
 ],
 "metadata": {
  "kernelspec": {
   "display_name": "d2l",
   "language": "python",
   "name": "python3"
  },
  "language_info": {
   "codemirror_mode": {
    "name": "ipython",
    "version": 3
   },
   "file_extension": ".py",
   "mimetype": "text/x-python",
   "name": "python",
   "nbconvert_exporter": "python",
   "pygments_lexer": "ipython3",
   "version": "3.8.16"
  },
  "orig_nbformat": 4
 },
 "nbformat": 4,
 "nbformat_minor": 2
}

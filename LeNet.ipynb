{
 "cells": [
  {
   "cell_type": "code",
   "execution_count": 6,
   "metadata": {},
   "outputs": [],
   "source": [
    "import numpy as np\n",
    "import pandas as pd\n",
    "import torch\n",
    "from torch import nn\n",
    "from d2l import torch as d2l\n",
    "from torch.utils import data\n",
    "\n",
    "from collections import Counter\n",
    "import unicodedata\n",
    "%matplotlib inline"
   ]
  },
  {
   "cell_type": "code",
   "execution_count": 7,
   "metadata": {},
   "outputs": [
    {
     "name": "stdout",
     "output_type": "stream",
     "text": [
      "current device :  cuda:0\n"
     ]
    }
   ],
   "source": [
    "focue_CPU = False\n",
    "#focue_CPU = True\n",
    "\n",
    "def get_device():\n",
    "    curr_dev = torch.device(\"cpu\")\n",
    "    if focue_CPU == True:\n",
    "        curr_dev = torch.device(\"cpu\")\n",
    "    else:\n",
    "        curr_dev = torch.device(\"cuda:0\" if torch.cuda.is_available() else \"cpu\")\n",
    "    return curr_dev\n",
    "\n",
    "curr_device = get_device()\n",
    "print(\"current device : \", curr_device)\n",
    "#currr_device = torch.device(\"cpu\")"
   ]
  }
 ],
 "metadata": {
  "kernelspec": {
   "display_name": "d2l",
   "language": "python",
   "name": "python3"
  },
  "language_info": {
   "codemirror_mode": {
    "name": "ipython",
    "version": 3
   },
   "file_extension": ".py",
   "mimetype": "text/x-python",
   "name": "python",
   "nbconvert_exporter": "python",
   "pygments_lexer": "ipython3",
   "version": "3.8.16"
  },
  "orig_nbformat": 4
 },
 "nbformat": 4,
 "nbformat_minor": 2
}
